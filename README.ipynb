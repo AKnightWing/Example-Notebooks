{
 "cells": [
  {
   "cell_type": "code",
   "execution_count": 30,
   "metadata": {
    "collapsed": false
   },
   "outputs": [
    {
     "name": "stdout",
     "output_type": "stream",
     "text": [
      "Cloning into 'persistent/examples9'...\n",
      "remote: Counting objects: 255, done.\u001b[K\n",
      "remote: Compressing objects: 100% (9/9), done.\u001b[K\n",
      "remote: Total 255 (delta 3), reused 10 (delta 3), pack-reused 242\u001b[K\n",
      "Receiving objects: 100% (255/255), 13.59 MiB | 7.90 MiB/s, done.\n",
      "Resolving deltas: 100% (119/119), done.\n",
      "\n",
      "\n",
      "Example notebooks downloaded\n"
     ]
    },
    {
     "data": {
      "text/html": [
       "<h2>Welcome to SciServer Compute's example notebooks!</h2>\n",
       "\n",
       "<p>This repository contains example notebooks that can help you start using SciServer for your data science and science education projects. Follow the instructions below to install the example notebooks in one of your containers. You can modify the notebooks to suit your needs, but if you do we recommend that you copy them into a new folder so you can update the original example notebooks from our repository as needed.</p>\n",
       "\n",
       "<p>To install the example notebooks in a new container, open the file README.ipynb. Click on the second code box, then click the Play button to run those commands.</p>\n",
       "\n",
       "<p>If you have questions, please email sciserver-helpdesk@jhu.edu.</p>"
      ],
      "text/plain": [
       "<IPython.core.display.HTML object>"
      ]
     },
     "execution_count": 30,
     "metadata": {},
     "output_type": "execute_result"
    }
   ],
   "source": [
    "# ONLY RUN THIS ONCE!\n",
    "# installs example notebooks\n",
    "from IPython.core.display import HTML\n",
    "!git clone https://github.com/sciserver/Notebooks persistent/examples9/\n",
    "print('\\n')\n",
    "print('Example notebooks downloaded')\n",
    "HTML(url='https://raw.githubusercontent.com/sciserver/Example-Notebooks/master/README.md')"
   ]
  },
  {
   "cell_type": "code",
   "execution_count": null,
   "metadata": {
    "collapsed": true
   },
   "outputs": [],
   "source": []
  }
 ],
 "metadata": {
  "kernelspec": {
   "display_name": "Python 3",
   "language": "python",
   "name": "python3"
  },
  "language_info": {
   "codemirror_mode": {
    "name": "ipython",
    "version": 3
   },
   "file_extension": ".py",
   "mimetype": "text/x-python",
   "name": "python",
   "nbconvert_exporter": "python",
   "pygments_lexer": "ipython3",
   "version": "3.5.3"
  }
 },
 "nbformat": 4,
 "nbformat_minor": 0
}
