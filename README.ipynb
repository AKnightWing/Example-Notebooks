{
 "cells": [
  {
   "cell_type": "code",
   "execution_count": 1,
   "metadata": {
    "collapsed": false,
    "scrolled": true
   },
   "outputs": [
    {
     "data": {
      "text/plain": [
       "<h2>Welcome to SkyServer Compute's example notebooks!</h2>\n",
       "<p>This repository contains example notebooks that can help you start using SciServer for your data science and science education projects. Follow the instructions below to install the example notebooks in one of your containers. You can modify the notebooks to suit your needs, but if you do we recommend that you copy them into a new folder so you can update the original example notebooks from our repository as needed.</p>\n",
       "<p>To install the example notebooks in a new container, open the file README.ipynb. Click on the second code box, then click the Play button to run those commands.</p>\n",
       "<p>If you have questions, please email sciserver-helpdesk@jhu.edu.</p>"
      ]
     },
     "execution_count": 1,
     "metadata": {},
     "output_type": "execute_result"
    }
   ],
   "source": [
    "# run this box to display introductory information about the Example Notebooks\n",
    "import urllib.request\n",
    "from bs4 import BeautifulSoup\n",
    "req = urllib.request.Request('https://raw.githubusercontent.com/sciserver/Example-Notebooks/master/README.md')\n",
    "with urllib.request.urlopen(req) as response:\n",
    "   the_page = response.read()\n",
    "soup = BeautifulSoup(the_page,'html.parser')\n",
    "soup"
   ]
  },
  {
   "cell_type": "code",
   "execution_count": 3,
   "metadata": {
    "collapsed": false
   },
   "outputs": [
    {
     "name": "stdout",
     "output_type": "stream",
     "text": [
      "Cloning into 'persistent/examples7'...\n",
      "remote: Counting objects: 255, done.\u001b[K\n",
      "remote: Compressing objects: 100% (9/9), done.\u001b[K\n",
      "remote: Total 255 (delta 3), reused 10 (delta 3), pack-reused 242\u001b[K\n",
      "Receiving objects: 100% (255/255), 13.59 MiB | 14.56 MiB/s, done.\n",
      "Resolving deltas: 100% (119/119), done.\n",
      "\n",
      "\n",
      "Example notebooks downloaded\n"
     ]
    }
   ],
   "source": [
    "# This is the second code box.\n",
    "# Run this box to download example notebooks into a new directory called 'examples' in your persistent foler\n",
    "# Run this command only once, when you install the example notebooks for the first time!\n",
    "# If you need to update the notebooks later, see the Update instructions.\n",
    "# (Note: you can change the default install location by changing the \"persistent/examples\" statement below.\n",
    "!git clone https://github.com/sciserver/Notebooks persistent/examples/\n",
    "print('\\n')\n",
    "print('Example notebooks downloaded')"
   ]
  },
  {
   "cell_type": "code",
   "execution_count": null,
   "metadata": {
    "collapsed": true
   },
   "outputs": [],
   "source": []
  }
 ],
 "metadata": {
  "kernelspec": {
   "display_name": "Python 3",
   "language": "python",
   "name": "python3"
  },
  "language_info": {
   "codemirror_mode": {
    "name": "ipython",
    "version": 3
   },
   "file_extension": ".py",
   "mimetype": "text/x-python",
   "name": "python",
   "nbconvert_exporter": "python",
   "pygments_lexer": "ipython3",
   "version": "3.5.2"
  }
 },
 "nbformat": 4,
 "nbformat_minor": 0
}
