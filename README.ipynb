{
 "cells": [
  {
   "cell_type": "markdown",
   "metadata": {},
   "source": [
    "# Welcome to SciServer Compute's example notebooks!\n",
    "\n",
    "This repository contains example notebooks that can help you start using SciServer for your data science and science education projects. To install the example notebooks in this container, <b>click on the code cell just below this message and press Shift-Enter to run</b>.\n",
    "\n",
    "All the example notebooks will be installed in a directory called \"examples\" inside your persistent folder (you can change the location where they are installed by editing the command in the cell below). You can modify the notebooks to suit your needs, but if you do we recommend that you copy them into a new folder so you can update the original example notebooks from our source as needed.\n",
    "\n",
    "If you have questions, please email <a href=\"mailto:sciserver-helpdesk@jhu.edu\">sciserver-helpdesk@jhu.edu</a>."
   ]
  },
  {
   "cell_type": "code",
   "execution_count": null,
   "metadata": {
    "collapsed": true
   },
   "outputs": [],
   "source": [
    "# ONLY RUN THIS ONCE!\n",
    "# installs example notebooks\n",
    "from IPython.core.display import HTML\n",
    "!git clone https://github.com/sciserver/Notebooks persistent/examples/\n",
    "print('\\n')\n",
    "print('Example notebooks downloaded')\n",
    "HTML(url='https://raw.githubusercontent.com/sciserver/Example-Notebooks/master/README.md')"
   ]
  }
 ],
 "metadata": {
  "kernelspec": {
   "display_name": "Python 3",
   "language": "python",
   "name": "python3"
  },
  "language_info": {
   "codemirror_mode": {
    "name": "ipython",
    "version": 3
   },
   "file_extension": ".py",
   "mimetype": "text/x-python",
   "name": "python",
   "nbconvert_exporter": "python",
   "pygments_lexer": "ipython3",
   "version": "3.5.2"
  }
 },
 "nbformat": 4,
 "nbformat_minor": 0
}
