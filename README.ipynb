{
 "cells": [
  {
   "cell_type": "code",
   "execution_count": 21,
   "metadata": {
    "collapsed": false
   },
   "outputs": [
    {
     "data": {
      "text/plain": [
       "'# Welcome to SciServer Compute \\n## Example-Notebooks\\n'"
      ]
     },
     "execution_count": 21,
     "metadata": {},
     "output_type": "execute_result"
    }
   ],
   "source": [
    "# run this box to display introductory information about the Example Notebooks\n",
    "import urllib.request\n",
    "from bs4 import BeautifulSoup\n",
    "req = urllib.request.Request('https://raw.githubusercontent.com/sciserver/Example-Notebooks/master/README.md')\n",
    "with urllib.request.urlopen(req) as response:\n",
    "   the_page = response.read()\n",
    "soup = BeautifulSoup(the_page,'html.parser')\n",
    "soup.prettify()"
   ]
  },
  {
   "cell_type": "code",
   "execution_count": 20,
   "metadata": {
    "collapsed": false
   },
   "outputs": [
    {
     "name": "stdout",
     "output_type": "stream",
     "text": [
      "Cloning into 'persistent/examples5'...\n",
      "remote: Counting objects: 245, done.\u001b[K\n",
      "remote: Compressing objects: 100% (3/3), done.\u001b[K\n",
      "remote: Total 245 (delta 0), reused 2 (delta 0), pack-reused 242\u001b[K\n",
      "Receiving objects: 100% (245/245), 12.91 MiB | 7.82 MiB/s, done.\n",
      "Resolving deltas: 100% (116/116), done.\n",
      "\n",
      "\n",
      "Example notebooks downloaded into folder: persistent/examples/\n"
     ]
    }
   ],
   "source": [
    "# Run this box to download example notebooks into a new directory called 'examples' in your persistent foler.\n",
    "# Run this only once!\n",
    "# If you need to update the notebooks later, see the Update instructions.\n",
    "!git clone https://github.com/sciserver/Notebooks persistent/examples5\n",
    "print('\\n')\n",
    "print('Example notebooks downloaded into folder: persistent/examples/')"
   ]
  },
  {
   "cell_type": "code",
   "execution_count": null,
   "metadata": {
    "collapsed": true
   },
   "outputs": [],
   "source": []
  }
 ],
 "metadata": {
  "kernelspec": {
   "display_name": "Python 3",
   "language": "python",
   "name": "python3"
  },
  "language_info": {
   "codemirror_mode": {
    "name": "ipython",
    "version": 3
   },
   "file_extension": ".py",
   "mimetype": "text/x-python",
   "name": "python",
   "nbconvert_exporter": "python",
   "pygments_lexer": "ipython3",
   "version": "3.5.3"
  }
 },
 "nbformat": 4,
 "nbformat_minor": 0
}
