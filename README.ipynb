{
 "cells": [
  {
   "cell_type": "code",
   "execution_count": null,
   "metadata": {
    "collapsed": true
   },
   "outputs": [],
   "source": [
    "# run this box to display introductory information about the Example Notebooks\n",
    "import urllib.request\n",
    "from bs4 import BeautifulSoup\n",
    "req = urllib.request.Request('https://raw.githubusercontent.com/sciserver/Example-Notebooks/master/README.md')\n",
    "with urllib.request.urlopen(req) as response:\n",
    "   the_page = response.read()\n",
    "soup = BeautifulSoup(the_page,'html.parser')\n",
    "soup"
   ]
  },
  {
   "cell_type": "code",
   "execution_count": null,
   "metadata": {
    "collapsed": true
   },
   "outputs": [],
   "source": [
    "# This is the second code box.\n",
    "# Run this box to download example notebooks into a new directory called 'examples' in your persistent foler\n",
    "# Run this command only once, when you install the example notebooks for the first time!\n",
    "# If you need to update the notebooks later, see the Update instructions.\n",
    "# (Note: you can change the default install location by changing the \"persistent/examples\" statement below.\n",
    "!git clone https://github.com/sciserver/Notebooks persistent/examples/\n",
    "print('\\n')\n",
    "print('Example notebooks downloaded')"
   ]
  }
 ],
 "metadata": {
  "kernelspec": {
   "display_name": "Python 3",
   "language": "python",
   "name": "python3"
  },
  "language_info": {
   "codemirror_mode": {
    "name": "ipython",
    "version": 3
   },
   "file_extension": ".py",
   "mimetype": "text/x-python",
   "name": "python",
   "nbconvert_exporter": "python",
   "pygments_lexer": "ipython3",
   "version": "3.5.2"
  }
 },
 "nbformat": 4,
 "nbformat_minor": 0
}
