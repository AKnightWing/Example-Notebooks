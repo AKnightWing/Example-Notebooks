{
 "cells": [
  {
   "cell_type": "markdown",
   "metadata": {},
   "source": [
    "# SDSS Activity: Spectroscopic Identification and Redshift Determination\n",
    "\n",
    "Today we will learn how to spectroscopically identify stars, galaxies, and quasars in the SDSS.  We will then use the locations of prominent emission and absorption lines to determine the redshifts of distant galaxies, quasars, and intergalactic gas clouds, and the surface temperatures of stars in our own Milky Way.\n",
    "\n",
    "Before we begin, please check out the following links, which briefly summarize SDSS spectroscopy.\n",
    "\n",
    "- http://www.sdss.org/dr12/spectro/\n",
    "- http://www.sdss.org/dr12/spectro/spectro_basics/\n",
    "\n",
    "\n"
   ]
  },
  {
   "cell_type": "code",
   "execution_count": 1,
   "metadata": {
    "collapsed": false
   },
   "outputs": [
    {
     "name": "stdout",
     "output_type": "stream",
     "text": [
      "Your SciServer token is:  6ba15377a39c4e63b423c2c0cd8db4c3\n"
     ]
    }
   ],
   "source": [
    "# Step 1: Define your unique token and make it available as a \n",
    "#   system variable for the length of your current session.\n",
    "# \n",
    "# This will usually be the first code block in any script you write.\n",
    "#\n",
    "# with open('/home/idies/keystone.token', 'r') as f:\n",
    "#      token = f.read().rstrip('\\n')\n",
    "# async queries require token to be in --ident system variable\n",
    "# import sys\n",
    "# sys.argv.append(\"--ident=\"+token)\n",
    "# print(\"Your current token is\"+token)\n",
    "\n",
    "\n",
    "import SciServer.LoginPortal as Login\n",
    "token=Login.getToken()\n",
    "print('Your SciServer token is: ',token)"
   ]
  },
  {
   "cell_type": "code",
   "execution_count": 2,
   "metadata": {
    "collapsed": false
   },
   "outputs": [
    {
     "name": "stdout",
     "output_type": "stream",
     "text": [
      "SciServer libraries imported\n"
     ]
    }
   ],
   "source": [
    "# Step 2a: Import Python libraries to work with SciServer\n",
    "\n",
    "import SciServer.CasJobs as CasJobs # query with CasJobs\n",
    "import SciServer.SciDrive           # read/write to/from SciDrive\n",
    "print('SciServer libraries imported')"
   ]
  },
  {
   "cell_type": "code",
   "execution_count": 3,
   "metadata": {
    "collapsed": false
   },
   "outputs": [
    {
     "name": "stdout",
     "output_type": "stream",
     "text": [
      "Supporting libraries imported\n"
     ]
    }
   ],
   "source": [
    "# step 2b import other libraries for use in this notebook.\n",
    "# all of these are included in the default Docker image\n",
    "# but others can often be downloaded through a terminal or a '!pip install ...' run from \n",
    "# within the notebook\n",
    "import numpy as np                  # standard Python lib for math ops\n",
    "import pandas                       # data manipulation package\n",
    "import matplotlib.pyplot as plt     # another graphing package\n",
    "import skimage.io                   # image processing library\n",
    "import urllib                       # accessing resources thorugh remote URLs\n",
    "import json                         # work with JSON files\n",
    "print('Supporting libraries imported')"
   ]
  },
  {
   "cell_type": "code",
   "execution_count": 4,
   "metadata": {
    "collapsed": false
   },
   "outputs": [
    {
     "name": "stdout",
     "output_type": "stream",
     "text": [
      "Settings applied\n"
     ]
    }
   ],
   "source": [
    "# Step 2b: Apply some special settings to the imported libraries\n",
    "# ensure columns get written completely in notebook\n",
    "pandas.set_option('display.max_colwidth', -1)\n",
    "# do *not* show python warnings \n",
    "import warnings\n",
    "warnings.filterwarnings('ignore')\n",
    "print('Settings applied')"
   ]
  },
  {
   "cell_type": "markdown",
   "metadata": {},
   "source": [
    "## Spectral morphologies of stars, galaxies, and quasars:\n",
    "\n",
    "The [SDSS Skyserver](http://skyserver.sdss.org/dr12/en/tools/chart/navi.aspx) provides a simple interface for exploring the images and spectra of objects in the SDSS.  \n",
    "\n",
    "In order to get a quick feel for the spectroscopic properties of stars, take some time to navigate the Skyserver, starting at the following location:\n",
    "\n",
    "RA = 178.91,  Dec = 35.0\n",
    "\n",
    "Try selecting only objects with spectra, and use the EXPLORE feature to explore the images and spectra of the wide variety of objects in the field.  Consider the following:\n",
    "\n",
    "- What are the defining characteristics of quasars (also referred to as quasi-stellar objects, QSOs), stars, and galaxies?\n",
    "- How do the images of stars, galaxies, and quasars compare?\n",
    "- How does the color of the object compare with the general shape of the object's spectrum?\n",
    "- How do the spectra of stars, galaxies, and quasars compare?"
   ]
  },
  {
   "cell_type": "markdown",
   "metadata": {},
   "source": [
    "\n",
    "## Fetching and plotting SDSS spectra\n",
    "\n",
    "In the next section, we will download SDSS spectra to examine them more carefully.  We will use a built-in python package from a data-mining and machine-learning library for astronomy called [astroML](http://www.astroml.org/index.html).  In order to plot a single spectrum, you just need to provide the SDSS plate, fiber, and MJD.\n",
    "\n",
    "A spectrum from SDSS-I/II will be one of 640 fibers on a plate. Let's start with a classic plate: 274.  Try picking a random fiber number on the plate and see what you find."
   ]
  },
  {
   "cell_type": "code",
   "execution_count": 51,
   "metadata": {
    "collapsed": false
   },
   "outputs": [],
   "source": [
    "# http://www.astroml.org/user_guide/datasets.html#sdss-data\n",
    "    \n",
    "import astroML\n",
    "from astroML.datasets import fetch_sdss_spectrum\n",
    "\n",
    "plate = 274\n",
    "fiber = 102\n",
    "mjd = 51913\n",
    "spec = fetch_sdss_spectrum(plate=plate,fiber=fiber,mjd=mjd)\n"
   ]
  },
  {
   "cell_type": "code",
   "execution_count": 99,
   "metadata": {
    "collapsed": false
   },
   "outputs": [
    {
     "data": {
      "image/png": "[encoded data removed]",
      "text/plain": [
       "<matplotlib.figure.Figure at 0x7f107ca791d0>"
      ]
     },
     "metadata": {},
     "output_type": "display_data"
    }
   ],
   "source": [
    "#------------------------------------------------------------\n",
    "# Plot the resulting spectrum\n",
    "#\n",
    "# http://www.astroml.org/examples/datasets/plot_sdss_spectrum.html\n",
    "\n",
    "\n",
    "\n",
    "ax = plt.axes()\n",
    "ax.plot(spec.wavelength(), spec.spectrum, '-k', label='spectrum')\n",
    "ax.plot(spec.wavelength(), spec.error, '-', color='r', label='error')\n",
    "\n",
    "ax.legend(loc=4)\n",
    "\n",
    "ax.set_title('Plate = %(plate)i, MJD = %(mjd)i, Fiber = %(fiber)i' % locals())\n",
    "\n",
    "\n",
    "ax.set_xlabel(r'$\\lambda (\\AA)$')\n",
    "ax.set_ylabel('Flux')\n",
    "ax.axis([6500,7500, -5, 20])\n",
    "\n",
    "plt.show()"
   ]
  },
  {
   "cell_type": "markdown",
   "metadata": {},
   "source": [
    "## Determining the redshifts of objects\n",
    "\n",
    "Prominent spectral emission lines can be used to determine the redshift of the object.  Below are some links to commonly observed transitions in galaxies and quasars.  \n",
    "\n",
    "- http://classic.sdss.org/dr6/algorithms/linestable.html\n",
    "- http://www.sdss.org/dr12/spectro/spectro_basics/#vacuum\n",
    "\n",
    "Depending on their surface temperature, stars will exhibit a range of absorption lines as well:\n",
    "\n",
    "- http://skyserver.sdss.org/dr1/en/proj/advanced/spectraltypes/lines.asp#spectab\n",
    "\n",
    "\n",
    "The wavelengths of the provided lines are given in Angstroms and measured in the rest (laboratory) frame.  The spectra you are examining may be distant quasars or galaxies.  If so, the lines will appear redshifted, according to the relation:\n",
    "\n",
    "$\\lambda_{observed} = \\lambda_{rest}\\times(1+z)$\n",
    "\n",
    "where $z$ is the redshift of the object.\n",
    "\n",
    "\n",
    "\n",
    "Try overplotting on your spectrum some of the most prominent lines.  If they don't appear to line up with prominent features in the spectrum, try redshifting your line markers until they appear to match the features in the spectrum.\n",
    "\n",
    "The following links may be useful as you add text annotations or arrows to your plot:\n",
    "- http://matplotlib.org/users/text_intro.html\n",
    "- http://matplotlib.org/examples/pylab_examples/arrow_simple_demo.html\n",
    "\n",
    "When you think you've correctly determined the redshift for your object, you can use the [SEARCH](http://skyserver.sdss.org/dr12/en/tools/explore/summary.aspx#) function in the SkyServer to check your result against the SDSS determination. ([Here](http://www.sdss.org/dr12/algorithms/redshifts/) are some gory details about the SDSS spectroscopic pipeline, if you're interested.)"
   ]
  },
  {
   "cell_type": "code",
   "execution_count": 93,
   "metadata": {
    "collapsed": false
   },
   "outputs": [
    {
     "data": {
      "image/png": "[encoded data removed]",
      "text/plain": [
       "<matplotlib.figure.Figure at 0x7f107c948438>"
      ]
     },
     "metadata": {},
     "output_type": "display_data"
    }
   ],
   "source": [
    "# Space here to replot your spectrum, this time with major emission lines labeled\n",
    "\n",
    "\n",
    "\n",
    "sky_lines_y = [60., 60, 60, 60]\n",
    "sky_lines_x = [5578.5,5894.6,6301.7,7246.0]\n",
    "\n",
    "\"\"\"\n",
    "### Galaxy Lines\n",
    "abs_lines_y = []\n",
    "abs_lines_x = np.array([3934.777,3969.588,4305.61,5176.7,5895.6,8500.36,8544.4,8664.52])\n",
    "for m in range(0,len(abs_lines)):\n",
    "    abs_lines_y.append(30.)\n",
    "\n",
    "em_lines_y = []\n",
    "em_lines_x = np.array([6549.86,6564.61,6585.27,6718.29,6732.67])\n",
    "for m in range(0,len(em_lines_x)):\n",
    "    em_lines_y.append(35.)\n",
    "\"\"\"\n",
    "\n",
    "### Quasar Lines\n",
    "abs_lines_y = []\n",
    "abs_lines_x = np.array([1215.7, 1241., 1398., 1548.2, 1550.8, 2796.4, 2803.5, 2383., 2344., 2374.])\n",
    "for m in range(0,len(abs_lines_x)):\n",
    "    abs_lines_y.append(6.)\n",
    "\n",
    "em_lines_y = []\n",
    "em_lines_x = np.array([1215.7, 1241., 1398., 1548.2, 2796.])\n",
    "for m in range(0,len(em_lines_x)):\n",
    "    em_lines_y.append(35.)\n",
    "\n",
    "z_qso = 2.95\n",
    "z_abs = 6069./2796.4 -1.\n",
    "abs_lines_x_shifted = abs_lines_x*(1.+z_abs)\n",
    "em_lines_x_shifted = em_lines_x*(1.+z_qso)\n",
    "\n",
    "ax = plt.axes()\n",
    "ax.plot(spec.wavelength(), spec.spectrum, '-k', label='spectrum')\n",
    "ax.plot(spec.wavelength(), spec.error, '-', color='r', label='error')\n",
    "ax.plot(abs_lines_x_shifted, abs_lines_y, '*', label = 'absorption')\n",
    "ax.plot(em_lines_x_shifted, em_lines_y, 'o', label = 'emission')\n",
    "ax.plot(sky_lines_x, sky_lines_y, 'x', label = 'sky')\n",
    "\n",
    "ax.legend(loc='upper right')\n",
    "\n",
    "ax.set_title('Plate = %(plate)i, MJD = %(mjd)i, Fiber = %(fiber)i, z= %(z_qso).2f' % locals())\n",
    "\n",
    "\n",
    "ax.set_xlabel(r'$\\lambda (\\AA)$')\n",
    "ax.set_ylabel('Flux')\n",
    "ax.axis([3800,5500, 0, 40])\n",
    "\n",
    "plt.show()"
   ]
  },
  {
   "cell_type": "markdown",
   "metadata": {},
   "source": [
    "## If you think you have a quasar (a.k.a. QSO) spectrum...\n",
    "\n",
    "You may be able look for patterns of \"metal\" absorption lines from galaxies or intergalactic gas intervening at lower redshift along the sightline to the quasar.  The following link below is an early publication of rest wavelengths for absorption lines typically observed in quasar spectra:\n",
    "\n",
    "- http://articles.adsabs.harvard.edu//full/1979NASCP2111..215B/0000226.000.html\n",
    "\n",
    "Can you make a template to mark the positions of these lines, and redshift them on your plot to match patterns of absorption lines in the quasar spectrum?  The following description of quasar spectra and features of foreground absorption may be useful:\n",
    "\n",
    "- http://w.astro.berkeley.edu/~ay216/08/NOTES/Lecture26-08.pdf\n",
    "\n",
    "<img src=\"Spectroscopy/QSOALS.png\">"
   ]
  },
  {
   "cell_type": "code",
   "execution_count": 47,
   "metadata": {
    "collapsed": true
   },
   "outputs": [],
   "source": [
    "# Space here to replot your spectrum, this time with one or more absorption line systems labeled"
   ]
  },
  {
   "cell_type": "markdown",
   "metadata": {},
   "source": [
    "## If you think you have a stellar spectrum...\n",
    "\n",
    "Can you determine the approximate spectral classification of the star?\n",
    "- http://skyserver.sdss.org/dr1/en/proj/advanced/spectraltypes/lines.asp#spectab\n",
    "    "
   ]
  },
  {
   "cell_type": "code",
   "execution_count": null,
   "metadata": {
    "collapsed": true
   },
   "outputs": [],
   "source": [
    "# Space here to replot your spectrum, this time with one or more absorption lines labeled"
   ]
  },
  {
   "cell_type": "markdown",
   "metadata": {},
   "source": [
    "## Understanding the SDSS imaging\n",
    "\n",
    "It's useful to understand how SDSS imaging data relates to the spectra for individual objects, since photometric (imaging) data (e.g., colors, magnitudes, and morphologies) were used to choose targets for spectroscopic follow-up.  The link below provides throughput curves for each of the 5 SDSS filters from the original imaging component of the survey:\n",
    "\n",
    "http://classic.sdss.org/dr1/instruments/imager/index.html#filters\n",
    "\n",
    "#### Can you try creating your own version of the filter throughput plot, using the files posted in the above link?"
   ]
  },
  {
   "cell_type": "code",
   "execution_count": 2,
   "metadata": {
    "collapsed": false
   },
   "outputs": [
    {
     "name": "stdout",
     "output_type": "stream",
     "text": [
      "col1  col2   col3   col4   col5 \n",
      "---- ------ ------ ------ ------\n",
      "2980    0.0    0.0    0.0 0.0727\n",
      "3005 0.0001 0.0001 0.0014 0.0992\n",
      "3030 0.0005 0.0005 0.0071 0.1308\n",
      "3055 0.0013 0.0013 0.0127 0.1673\n",
      "3080 0.0026 0.0026 0.0198 0.2075\n",
      "3105 0.0052 0.0052 0.0314  0.247\n",
      "3130 0.0093 0.0093 0.0464 0.2862\n",
      "3155 0.0161 0.0161 0.0629 0.3444\n",
      "3180  0.024  0.024 0.0794  0.392\n",
      "3205 0.0323 0.0323 0.0949   0.43\n",
      " ...    ...    ...    ...    ...\n",
      "3880 0.0413 0.0413 0.0634 0.7088\n",
      "3905 0.0268 0.0268 0.0405 0.7158\n",
      "3930 0.0145 0.0145 0.0216 0.7235\n",
      "3955 0.0075 0.0075  0.011 0.7315\n",
      "3980 0.0042 0.0042 0.0062 0.7393\n",
      "4005 0.0022 0.0022 0.0032 0.7464\n",
      "4030  0.001  0.001 0.0015 0.7526\n",
      "4055 0.0006 0.0006 0.0008 0.7581\n",
      "4080 0.0004 0.0004 0.0006 0.7631\n",
      "4105 0.0002 0.0002 0.0003  0.768\n",
      "4130    0.0    0.0    0.0 0.7727\n",
      "Length = 47 rows\n"
     ]
    }
   ],
   "source": [
    "# Read in a filter file\n",
    "from astropy.io import ascii\n",
    "u_data = ascii.read(\"Spectroscopy/u.dat\")  \n",
    "print(u_data) \n",
    "\n",
    "\n",
    "u_wave = u_data['col1']\n",
    "u_tp = u_data['col2']\n",
    "\n"
   ]
  },
  {
   "cell_type": "markdown",
   "metadata": {},
   "source": [
    "### Now, can you try converting the spectrum of a star or quasar into its relative filter magnitudes?\n",
    "\n",
    "You may need information from the following page, on converting fluxes to magnitudes, and vice versa:\n",
    "- http://www.sdss.org/dr12/algorithms/fluxcal/#SDSStoflux\n",
    "\n",
    "\n",
    "Do your results agree with the [fiber magnitudes](http://www.sdss.org/dr12/algorithms/magnitudes/) for your object, which you can find in SkyServer?"
   ]
  },
  {
   "cell_type": "code",
   "execution_count": null,
   "metadata": {
    "collapsed": false
   },
   "outputs": [],
   "source": [
    "\n"
   ]
  },
  {
   "cell_type": "markdown",
   "metadata": {
    "collapsed": true
   },
   "source": [
    "## Quasar spectra, across cosmic time\n",
    "\n",
    "Due to their exceptional luminosities, quasars can be seen beyond z=6.  Try exploring how the features of quasar spectra appear to change, as you move through a large range in redshift.  \n",
    "\n",
    "- Do their emission properties change?  \n",
    "- What do you notice about their absorption properties?  "
   ]
  },
  {
   "cell_type": "code",
   "execution_count": 97,
   "metadata": {
    "collapsed": false
   },
   "outputs": [
    {
     "data": {
      "text/html": [
       "<div>\n",
       "<table border=\"1\" class=\"dataframe\">\n",
       "  <thead>\n",
       "    <tr style=\"text-align: right;\">\n",
       "      <th></th>\n",
       "      <th>{\"Error Code\":500</th>\n",
       "      <th>Error Type:\"InternalServerError\"</th>\n",
       "      <th>Error Message:\"Failed to execute a query: Object reference not set to an instance of an object.\"</th>\n",
       "      <th>LogMessageID:\"4552b29a-7cfd-4263-b08e-b397fd88c71c\"}</th>\n",
       "    </tr>\n",
       "  </thead>\n",
       "  <tbody>\n",
       "  </tbody>\n",
       "</table>\n",
       "</div>"
      ],
      "text/plain": [
       "Empty DataFrame\n",
       "Columns: [{\"Error Code\":500, Error Type:\"InternalServerError\", Error Message:\"Failed to execute a query: Object reference not set to an instance of an object.\", LogMessageID:\"4552b29a-7cfd-4263-b08e-b397fd88c71c\"}]\n",
       "Index: []"
      ]
     },
     "execution_count": 97,
     "metadata": {},
     "output_type": "execute_result"
    }
   ],
   "source": [
    "## If you want, you can use a query to fetch quasars only\n",
    "query=\"\"\"\n",
    "SELECT TOP 10 specObjID, z, survey, plate, fiberID, mjd\n",
    "FROM SpecObj\n",
    "WHERE class = 'QSO' AND zWarning = 0 AND z>2 \n",
    "\"\"\"\n",
    "# send query to CasJobs\n",
    "##queryResponse = CasJobs.executeQuery(query, \"dr12\",token=token)\n",
    "queryResponse = CasJobs.executeQuery(query, \"dr12\")\n",
    "# store results\n",
    "qsos = pandas.read_csv(queryResponse)\n",
    "# show results\n",
    "qsos\n",
    "\n"
   ]
  },
  {
   "cell_type": "markdown",
   "metadata": {
    "collapsed": true
   },
   "source": [
    "#### Download some photometric data (u,g,r,i,z magnitudes) for stars and quasars.  \n",
    "\n",
    "- Do they overlap in color-space?\n",
    "- How do they compare for quasars of different redshifts?\n",
    "- Are there certain redshift ranges where quasars stand out more from the \"stellar locus\"?"
   ]
  },
  {
   "cell_type": "code",
   "execution_count": null,
   "metadata": {
    "collapsed": true
   },
   "outputs": [],
   "source": []
  }
 ],
 "metadata": {
  "kernelspec": {
   "display_name": "Python 3",
   "language": "python",
   "name": "python3"
  },
  "language_info": {
   "codemirror_mode": {
    "name": "ipython",
    "version": 3
   },
   "file_extension": ".py",
   "mimetype": "text/x-python",
   "name": "python",
   "nbconvert_exporter": "python",
   "pygments_lexer": "ipython3",
   "version": "3.5.1"
  }
 },
 "nbformat": 4,
 "nbformat_minor": 0
}
