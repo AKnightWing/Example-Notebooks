{
 "cells": [
  {
   "cell_type": "code",
   "execution_count": null,
   "metadata": {
    "collapsed": false
   },
   "outputs": [],
   "source": [
    "import sys\n",
    "print(sys.version)"
   ]
  },
  {
   "cell_type": "code",
   "execution_count": null,
   "metadata": {
    "collapsed": false
   },
   "outputs": [],
   "source": [
    "import SciServer.SkyServer as SkyServer\n",
    "import matplotlib.pyplot as plt     # standard Python library for graphing\n",
    "#import SciServer.CasJobs as CasJobs"
   ]
  },
  {
   "cell_type": "code",
   "execution_count": null,
   "metadata": {
    "collapsed": false
   },
   "outputs": [],
   "source": [
    "# Coordinates of Hanny's Voorwerp:\n",
    "### 09h 41m 03.81s\n",
    "### +34° 43′ 34.3″\n",
    "\n",
    "# set image parameters\n",
    "voorwerp_ra = 145.26588\n",
    "voorwerp_dec = 34.729\n",
    "imgscale = 0.1\n",
    "imgwidth = 512\n",
    "imgheight = 512\n",
    "sdss_data_release = 'DR13'\n",
    "\n",
    "img = SkyServer.getJpegImgCutout(voorwerp_ra, voorwerp_dec, scale=imgscale, width=imgwidth, height=imgheight, opt='', query='', dataRelease=sdss_data_release)\n",
    "\n",
    "plt.imshow(img)\n"
   ]
  },
  {
   "cell_type": "code",
   "execution_count": null,
   "metadata": {
    "collapsed": false
   },
   "outputs": [],
   "source": [
    "from IPython.core.display import display, HTML\n",
    "\n",
    "voorwerp = SkyServer.objectSearch(objId=1237661382772195480)\n",
    "IC_2497 = SkyServer.objectSearch(1237661382772195474)\n",
    "\n",
    "display(HTML('<h1><span style=\"color:green;\">Your object:</span> Hanny\\'s Voorwerp</h1>'))\n",
    "\n",
    "#print(\"{0:,.0f} data tables found!\".format(len(voorwerp)) )\n",
    "\n",
    "#for i in voorwerp:\n",
    "#    print('Table '+str(voorwerp.index(i))+': '+i['TableName'])\n",
    "\n",
    "for thisTable in voorwerp:  # i iterates through tables of data about this object (table1, table2, table3...)\n",
    "#    if (thisTable['TableName'] == 'objectInfo'):\n",
    "#        whatDoesItMean = 'Summary table'\n",
    "#    elif (thisTable['TableName'] == 'MetaData'):\n",
    "#        whatDoesItMean = 'Metadata'\n",
    "#    else:\n",
    "#        whatDoesItMean = 'hey ya'\n",
    "        \n",
    "    if (len(thisTable['Rows']) == 0):\n",
    "        display(HTML('<h2>Table name: {0}</h2>'.format(thisTable['TableName'])))\n",
    "        print('No data found for this object')\n",
    "    else:\n",
    "#        display(HTML('<h2>{0}: <span style=\"color:red;\">{1}</span></h2>'.format(whatDoesItMean,thisTable['TableName'])))\n",
    "        display(HTML('<h2>Table name: <span style=\"color:red;\">{0}</span></h2>'.format(thisTable['TableName'])))\n",
    "        for row in thisTable['Rows']:\n",
    "            for column in row:\n",
    "                print(column,\": \",row[column])\n",
    "#                display(HTML('<strong>{0}:</strong> {1}'.format(column,row[column])))\n",
    "#    print('Table name: {0}'.format(i['TableName']))\n",
    "#    for row in i['Rows']:\n",
    "        #print (row)\n",
    "#        for column in row:\n",
    "#            print(column,': ',row[column])\n",
    "#    print('\\n')\n",
    "    \n",
    "#SciServer.SkyServer.objectSearch(objId=None, specObjId=None, apogee_id=None, apstar_id=None, ra=None, dec=None, plate=None, mjd=None, fiber=None, run=None, rerun=None, camcol=None, field=None, obj=None, dataRelease=None)"
   ]
  },
  {
   "cell_type": "code",
   "execution_count": null,
   "metadata": {
    "collapsed": true
   },
   "outputs": [],
   "source": [
    "import json"
   ]
  },
  {
   "cell_type": "code",
   "execution_count": null,
   "metadata": {
    "collapsed": true
   },
   "outputs": [],
   "source": [
    "print('IC 2497:')\n",
    "print(len(IC_2497))\n",
    "for i in IC_2497:\n",
    "    print('Table '+str(IC_2497.index(i))+': '+i['TableName'])\n"
   ]
  }
 ],
 "metadata": {
  "kernelspec": {
   "display_name": "Python 3",
   "language": "python",
   "name": "python3"
  },
  "language_info": {
   "codemirror_mode": {
    "name": "ipython",
    "version": 3
   },
   "file_extension": ".py",
   "mimetype": "text/x-python",
   "name": "python",
   "nbconvert_exporter": "python",
   "pygments_lexer": "ipython3",
   "version": "3.5.3"
  }
 },
 "nbformat": 4,
 "nbformat_minor": 0
}
