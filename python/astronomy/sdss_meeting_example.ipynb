{
 "cells": [
  {
   "cell_type": "code",
   "execution_count": null,
   "metadata": {
    "collapsed": false
   },
   "outputs": [],
   "source": [
    "import SciServer.CasJobs as CasJobs\n",
    "import SciServer.SkyServer as SkyServer\n",
    "import matplotlib.pyplot as plt\n",
    "query = 'select top 10000 g, r, g-r as color_gr from photoobj'\n",
    "result = CasJobs.executeQuery(query,'dr13')\n",
    "plt.scatter(result['r'], result['color_gr'])\n",
    "plt.show()"
   ]
  },
  {
   "cell_type": "markdown",
   "metadata": {},
   "source": [
    "## Science in two tweets!"
   ]
  },
  {
   "cell_type": "code",
   "execution_count": null,
   "metadata": {
    "collapsed": false
   },
   "outputs": [],
   "source": [
    "import SciServer.CasJobs as c, matplotlib.pyplot as p\n",
    "print('ok')"
   ]
  },
  {
   "cell_type": "code",
   "execution_count": null,
   "metadata": {
    "collapsed": false
   },
   "outputs": [],
   "source": [
    "r = c.executeQuery('select top 10000 g,r,g-r as x from photoobj','dr13')\n",
    "p.scatter(r['g'],r['x'])"
   ]
  },
  {
   "cell_type": "markdown",
   "metadata": {},
   "source": [
    "## Cleaner version of same analysis"
   ]
  },
  {
   "cell_type": "code",
   "execution_count": null,
   "metadata": {
    "collapsed": false
   },
   "outputs": [],
   "source": [
    "import SciServer.CasJobs as CasJobs\n",
    "import SciServer.SkyServer as SkyServer\n",
    "import matplotlib.pyplot as plt\n",
    "import numpy as np\n",
    "from IPython.display import display, HTML\n",
    "query = 'select top 10000 objid, ra, dec, petror90_r, g, r, g-r as color_gr '\n",
    "query += 'from photoobj '\n",
    "query += 'where clean=1 and type=3'\n",
    "galaxies_df = CasJobs.executeQuery(query,'dr13')\n",
    "galaxies_df = galaxies_df.set_index('objid')\n",
    "\n",
    "sdsspixelscale=0.396\n",
    "sample_galaxies_df = galaxies_df.sample(2)\n",
    "plt.figure(figsize=(14,14))\n",
    "\n",
    "subPlotNum = 1\n",
    "nGalaxies = len(galaxies_df)\n",
    "display(HTML('<h2>Galaxy analysis</h2>'))\n",
    "display(HTML('<h3>Two sample images from {:,.0f} total</h3>'.format(nGalaxies)))\n",
    "#display(HTML('<p>Estoy pensando...</p>'))\n",
    "for index,this_sample_galaxy in sample_galaxies_df.iterrows():\n",
    "    this_ra = this_sample_galaxy['ra']\n",
    "    this_dec = this_sample_galaxy['dec']\n",
    "    this_petror90_r = this_sample_galaxy['petror90_r']\n",
    "    this_scale = 2 * sdsspixelscale * (this_petror90_r / 60)\n",
    "    plt.subplot(2,2,subPlotNum)\n",
    "    plt.imshow(SkyServer.getJpegImgCutout(this_ra, this_dec,scale=this_scale))# scale=0.7, width=512, height=512, opt='', query='', dataRelease=None))    # show the object identifier (objId) above the image.\n",
    "    plt.title(index)\n",
    "    subPlotNum += 1\n",
    "\n",
    "plt.subplot(2,2,3)\n",
    "#plt.subplot(2,2,1)\n",
    "plt.scatter(galaxies_df['ra'], galaxies_df['dec'],s=3)\n",
    "plt.axis([0, 360, -20, 90])\n",
    "plt.title('Galaxy positions',fontsize=18)\n",
    "plt.xlabel('Right ascension (J2000)',fontsize=14)\n",
    "plt.ylabel('Declination (J2000)',fontsize=14)\n",
    "plt.subplot(2,2,4)\n",
    "#plt.subplot(2,2,2)\n",
    "plt.scatter(galaxies_df['r'], galaxies_df['color_gr'],s=0.8)\n",
    "plt.title('Color-magnitude diagram',fontsize=18)\n",
    "plt.axis([23,19,0.2,1.4])\n",
    "plt.xlabel('Magnitude (r)',fontsize=14)\n",
    "plt.ylabel('Color (g-r)',fontsize=14)\n",
    "\n",
    "plt.show()"
   ]
  },
  {
   "cell_type": "code",
   "execution_count": null,
   "metadata": {
    "collapsed": true
   },
   "outputs": [],
   "source": []
  }
 ],
 "metadata": {
  "kernelspec": {
   "display_name": "Python 3",
   "language": "python",
   "name": "python3"
  },
  "language_info": {
   "codemirror_mode": {
    "name": "ipython",
    "version": 3
   },
   "file_extension": ".py",
   "mimetype": "text/x-python",
   "name": "python",
   "nbconvert_exporter": "python",
   "pygments_lexer": "ipython3",
   "version": "3.5.3"
  }
 },
 "nbformat": 4,
 "nbformat_minor": 0
}
