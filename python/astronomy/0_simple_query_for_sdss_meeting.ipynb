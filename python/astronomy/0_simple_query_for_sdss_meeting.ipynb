{
 "cells": [
  {
   "cell_type": "code",
   "execution_count": 11,
   "metadata": {
    "collapsed": false
   },
   "outputs": [
    {
     "name": "stdout",
     "output_type": "stream",
     "text": [
      "select top 16 p.ra, p.dec, p.g, p.r, s.z as redshift from photoobj p join specobj s on p.objid = s.bestobjid \n"
     ]
    }
   ],
   "source": [
    "import SciServer.CasJobs as CasJobs\n",
    "#import SciServer.SkyServer as SkyServer\n",
    "import pandas\n",
    "query = \"\"\"select top 16 p.ra, p.dec, p.g, p.r, s.z as redshift \"\"\"\n",
    "query += \"\"\"from photoobj p \"\"\"\n",
    "query += \"\"\"join specobj s on p.objid = s.bestobjid \"\"\"\n",
    "print(query)\n"
   ]
  },
  {
   "cell_type": "code",
   "execution_count": 18,
   "metadata": {
    "collapsed": false
   },
   "outputs": [
    {
     "name": "stdout",
     "output_type": "stream",
     "text": [
      "<_io.StringIO object at 0x7f88ad904d38>\n"
     ]
    }
   ],
   "source": [
    "queryResponse = CasJobs.executeQuery(query)\n"
   ]
  },
  {
   "cell_type": "code",
   "execution_count": null,
   "metadata": {
    "collapsed": true
   },
   "outputs": [],
   "source": []
  }
 ],
 "metadata": {
  "kernelspec": {
   "display_name": "Python 3",
   "language": "python",
   "name": "python3"
  },
  "language_info": {
   "codemirror_mode": {
    "name": "ipython",
    "version": 3
   },
   "file_extension": ".py",
   "mimetype": "text/x-python",
   "name": "python",
   "nbconvert_exporter": "python",
   "pygments_lexer": "ipython3",
   "version": "3.5.3"
  }
 },
 "nbformat": 4,
 "nbformat_minor": 0
}
