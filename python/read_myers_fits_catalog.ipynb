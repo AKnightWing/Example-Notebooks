{
 "cells": [
  {
   "cell_type": "code",
   "execution_count": 2,
   "metadata": {
    "collapsed": false
   },
   "outputs": [
    {
     "name": "stdout",
     "output_type": "stream",
     "text": [
      "packages imported\n"
     ]
    }
   ],
   "source": [
    "import astropy as astro\n",
    "import numpy as np\n",
    "from astropy.table import Table\n",
    "from astropy.io import fits\n",
    "print(\"packages imported\")"
   ]
  },
  {
   "cell_type": "code",
   "execution_count": 3,
   "metadata": {
    "collapsed": false
   },
   "outputs": [
    {
     "name": "stdout",
     "output_type": "stream",
     "text": [
      "table read\n"
     ]
    }
   ],
   "source": [
    "# Read file near_IR.fits\n",
    "t = Table.read('data/ancil-QSO-eBOSS-W3-ADM-dr8.fits')\n",
    "# t # Print table as output\n",
    "print(\"table read\")"
   ]
  },
  {
   "cell_type": "code",
   "execution_count": 4,
   "metadata": {
    "collapsed": false
   },
   "outputs": [
    {
     "data": {
      "text/html": [
       "&lt;Table length=6743&gt;\n",
       "<table id=\"table140539149778768\">\n",
       "<thead><tr><th>RA</th><th>DEC</th><th>SOURCETYPE</th><th>PRIORITY</th><th>FIBERMAG [5]</th><th>RUN</th><th>RERUN</th><th>CAMCOL</th><th>FIELD</th><th>ID</th><th>W3BITMASK</th><th>KNOWNZ</th><th>KNOWNSOURCE</th></tr></thead>\n",
       "<thead><tr><th>float64</th><th>float64</th><th>str16</th><th>int32</th><th>float32</th><th>int32</th><th>int32</th><th>int32</th><th>int32</th><th>int32</th><th>int16</th><th>float32</th><th>str22</th></tr></thead>\n",
       "<tr><td>214.065956481</td><td>51.8436549614</td><td>QSO_EBOSS_W3_ADM</td><td>1</td><td>24.9076 .. 19.7257</td><td>3177</td><td>301</td><td>5</td><td>62</td><td>370</td><td>1</td><td>-1.0</td><td>U</td></tr>\n",
       "<tr><td>212.262319406</td><td>52.7872788318</td><td>QSO_EBOSS_W3_ADM</td><td>1</td><td>23.2145 .. 20.6725</td><td>3103</td><td>301</td><td>6</td><td>264</td><td>60</td><td>1</td><td>-1.0</td><td>U</td></tr>\n",
       "<tr><td>214.064514323</td><td>51.2768203154</td><td>QSO_EBOSS_W3_ADM</td><td>1</td><td>22.6187 .. 20.8418</td><td>3180</td><td>301</td><td>3</td><td>69</td><td>126</td><td>3</td><td>-1.0</td><td>U</td></tr>\n",
       "<tr><td>217.472755499</td><td>52.3982159616</td><td>QSO_EBOSS_W3_ADM</td><td>1</td><td>20.3781 .. 19.4622</td><td>3705</td><td>301</td><td>2</td><td>122</td><td>141</td><td>7</td><td>-1.0</td><td>U</td></tr>\n",
       "<tr><td>217.548738575</td><td>51.2631808653</td><td>QSO_EBOSS_W3_ADM</td><td>1</td><td>20.0238 .. 19.4894</td><td>3177</td><td>301</td><td>6</td><td>77</td><td>118</td><td>7</td><td>0.9571</td><td>SDSSDR7QSO</td></tr>\n",
       "<tr><td>215.252521442</td><td>51.4479800646</td><td>QSO_EBOSS_W3_ADM</td><td>1</td><td>22.7487 .. 21.7674</td><td>3177</td><td>301</td><td>5</td><td>67</td><td>611</td><td>1</td><td>-1.0</td><td>U</td></tr>\n",
       "<tr><td>217.629106869</td><td>51.342975751</td><td>QSO_EBOSS_W3_ADM</td><td>1</td><td>22.1856 .. 21.5391</td><td>3177</td><td>301</td><td>6</td><td>77</td><td>254</td><td>7</td><td>-1.0</td><td>U</td></tr>\n",
       "<tr><td>211.419322463</td><td>52.4050539886</td><td>QSO_EBOSS_W3_ADM</td><td>1</td><td>22.8389 .. 20.9199</td><td>3180</td><td>301</td><td>4</td><td>56</td><td>339</td><td>17</td><td>-1.0</td><td>U</td></tr>\n",
       "<tr><td>217.612183705</td><td>51.3831148685</td><td>QSO_EBOSS_W3_ADM</td><td>1</td><td>19.5222 .. 19.8304</td><td>3177</td><td>301</td><td>6</td><td>76</td><td>120</td><td>1</td><td>-1.0</td><td>U</td></tr>\n",
       "<tr><td>213.040170478</td><td>51.6674488395</td><td>QSO_EBOSS_W3_ADM</td><td>1</td><td>23.2437 .. 21.115</td><td>3177</td><td>301</td><td>4</td><td>58</td><td>614</td><td>5</td><td>-1.0</td><td>U</td></tr>\n",
       "<tr><td>...</td><td>...</td><td>...</td><td>...</td><td>...</td><td>...</td><td>...</td><td>...</td><td>...</td><td>...</td><td>...</td><td>...</td><td>...</td></tr>\n",
       "<tr><td>212.20570217</td><td>52.1259732123</td><td>QSO_EBOSS_W3_ADM</td><td>0</td><td>21.8596 .. 20.6526</td><td>3180</td><td>301</td><td>4</td><td>59</td><td>197</td><td>16</td><td>-1.0</td><td>U</td></tr>\n",
       "<tr><td>211.904479351</td><td>52.2858784323</td><td>QSO_EBOSS_W3_ADM</td><td>0</td><td>20.7317 .. 18.196</td><td>3180</td><td>301</td><td>4</td><td>58</td><td>122</td><td>16</td><td>-1.0</td><td>U</td></tr>\n",
       "<tr><td>212.886370247</td><td>53.9853565136</td><td>QSO_EBOSS_W3_ADM</td><td>0</td><td>21.8749 .. 18.1033</td><td>3712</td><td>301</td><td>3</td><td>196</td><td>90</td><td>16</td><td>-1.0</td><td>U</td></tr>\n",
       "<tr><td>213.19283919</td><td>51.8205628874</td><td>QSO_EBOSS_W3_ADM</td><td>0</td><td>22.2119 .. 20.7456</td><td>3180</td><td>301</td><td>4</td><td>64</td><td>339</td><td>16</td><td>-1.0</td><td>U</td></tr>\n",
       "<tr><td>211.763975559</td><td>53.5616433941</td><td>QSO_EBOSS_W3_ADM</td><td>0</td><td>22.7469 .. 18.3163</td><td>3705</td><td>301</td><td>1</td><td>98</td><td>93</td><td>16</td><td>-1.0</td><td>U</td></tr>\n",
       "<tr><td>210.873735903</td><td>53.6173803311</td><td>QSO_EBOSS_W3_ADM</td><td>0</td><td>21.4053 .. 19.8229</td><td>3705</td><td>301</td><td>1</td><td>95</td><td>172</td><td>16</td><td>-1.0</td><td>U</td></tr>\n",
       "<tr><td>212.753273947</td><td>51.7404055929</td><td>QSO_EBOSS_W3_ADM</td><td>0</td><td>20.9514 .. 19.7166</td><td>3177</td><td>301</td><td>4</td><td>57</td><td>119</td><td>16</td><td>-1.0</td><td>U</td></tr>\n",
       "<tr><td>212.907576351</td><td>52.8769534796</td><td>QSO_EBOSS_W3_ADM</td><td>0</td><td>20.7146 .. 18.3211</td><td>3712</td><td>301</td><td>1</td><td>199</td><td>120</td><td>16</td><td>-1.0</td><td>U</td></tr>\n",
       "<tr><td>211.295156224</td><td>53.8315555095</td><td>QSO_EBOSS_W3_ADM</td><td>0</td><td>22.5105 .. 20.2273</td><td>3712</td><td>301</td><td>2</td><td>190</td><td>592</td><td>16</td><td>-1.0</td><td>U</td></tr>\n",
       "<tr><td>212.708922108</td><td>54.1006734027</td><td>QSO_EBOSS_W3_ADM</td><td>0</td><td>22.0744 .. 20.0125</td><td>3705</td><td>301</td><td>3</td><td>100</td><td>308</td><td>16</td><td>-1.0</td><td>U</td></tr>\n",
       "</table>"
      ],
      "text/plain": [
       "<Table length=6743>\n",
       "      RA           DEC         SOURCETYPE    ...  KNOWNZ      KNOWNSOURCE      \n",
       "   float64       float64         str16       ... float32         str22         \n",
       "------------- ------------- ---------------- ... ------- ----------------------\n",
       "214.065956481 51.8436549614 QSO_EBOSS_W3_ADM ...    -1.0 U                     \n",
       "212.262319406 52.7872788318 QSO_EBOSS_W3_ADM ...    -1.0 U                     \n",
       "214.064514323 51.2768203154 QSO_EBOSS_W3_ADM ...    -1.0 U                     \n",
       "217.472755499 52.3982159616 QSO_EBOSS_W3_ADM ...    -1.0 U                     \n",
       "217.548738575 51.2631808653 QSO_EBOSS_W3_ADM ...  0.9571 SDSSDR7QSO            \n",
       "215.252521442 51.4479800646 QSO_EBOSS_W3_ADM ...    -1.0 U                     \n",
       "217.629106869  51.342975751 QSO_EBOSS_W3_ADM ...    -1.0 U                     \n",
       "211.419322463 52.4050539886 QSO_EBOSS_W3_ADM ...    -1.0 U                     \n",
       "217.612183705 51.3831148685 QSO_EBOSS_W3_ADM ...    -1.0 U                     \n",
       "213.040170478 51.6674488395 QSO_EBOSS_W3_ADM ...    -1.0 U                     \n",
       "          ...           ...              ... ...     ...                    ...\n",
       " 212.20570217 52.1259732123 QSO_EBOSS_W3_ADM ...    -1.0 U                     \n",
       "211.904479351 52.2858784323 QSO_EBOSS_W3_ADM ...    -1.0 U                     \n",
       "212.886370247 53.9853565136 QSO_EBOSS_W3_ADM ...    -1.0 U                     \n",
       " 213.19283919 51.8205628874 QSO_EBOSS_W3_ADM ...    -1.0 U                     \n",
       "211.763975559 53.5616433941 QSO_EBOSS_W3_ADM ...    -1.0 U                     \n",
       "210.873735903 53.6173803311 QSO_EBOSS_W3_ADM ...    -1.0 U                     \n",
       "212.753273947 51.7404055929 QSO_EBOSS_W3_ADM ...    -1.0 U                     \n",
       "212.907576351 52.8769534796 QSO_EBOSS_W3_ADM ...    -1.0 U                     \n",
       "211.295156224 53.8315555095 QSO_EBOSS_W3_ADM ...    -1.0 U                     \n",
       "212.708922108 54.1006734027 QSO_EBOSS_W3_ADM ...    -1.0 U                     "
      ]
     },
     "execution_count": 4,
     "metadata": {},
     "output_type": "execute_result"
    }
   ],
   "source": [
    "t"
   ]
  },
  {
   "cell_type": "code",
   "execution_count": null,
   "metadata": {
    "collapsed": true
   },
   "outputs": [],
   "source": []
  }
 ],
 "metadata": {
  "kernelspec": {
   "display_name": "Python 2",
   "language": "python",
   "name": "python2"
  },
  "language_info": {
   "codemirror_mode": {
    "name": "ipython",
    "version": 2
   },
   "file_extension": ".py",
   "mimetype": "text/x-python",
   "name": "python",
   "nbconvert_exporter": "python",
   "pygments_lexer": "ipython2",
   "version": "2.7.11"
  }
 },
 "nbformat": 4,
 "nbformat_minor": 0
}
