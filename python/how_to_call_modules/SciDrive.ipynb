{
 "cells": [
  {
   "cell_type": "code",
   "execution_count": null,
   "metadata": {
    "collapsed": false
   },
   "outputs": [],
   "source": [
    "from SciServer import SciDrive\n",
    "print('Imported SciServer modules')"
   ]
  },
  {
   "cell_type": "code",
   "execution_count": null,
   "metadata": {
    "collapsed": false
   },
   "outputs": [],
   "source": [
    "from pprint import pprint   # Allows formatted printing for easier reading of outputs\n",
    "import os                   # Work with files in your container using *nix-like file commands\n",
    "print('Imported other needed modules')"
   ]
  },
  {
   "cell_type": "code",
   "execution_count": null,
   "metadata": {
    "collapsed": false
   },
   "outputs": [],
   "source": [
    "#help(SciDrive)"
   ]
  },
  {
   "cell_type": "code",
   "execution_count": null,
   "metadata": {
    "collapsed": false
   },
   "outputs": [],
   "source": [
    "# List the content and metadata of the top-level directory in your SciDrive.\n",
    "# Returns a Python dictionary, print with good formatting using pprint\n",
    "\n",
    "dirList = SciDrive.directoryList(\"\")\n",
    "pprint(dirList)"
   ]
  },
  {
   "cell_type": "code",
   "execution_count": null,
   "metadata": {
    "collapsed": false
   },
   "outputs": [],
   "source": [
    "#define the name of a new directory to be created in SciDrive:\n",
    "SciDrive_Directory = \"SciScriptPython\"\n",
    "\n",
    "#define the name, path and content of a local file to be created and then uploaded into SciDrive:\n",
    "SciDrive_FileName = \"TestFile.csv\"\n",
    "SciDrive_FilePath = \"./TestFile.csv\"\n",
    "SciDrive_FileContent = \"Column1,Column2\\n4.5,5.5\\n\"\n",
    "\n",
    "#define the name of a new file to be created from a string and stored in your SciDrive:\n",
    "SciDrive_FileName2 = \"TestFile2.csv\"\n",
    "SciDrive_FileContent2 = \"Column1,Column2\\n8.5,9.5\\n\"\n",
    "\n",
    "print('Test case variables set.')"
   ]
  },
  {
   "cell_type": "code",
   "execution_count": null,
   "metadata": {
    "collapsed": false
   },
   "outputs": [],
   "source": [
    "# Create a new folder (also called a container) in SciDrive. Returns True.\n",
    "# This will work only if the folder does not already exist; otherwise returns an error.\n",
    "\n",
    "responseCreate = SciDrive.createContainer(SciDrive_Directory)\n",
    "print(responseCreate)"
   ]
  },
  {
   "cell_type": "code",
   "execution_count": null,
   "metadata": {
    "collapsed": false
   },
   "outputs": [],
   "source": [
    "#List content and metadata of your new directory in SciDrive\n",
    "\n",
    "dirList = SciDrive.directoryList(SciDrive_Directory)\n",
    "pprint(dirList)"
   ]
  },
  {
   "cell_type": "code",
   "execution_count": null,
   "metadata": {
    "collapsed": false
   },
   "outputs": [],
   "source": [
    "# Create a local file (in this Compute container), to be uploaded to SciDrive\n",
    "\n",
    "file = open(SciDrive_FileName, \"w\")\n",
    "file.write(SciDrive_FileContent)\n",
    "file.close()\n",
    "print('New file created and written')"
   ]
  },
  {
   "cell_type": "code",
   "execution_count": null,
   "metadata": {
    "collapsed": false
   },
   "outputs": [],
   "source": [
    "# Uploading your new file to SciDrive\n",
    "\n",
    "responseUpload = SciDrive.upload(path=SciDrive_Directory + \"/\" + SciDrive_FileName, localFilePath=SciDrive_FilePath)\n",
    "pprint(responseUpload)"
   ]
  },
  {
   "cell_type": "code",
   "execution_count": null,
   "metadata": {
    "collapsed": false
   },
   "outputs": [],
   "source": [
    "# Get the contents of the file you saved, and print\n",
    "\n",
    "stringio = SciDrive.download(path=SciDrive_Directory + \"/\" + SciDrive_FileName, format=\"StringIO\")\n",
    "fileContent = stringio.read()\n",
    "print(fileContent)"
   ]
  },
  {
   "cell_type": "code",
   "execution_count": null,
   "metadata": {
    "collapsed": false
   },
   "outputs": [],
   "source": [
    "# Upload a string as the contents of a new file. Then download the contents of that file and print.\n",
    "\n",
    "responseUpload = SciDrive.upload(path=SciDrive_Directory + \"/\" + SciDrive_FileName2, data=SciDrive_FileContent2)\n",
    "fileContent = SciDrive.download(path=SciDrive_Directory + \"/\" + SciDrive_FileName2, format=\"text\")\n",
    "print(fileContent)"
   ]
  },
  {
   "cell_type": "code",
   "execution_count": null,
   "metadata": {
    "collapsed": false
   },
   "outputs": [],
   "source": [
    "# Get the public URL to access the directory content in SciDrive. Going to that URL returns a tarball of all files.\n",
    "\n",
    "url = SciDrive.publicUrl(SciDrive_Directory)\n",
    "print(url)"
   ]
  },
  {
   "cell_type": "code",
   "execution_count": null,
   "metadata": {
    "collapsed": false
   },
   "outputs": [],
   "source": [
    "#delete folder in SciDrive (returns true)\n",
    "\n",
    "responseDelete = SciDrive.delete(SciDrive_Directory)\n",
    "print(responseDelete)"
   ]
  },
  {
   "cell_type": "code",
   "execution_count": null,
   "metadata": {
    "collapsed": false
   },
   "outputs": [],
   "source": [
    "#delete local file:\n",
    "\n",
    "os.remove(SciDrive_FilePath)\n",
    "print('Local file deleted')"
   ]
  },
  {
   "cell_type": "code",
   "execution_count": null,
   "metadata": {
    "collapsed": true
   },
   "outputs": [],
   "source": []
  }
 ],
 "metadata": {
  "kernelspec": {
   "display_name": "Python 3",
   "language": "python",
   "name": "python3"
  },
  "language_info": {
   "codemirror_mode": {
    "name": "ipython",
    "version": 3
   },
   "file_extension": ".py",
   "mimetype": "text/x-python",
   "name": "python",
   "nbconvert_exporter": "python",
   "pygments_lexer": "ipython3",
   "version": "3.5.3"
  }
 },
 "nbformat": 4,
 "nbformat_minor": 0
}
