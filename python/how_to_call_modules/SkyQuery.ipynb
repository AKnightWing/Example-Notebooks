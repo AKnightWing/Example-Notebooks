{
 "cells": [
  {
   "cell_type": "markdown",
   "metadata": {},
   "source": [
    "# Example: How to cross-match data with SkyQuery\n",
    "\n",
    "SciServer Compute can talk to other components of SciServer through a series of <em>modules</em>, one for each component. This example notebook shows how to use the <strong><code>SciServer.SkyQuery</code></strong> module to perform sophisticated cross-matches among astronomical datasets.\n",
    "\n",
    "You are welcome (encouraged!) to copy these examples into another folder and modify them to meet your needs. You can use them as a starting point to create your own scripts. Please do not edit this notebook directly, because your edits may be overwritten if changes to the SciServer modules require changes to these example notebooks.\n",
    "\n",
    "To run the example Python scripts in this notebook, click in any of the Code cells below (the ones with the gray backgrounds). Click the play button at the top of the window (just below the menubar) to run the script, or pres Shift-Enter. The output of each cell's script will appear directly below the cell."
   ]
  },
  {
   "cell_type": "markdown",
   "metadata": {},
   "source": [
    "## Import modules\n",
    "\n",
    "Like any Python modules, the SciServer modules must be imported before being used. The next code block first imports the SciServer modules you will need for this example notebook, then imports some other required modules. Comments in the code block explain what each module does. To learn how to import other modules, see the Python 3.5 import documentation (https://docs.python.org/3.5/reference/import.html), or the documentation of the module(s) you are trying to import."
   ]
  },
  {
   "cell_type": "code",
   "execution_count": null,
   "metadata": {
    "collapsed": false
   },
   "outputs": [],
   "source": [
    "from SciServer import SkyQuery\n",
    "print('Imported SciServer modules')     # Work with SkyQuery through Comptue\n",
    "\n",
    "from pprint import pprint\n",
    "print('Imported other needed modules')  # print data structures in readable format (https://docs.python.org/3.5/library/pprint.html)"
   ]
  },
  {
   "cell_type": "markdown",
   "metadata": {},
   "source": [
    "## List available datasets\n",
    "\n",
    "The function <strong><code>SkyQuery.listAllDatasets()</code></strong> (takes no parameters) lists all the datasets available to you through SkyQuery.\n",
    "\n",
    "The function returns a list of dictionaries, one for each available dataset. You can cross-match among any of the datasets by using its <code>name</code>."
   ]
  },
  {
   "cell_type": "code",
   "execution_count": null,
   "metadata": {
    "collapsed": false
   },
   "outputs": [],
   "source": [
    "datasets = SkyQuery.listAllDatasets()\n",
    "pprint(datasets)"
   ]
  },
  {
   "cell_type": "markdown",
   "metadata": {},
   "source": [
    "## List the contents of your MyDB\n",
    "\n",
    "The function <strong><code>SkyQuery.getDatasetInfo(datasetName)</code></strong> returns the contents of a specified database. You can use it to show the contents of any of the databases you found in the last code cell; here, we run in with <code>MyDB</code> to show the contents of your MyDB.\n",
    "\n",
    "The function returns a list of dictionaries, one for table in the specified dataset. Each table has a <strong><code>name</code></strong> by which it can be referred."
   ]
  },
  {
   "cell_type": "code",
   "execution_count": null,
   "metadata": {
    "collapsed": false
   },
   "outputs": [],
   "source": [
    "info = SkyQuery.getDatasetInfo(\"MyDB\")\n",
    "print(info)\n",
    "print('\\n')\n",
    "\n",
    "tables = SkyQuery.listDatasetTables(\"MyDB\")\n",
    "pprint(tables)"
   ]
  },
  {
   "cell_type": "markdown",
   "metadata": {},
   "source": [
    "## Manage jobs\n",
    "\n",
    "Like CasJobs, SkyQuery manages its requests (both queries and cross-match requests) as <strong>jobs</strong>. You can submit the request using the <strong><code>SkyQuery.SubmitJob(query, queue)</code></strong> function. \n",
    "\n",
    "\n",
    "When you submit a query or a cross-identification request to SkyQuery, it creates a job an assigns a <em>jobID</em> that you can use to check on the status of the query. "
   ]
  },
  {
   "cell_type": "code",
   "execution_count": null,
   "metadata": {
    "collapsed": false
   },
   "outputs": [],
   "source": [
    "#Define query\n",
    "\n",
    "SkyQuery_Query = \"select 4.5 as Column1, 5.5 as Column2\"\n",
    "\n",
    "#submit a query as a job\n",
    "jobId = SkyQuery.submitJob(query=SkyQuery_Query, queue=\"quick\")\n",
    "print(jobId)"
   ]
  },
  {
   "cell_type": "code",
   "execution_count": null,
   "metadata": {
    "collapsed": false
   },
   "outputs": [],
   "source": [
    "#get status of a submitted job\n",
    "\n",
    "jobId = SkyQuery.submitJob(query=SkyQuery_Query, queue=\"quick\")\n",
    "jobDescription = SkyQuery.getJobStatus(jobId=jobId)\n",
    "pprint(jobDescription)"
   ]
  },
  {
   "cell_type": "code",
   "execution_count": null,
   "metadata": {
    "collapsed": false
   },
   "outputs": [],
   "source": [
    "# wait for a job to be finished and then get the status\n",
    "\n",
    "jobId = SkyQuery.submitJob(query=SkyQuery_Query, queue=\"quick\")\n",
    "jobDescription = SkyQuery.waitForJob(jobId=jobId, verbose=True)\n",
    "\n",
    "print('\\n')\n",
    "print(\"jobDescription:\")\n",
    "\n",
    "pprint(jobDescription)"
   ]
  },
  {
   "cell_type": "code",
   "execution_count": null,
   "metadata": {
    "collapsed": false
   },
   "outputs": [],
   "source": [
    "# cancel a job that is running, and then get its status to prove it is cancelled\n",
    "\n",
    "jobId = SkyQuery.submitJob(query=SkyQuery_Query, queue=\"long\")\n",
    "SkyQuery.cancelJob(jobId)\n",
    "\n",
    "print(\"job status:\")\n",
    "pprint(SkyQuery.getJobStatus(jobId=jobId))"
   ]
  },
  {
   "cell_type": "code",
   "execution_count": null,
   "metadata": {
    "collapsed": false
   },
   "outputs": [],
   "source": [
    "#list available job queues\n",
    "\n",
    "queueList = SkyQuery.listQueues()\n",
    "pprint(queueList)"
   ]
  },
  {
   "cell_type": "code",
   "execution_count": null,
   "metadata": {
    "collapsed": false
   },
   "outputs": [],
   "source": [
    "# Get a list of all the jobs you have run. Retruns two dictionaries: one for the Quick queue and one for the Long queue.\n",
    "\n",
    "quickJobsList = SkyQuery.listJobs('quick')\n",
    "longJobsList = SkyQuery.listJobs('long')\n",
    "print('Quick Jobs:')\n",
    "pprint(quickJobsList)\n",
    "print('\\n')\n",
    "print('Long jobs:')\n",
    "pprint(longJobsList)"
   ]
  },
  {
   "cell_type": "code",
   "execution_count": null,
   "metadata": {
    "collapsed": false
   },
   "outputs": [],
   "source": [
    "#define a csv table to be uploaded to into MyDB in SkyQuery\n",
    "\n",
    "SkyQuery_TestTableName = \"TestTable_SkyQuery\"\n",
    "SkyQuery_TestTableCSV = u\"Column1,Column2\\n15.5,16.5\\n\"\n",
    "\n",
    "print('Test case variables set.')"
   ]
  },
  {
   "cell_type": "code",
   "execution_count": null,
   "metadata": {
    "collapsed": false
   },
   "outputs": [],
   "source": [
    "# Uploading your sample CSV file. Returns true.\n",
    "# This works only if the table you specified does not already exist.\n",
    "\n",
    "result = SkyQuery.uploadTable(uploadData=SkyQuery_TestTableCSV, tableName=SkyQuery_TestTableName, datasetName=\"MyDB\", format=\"csv\")\n",
    "print(result)"
   ]
  },
  {
   "cell_type": "code",
   "execution_count": null,
   "metadata": {
    "collapsed": false
   },
   "outputs": [],
   "source": [
    "# Downloading the contents of a table in your MyDB (returns a pandas dataframe)\n",
    "\n",
    "table = SkyQuery.getTable(tableName=SkyQuery_TestTableName, datasetName=\"MyDB\", top=10)\n",
    "table"
   ]
  },
  {
   "cell_type": "code",
   "execution_count": null,
   "metadata": {
    "collapsed": false
   },
   "outputs": [],
   "source": [
    "#list tables inside dataset\n",
    "\n",
    "tables = SkyQuery.listDatasetTables(\"MyDB\")\n",
    "pprint(tables)"
   ]
  },
  {
   "cell_type": "code",
   "execution_count": null,
   "metadata": {
    "collapsed": false
   },
   "outputs": [],
   "source": [
    "#get info for a specified table:\n",
    "\n",
    "info = SkyQuery.getTableInfo(tableName=\"webuser.\" + SkyQuery_TestTableName, datasetName=\"MyDB\")\n",
    "pprint(info)"
   ]
  },
  {
   "cell_type": "code",
   "execution_count": null,
   "metadata": {
    "collapsed": false
   },
   "outputs": [],
   "source": [
    "#get dataset table columns info\n",
    "\n",
    "columns = SkyQuery.listTableColumns(tableName=\"webuser.\" + SkyQuery_TestTableName, datasetName=\"MyDB\")\n",
    "pprint(columns)"
   ]
  },
  {
   "cell_type": "code",
   "execution_count": null,
   "metadata": {
    "collapsed": false
   },
   "outputs": [],
   "source": [
    "#drop (or delete) table from dataset.\n",
    "\n",
    "result = SkyQuery.dropTable(tableName=SkyQuery_TestTableName, datasetName=\"MyDB\");\n",
    "print(result)"
   ]
  },
  {
   "cell_type": "code",
   "execution_count": null,
   "metadata": {
    "collapsed": true
   },
   "outputs": [],
   "source": []
  }
 ],
 "metadata": {
  "kernelspec": {
   "display_name": "Python 3",
   "language": "python",
   "name": "python3"
  },
  "language_info": {
   "codemirror_mode": {
    "name": "ipython",
    "version": 3
   },
   "file_extension": ".py",
   "mimetype": "text/x-python",
   "name": "python",
   "nbconvert_exporter": "python",
   "pygments_lexer": "ipython3",
   "version": "3.5.3"
  }
 },
 "nbformat": 4,
 "nbformat_minor": 0
}
