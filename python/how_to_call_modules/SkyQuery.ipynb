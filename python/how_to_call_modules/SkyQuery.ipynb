{
 "cells": [
  {
   "cell_type": "code",
   "execution_count": 1,
   "metadata": {
    "collapsed": false
   },
   "outputs": [
    {
     "name": "stdout",
     "output_type": "stream",
     "text": [
      "Imported SciServer modules\n"
     ]
    }
   ],
   "source": [
    "from SciServer import SkyQuery\n",
    "print('Imported SciServer modules')"
   ]
  },
  {
   "cell_type": "code",
   "execution_count": 3,
   "metadata": {
    "collapsed": false
   },
   "outputs": [
    {
     "name": "stdout",
     "output_type": "stream",
     "text": [
      "Imported other needed modules\n"
     ]
    }
   ],
   "source": [
    "from pprint import pprint\n",
    "print('Imported other needed modules')"
   ]
  },
  {
   "cell_type": "code",
   "execution_count": 6,
   "metadata": {
    "collapsed": false
   },
   "outputs": [
    {
     "name": "stdout",
     "output_type": "stream",
     "text": [
      "[{'isMutable': False, 'name': 'SDSSDR7'},\n",
      " {'isMutable': True, 'name': 'MYDB'},\n",
      " {'isMutable': False, 'name': 'FUSE'},\n",
      " {'isMutable': False, 'name': 'PSCz'},\n",
      " {'isMutable': False, 'name': 'TwoDF'},\n",
      " {'isMutable': False, 'name': 'SDSSDR12'},\n",
      " {'isMutable': False, 'name': 'TwoMASS'},\n",
      " {'isMutable': False, 'name': 'TwoQZ'},\n",
      " {'isMutable': True, 'name': 'MYSCRATCH'},\n",
      " {'isMutable': False, 'name': 'SDSSDR13'},\n",
      " {'isMutable': False, 'name': 'NDWFS'},\n",
      " {'isMutable': False, 'name': 'DLS'},\n",
      " {'isMutable': False, 'name': 'IRAS'},\n",
      " {'isMutable': False, 'name': 'GALEX'},\n",
      " {'isMutable': False, 'name': 'RC3'},\n",
      " {'isMutable': False, 'name': 'USNOB'},\n",
      " {'isMutable': False, 'name': 'AGC'},\n",
      " {'isMutable': False, 'name': 'WISE'},\n",
      " {'isMutable': False, 'name': 'NVSS'}]\n"
     ]
    }
   ],
   "source": [
    "# List all the datasets available through SkyQuery. You can cross-match among any of these using its name.\n",
    "\n",
    "datasets = SkyQuery.listAllDatasets()\n",
    "pprint(datasets)"
   ]
  },
  {
   "cell_type": "code",
   "execution_count": 34,
   "metadata": {
    "collapsed": false
   },
   "outputs": [
    {
     "name": "stdout",
     "output_type": "stream",
     "text": [
      "{'isMutable': True, 'name': 'MYDB'}\n",
      "[{'class': '',\n",
      "  'columns': [{'class': '',\n",
      "               'dataType': 'int',\n",
      "               'name': 'Column2',\n",
      "               'quantity': '',\n",
      "               'remarks': '',\n",
      "               'size': 4,\n",
      "               'summary': '',\n",
      "               'unit': ''},\n",
      "              {'class': '',\n",
      "               'dataType': 'int',\n",
      "               'name': 'Column1',\n",
      "               'quantity': '',\n",
      "               'remarks': '',\n",
      "               'size': 4,\n",
      "               'summary': '',\n",
      "               'unit': ''}],\n",
      "  'example': '',\n",
      "  'name': 'webuser.MyNewtable4',\n",
      "  'remarks': '',\n",
      "  'summary': ''},\n",
      " {'class': '',\n",
      "  'columns': [{'class': '',\n",
      "               'dataType': 'int',\n",
      "               'name': 'Column2',\n",
      "               'quantity': '',\n",
      "               'remarks': '',\n",
      "               'size': 4,\n",
      "               'summary': '',\n",
      "               'unit': ''},\n",
      "              {'class': '',\n",
      "               'dataType': 'int',\n",
      "               'name': 'Column1',\n",
      "               'quantity': '',\n",
      "               'remarks': '',\n",
      "               'size': 4,\n",
      "               'summary': '',\n",
      "               'unit': ''}],\n",
      "  'example': '',\n",
      "  'name': 'webuser.MyNewtable54',\n",
      "  'remarks': '',\n",
      "  'summary': ''},\n",
      " {'class': '',\n",
      "  'columns': [{'class': '',\n",
      "               'dataType': 'int',\n",
      "               'name': 'Column2',\n",
      "               'quantity': '',\n",
      "               'remarks': '',\n",
      "               'size': 4,\n",
      "               'summary': '',\n",
      "               'unit': ''},\n",
      "              {'class': '',\n",
      "               'dataType': 'int',\n",
      "               'name': 'Column1',\n",
      "               'quantity': '',\n",
      "               'remarks': '',\n",
      "               'size': 4,\n",
      "               'summary': '',\n",
      "               'unit': ''}],\n",
      "  'example': '',\n",
      "  'name': 'webuser.MyNewtable55',\n",
      "  'remarks': '',\n",
      "  'summary': ''},\n",
      " {'class': '',\n",
      "  'columns': [{'class': '',\n",
      "               'dataType': 'float',\n",
      "               'name': 'Column2',\n",
      "               'quantity': '',\n",
      "               'remarks': '',\n",
      "               'size': 8,\n",
      "               'summary': '',\n",
      "               'unit': ''},\n",
      "              {'class': '',\n",
      "               'dataType': 'bigint',\n",
      "               'name': 'ID',\n",
      "               'quantity': '',\n",
      "               'remarks': '',\n",
      "               'size': 8,\n",
      "               'summary': '',\n",
      "               'unit': ''},\n",
      "              {'class': '',\n",
      "               'dataType': 'float',\n",
      "               'name': 'Column1',\n",
      "               'quantity': '',\n",
      "               'remarks': '',\n",
      "               'size': 8,\n",
      "               'summary': '',\n",
      "               'unit': ''}],\n",
      "  'example': '',\n",
      "  'name': 'webuser.TestTable_SkyQuery',\n",
      "  'remarks': '',\n",
      "  'summary': ''},\n",
      " {'class': '',\n",
      "  'columns': [{'class': '',\n",
      "               'dataType': 'decimal',\n",
      "               'name': 'Column2',\n",
      "               'quantity': '',\n",
      "               'remarks': '',\n",
      "               'size': 16,\n",
      "               'summary': '',\n",
      "               'unit': ''},\n",
      "              {'class': '',\n",
      "               'dataType': 'decimal',\n",
      "               'name': 'Column1',\n",
      "               'quantity': '',\n",
      "               'remarks': '',\n",
      "               'size': 16,\n",
      "               'summary': '',\n",
      "               'unit': ''}],\n",
      "  'example': '',\n",
      "  'name': 'webuser.QuickResults',\n",
      "  'remarks': '',\n",
      "  'summary': ''},\n",
      " {'class': '',\n",
      "  'columns': [{'class': '',\n",
      "               'dataType': 'int',\n",
      "               'name': 'Column2',\n",
      "               'quantity': '',\n",
      "               'remarks': '',\n",
      "               'size': 4,\n",
      "               'summary': '',\n",
      "               'unit': ''},\n",
      "              {'class': '',\n",
      "               'dataType': 'int',\n",
      "               'name': 'Column1',\n",
      "               'quantity': '',\n",
      "               'remarks': '',\n",
      "               'size': 4,\n",
      "               'summary': '',\n",
      "               'unit': ''}],\n",
      "  'example': '',\n",
      "  'name': 'webuser.MyNewtable544',\n",
      "  'remarks': '',\n",
      "  'summary': ''},\n",
      " {'class': '',\n",
      "  'columns': [{'class': '',\n",
      "               'dataType': 'int',\n",
      "               'name': 'Column2',\n",
      "               'quantity': '',\n",
      "               'remarks': '',\n",
      "               'size': 4,\n",
      "               'summary': '',\n",
      "               'unit': ''},\n",
      "              {'class': '',\n",
      "               'dataType': 'int',\n",
      "               'name': 'Column1',\n",
      "               'quantity': '',\n",
      "               'remarks': '',\n",
      "               'size': 4,\n",
      "               'summary': '',\n",
      "               'unit': ''}],\n",
      "  'example': '',\n",
      "  'name': 'webuser.MyNewtable3',\n",
      "  'remarks': '',\n",
      "  'summary': ''},\n",
      " {'class': '',\n",
      "  'columns': [{'class': '',\n",
      "               'dataType': 'int',\n",
      "               'name': 'Column2',\n",
      "               'quantity': '',\n",
      "               'remarks': '',\n",
      "               'size': 4,\n",
      "               'summary': '',\n",
      "               'unit': ''},\n",
      "              {'class': '',\n",
      "               'dataType': 'int',\n",
      "               'name': 'Column1',\n",
      "               'quantity': '',\n",
      "               'remarks': '',\n",
      "               'size': 4,\n",
      "               'summary': '',\n",
      "               'unit': ''}],\n",
      "  'example': '',\n",
      "  'name': 'webuser.MyNewtable2',\n",
      "  'remarks': '',\n",
      "  'summary': ''}]\n"
     ]
    }
   ],
   "source": [
    "#get info about your MyDB (the same MyDB as in CasJobs)\n",
    "\n",
    "info = SkyQuery.getDatasetInfo(\"MyDB\")\n",
    "print(info)\n",
    "\n",
    "tables = SkyQuery.listDatasetTables(\"MyDB\")\n",
    "pprint(tables)"
   ]
  },
  {
   "cell_type": "code",
   "execution_count": 11,
   "metadata": {
    "collapsed": false
   },
   "outputs": [
    {
     "name": "stdout",
     "output_type": "stream",
     "text": [
      "[{'name': 'Maintenance', 'pendingJobCount': 0},\n",
      " {'name': 'Long', 'pendingJobCount': 0},\n",
      " {'name': 'Quick', 'pendingJobCount': 0}]\n"
     ]
    }
   ],
   "source": [
    "#list available job queues\n",
    "\n",
    "queueList = SkyQuery.listQueues()\n",
    "pprint(queueList)"
   ]
  },
  {
   "cell_type": "code",
   "execution_count": 13,
   "metadata": {
    "collapsed": false
   },
   "outputs": [
    {
     "name": "stdout",
     "output_type": "stream",
     "text": [
      "fec6e4a7-b1ed-4a9f-9942-c8dc16241b12\n"
     ]
    }
   ],
   "source": [
    "#Define query\n",
    "\n",
    "SkyQuery_Query = \"select 4.5 as Column1, 5.5 as Column2\"\n",
    "\n",
    "#submit a query as a job\n",
    "jobId = SkyQuery.submitJob(query=SkyQuery_Query, queue=\"quick\")\n",
    "print(jobId)"
   ]
  },
  {
   "cell_type": "code",
   "execution_count": 15,
   "metadata": {
    "collapsed": false
   },
   "outputs": [
    {
     "name": "stdout",
     "output_type": "stream",
     "text": [
      "{'canCancel': True,\n",
      " 'comments': '',\n",
      " 'dateCreated': '2017-08-10T11:08:35',\n",
      " 'guid': '494fec67-b3e1-471d-98fa-0e2ed81d097d',\n",
      " 'hasError': False,\n",
      " 'name': 'sdssraddick_17081011083589542',\n",
      " 'query': 'select 4.5 as Column1, 5.5 as Column2',\n",
      " 'queue': 'quick',\n",
      " 'status': 'waiting'}\n"
     ]
    }
   ],
   "source": [
    "#get status of a submitted job\n",
    "\n",
    "jobId = SkyQuery.submitJob(query=SkyQuery_Query, queue=\"quick\")\n",
    "jobDescription = SkyQuery.getJobStatus(jobId=jobId)\n",
    "pprint(jobDescription)"
   ]
  },
  {
   "cell_type": "code",
   "execution_count": 18,
   "metadata": {
    "collapsed": false
   },
   "outputs": [
    {
     "name": "stdout",
     "output_type": "stream",
     "text": [
      "Waiting...Waiting...Waiting...Waiting...Done!\n",
      "\n",
      "\n",
      "jobDescription:\n",
      "{'canCancel': False,\n",
      " 'comments': '',\n",
      " 'dateCreated': '2017-08-10T11:09:35',\n",
      " 'dateFinished': '2017-08-10T11:09:39',\n",
      " 'dateStarted': '2017-08-10T11:09:38',\n",
      " 'guid': '67cff96b-57ba-4ac7-8954-855374254e79',\n",
      " 'hasError': False,\n",
      " 'name': 'sdssraddick_17081011093595435',\n",
      " 'output': 'MYDB:webuser.QuickResults',\n",
      " 'query': 'select 4.5 as Column1, 5.5 as Column2',\n",
      " 'queue': 'quick',\n",
      " 'status': 'completed'}\n"
     ]
    }
   ],
   "source": [
    "# wait for a job to be finished and then get the status\n",
    "\n",
    "jobId = SkyQuery.submitJob(query=SkyQuery_Query, queue=\"quick\")\n",
    "jobDescription = SkyQuery.waitForJob(jobId=jobId, verbose=True)\n",
    "\n",
    "print('\\n')\n",
    "print(\"jobDescription:\")\n",
    "\n",
    "pprint(jobDescription)"
   ]
  },
  {
   "cell_type": "code",
   "execution_count": 22,
   "metadata": {
    "collapsed": false
   },
   "outputs": [
    {
     "name": "stdout",
     "output_type": "stream",
     "text": [
      "job status:\n",
      "{'canCancel': False,\n",
      " 'comments': '',\n",
      " 'dateCreated': '2017-08-10T11:10:09',\n",
      " 'dateFinished': '2017-08-10T11:10:09',\n",
      " 'guid': 'f045922c-f084-4956-aa84-d26dd6247448',\n",
      " 'hasError': False,\n",
      " 'name': 'sdssraddick_17081011100932028',\n",
      " 'query': 'select 4.5 as Column1, 5.5 as Column2',\n",
      " 'queue': 'long',\n",
      " 'status': 'canceled'}\n"
     ]
    }
   ],
   "source": [
    "# cancel a job that is running, and then get its status to prove it is cancelled\n",
    "\n",
    "jobId = SkyQuery.submitJob(query=SkyQuery_Query, queue=\"long\")\n",
    "SkyQuery.cancelJob(jobId)\n",
    "\n",
    "print(\"job status:\")\n",
    "pprint(SkyQuery.getJobStatus(jobId=jobId))"
   ]
  },
  {
   "cell_type": "code",
   "execution_count": 26,
   "metadata": {
    "collapsed": false
   },
   "outputs": [
    {
     "name": "stdout",
     "output_type": "stream",
     "text": [
      "Quick Jobs:\n",
      "[{'queryJob': {'canCancel': False,\n",
      "               'comments': '',\n",
      "               'dateCreated': '2017-08-10T11:09:35',\n",
      "               'dateFinished': '2017-08-10T11:09:39',\n",
      "               'dateStarted': '2017-08-10T11:09:38',\n",
      "               'guid': '67cff96b-57ba-4ac7-8954-855374254e79',\n",
      "               'hasError': False,\n",
      "               'name': 'sdssraddick_17081011093595435',\n",
      "               'output': 'MYDB:webuser.QuickResults',\n",
      "               'query': 'select 4.5 as Column1, 5.5 as Column2',\n",
      "               'queue': 'quick',\n",
      "               'status': 'completed'}},\n",
      " {'queryJob': {'canCancel': False,\n",
      "               'comments': '',\n",
      "               'dateCreated': '2017-08-10T11:09:12',\n",
      "               'dateFinished': '2017-08-10T11:09:13',\n",
      "               'dateStarted': '2017-08-10T11:09:12',\n",
      "               'guid': '6c11c8e5-5622-489a-b1cb-ef59202f4b2e',\n",
      "               'hasError': False,\n",
      "               'name': 'sdssraddick_17081011091249166',\n",
      "               'output': 'MYDB:webuser.QuickResults',\n",
      "               'query': 'select 4.5 as Column1, 5.5 as Column2',\n",
      "               'queue': 'quick',\n",
      "               'status': 'completed'}},\n",
      " {'queryJob': {'canCancel': False,\n",
      "               'comments': '',\n",
      "               'dateCreated': '2017-08-10T11:08:47',\n",
      "               'dateFinished': '2017-08-10T11:08:52',\n",
      "               'dateStarted': '2017-08-10T11:08:52',\n",
      "               'guid': 'e7b32da5-151b-4aef-815f-ab0442ebcd03',\n",
      "               'hasError': False,\n",
      "               'name': 'sdssraddick_17081011084705278',\n",
      "               'output': 'MYDB:webuser.QuickResults',\n",
      "               'query': 'select 4.5 as Column1, 5.5 as Column2',\n",
      "               'queue': 'quick',\n",
      "               'status': 'completed'}},\n",
      " {'queryJob': {'canCancel': False,\n",
      "               'comments': '',\n",
      "               'dateCreated': '2017-08-10T11:08:35',\n",
      "               'dateFinished': '2017-08-10T11:08:37',\n",
      "               'dateStarted': '2017-08-10T11:08:36',\n",
      "               'guid': '494fec67-b3e1-471d-98fa-0e2ed81d097d',\n",
      "               'hasError': False,\n",
      "               'name': 'sdssraddick_17081011083589542',\n",
      "               'output': 'MYDB:webuser.QuickResults',\n",
      "               'query': 'select 4.5 as Column1, 5.5 as Column2',\n",
      "               'queue': 'quick',\n",
      "               'status': 'completed'}},\n",
      " {'queryJob': {'canCancel': False,\n",
      "               'comments': '',\n",
      "               'dateCreated': '2017-08-10T11:08:32',\n",
      "               'dateFinished': '2017-08-10T11:08:37',\n",
      "               'dateStarted': '2017-08-10T11:08:36',\n",
      "               'guid': 'a80f8d07-d8be-479d-849b-31bc22fb51ec',\n",
      "               'hasError': False,\n",
      "               'name': 'sdssraddick_17081011083200533',\n",
      "               'output': 'MYDB:webuser.QuickResults',\n",
      "               'query': 'select 4.5 as Column1, 5.5 as Column2',\n",
      "               'queue': 'quick',\n",
      "               'status': 'completed'}},\n",
      " {'queryJob': {'canCancel': False,\n",
      "               'comments': '',\n",
      "               'dateCreated': '2017-08-10T11:08:27',\n",
      "               'dateFinished': '2017-08-10T11:08:33',\n",
      "               'dateStarted': '2017-08-10T11:08:30',\n",
      "               'guid': 'fec6e4a7-b1ed-4a9f-9942-c8dc16241b12',\n",
      "               'hasError': False,\n",
      "               'name': 'sdssraddick_17081011082748626',\n",
      "               'output': 'MYDB:webuser.QuickResults',\n",
      "               'query': 'select 4.5 as Column1, 5.5 as Column2',\n",
      "               'queue': 'quick',\n",
      "               'status': 'completed'}}]\n",
      "\n",
      "\n",
      "Long jobs:\n",
      "[{'queryJob': {'canCancel': False,\n",
      "               'comments': '',\n",
      "               'dateCreated': '2017-08-10T11:10:09',\n",
      "               'dateFinished': '2017-08-10T11:10:09',\n",
      "               'guid': 'f045922c-f084-4956-aa84-d26dd6247448',\n",
      "               'hasError': False,\n",
      "               'name': 'sdssraddick_17081011100932028',\n",
      "               'query': 'select 4.5 as Column1, 5.5 as Column2',\n",
      "               'queue': 'long',\n",
      "               'status': 'canceled'}},\n",
      " {'queryJob': {'canCancel': False,\n",
      "               'comments': '',\n",
      "               'dateCreated': '2017-08-10T11:10:03',\n",
      "               'dateFinished': '2017-08-10T11:10:03',\n",
      "               'guid': '377ada7f-2f82-4a98-b27c-79a7c099c463',\n",
      "               'hasError': False,\n",
      "               'name': 'sdssraddick_17081011100389700',\n",
      "               'query': 'select 4.5 as Column1, 5.5 as Column2',\n",
      "               'queue': 'long',\n",
      "               'status': 'canceled'}},\n",
      " {'queryJob': {'canCancel': False,\n",
      "               'comments': '',\n",
      "               'dateCreated': '2017-08-10T11:09:54',\n",
      "               'dateFinished': '2017-08-10T11:09:54',\n",
      "               'guid': 'd052511e-4c56-4f28-8b31-25305d3bc48f',\n",
      "               'hasError': False,\n",
      "               'name': 'sdssraddick_17081011095461263',\n",
      "               'query': 'select 4.5 as Column1, 5.5 as Column2',\n",
      "               'queue': 'long',\n",
      "               'status': 'canceled'}},\n",
      " {'queryJob': {'canCancel': False,\n",
      "               'comments': '',\n",
      "               'dateCreated': '2017-08-10T11:09:50',\n",
      "               'dateFinished': '2017-08-10T11:09:49',\n",
      "               'guid': '10416ab0-d81b-4c38-b922-881b2da888cd',\n",
      "               'hasError': False,\n",
      "               'name': 'sdssraddick_17081011095000003',\n",
      "               'query': 'select 4.5 as Column1, 5.5 as Column2',\n",
      "               'queue': 'long',\n",
      "               'status': 'canceled'}}]\n"
     ]
    }
   ],
   "source": [
    "# Get a list of all the jobs you have run. Retruns two dictionaries: one for the Quick queue and one for the Long queue.\n",
    "\n",
    "quickJobsList = SkyQuery.listJobs('quick')\n",
    "longJobsList = SkyQuery.listJobs('long')\n",
    "print('Quick Jobs:')\n",
    "pprint(quickJobsList)\n",
    "print('\\n')\n",
    "print('Long jobs:')\n",
    "pprint(longJobsList)"
   ]
  },
  {
   "cell_type": "code",
   "execution_count": 32,
   "metadata": {
    "collapsed": false
   },
   "outputs": [
    {
     "name": "stdout",
     "output_type": "stream",
     "text": [
      "Test case variables set.\n"
     ]
    }
   ],
   "source": [
    "#define a csv table to be uploaded to into MyDB in SkyQuery\n",
    "\n",
    "SkyQuery_TestTableName = \"TestTable_SkyQuery\"\n",
    "SkyQuery_TestTableCSV = u\"Column1,Column2\\n15.5,16.5\\n\"\n",
    "\n",
    "print('Test case variables set.')"
   ]
  },
  {
   "cell_type": "code",
   "execution_count": 35,
   "metadata": {
    "collapsed": false
   },
   "outputs": [
    {
     "ename": "Exception",
     "evalue": "Error when uploading data to table TestTable_SkyQuery in dataset MyDB.\nHttp Response from SkyQuery API returned status code 500:\n{\"restError\":{\"LogEventID\":\"409665\",\"Message\":\"Table copy failed: There is already an object named 'TestTable_SkyQuery' in the database.\",\"StackTrace\":\"   at Jhu.Graywulf.IO.Tasks.CopyTableBase.HandleException(Exception ex, TableCopyResult result) in C:\\\\Data\\\\dobos\\\\project\\\\skyquery-all-v1.2\\\\graywulf\\\\dll\\\\Jhu.Graywulf.IO\\\\IO\\\\Tasks\\\\CopyTableBase.cs:line 431\\u000d\\u000a   at Jhu.Graywulf.IO.Tasks.ImportTable.OnExecute() in C:\\\\Data\\\\dobos\\\\project\\\\skyquery-all-v1.2\\\\graywulf\\\\dll\\\\Jhu.Graywulf.IO\\\\IO\\\\Tasks\\\\ImportTable.cs:line 156\\u000d\\u000a   at Jhu.Graywulf.Tasks.CancelableTask.Execute() in C:\\\\Data\\\\dobos\\\\project\\\\skyquery-all-v1.2\\\\graywulf\\\\dll\\\\Jhu.Graywulf.RemoteService\\\\Tasks\\\\CancelableTask.cs:line 86\\u000d\\u000a   at Jhu.Graywulf.RemoteService.RemoteServiceBase.Execute() in C:\\\\Data\\\\dobos\\\\project\\\\skyquery-all-v1.2\\\\graywulf\\\\dll\\\\Jhu.Graywulf.RemoteService\\\\RemoteService\\\\RemoteServiceBase.cs:line 44\\u000d\\u000a   at Jhu.Graywulf.Web.Api.V1.DataService.UploadTable(String datasetName, String tableName, Stream data) in C:\\\\Data\\\\dobos\\\\project\\\\skyquery-all-v1.2\\\\graywulf\\\\dll\\\\Jhu.Graywulf.Web.Api\\\\Web\\\\Api\\\\V1\\\\Services\\\\DataService.cs:line 175\\u000d\\u000a   at SyncInvokeUploadTable(Object , Object[] , Object[] )\\u000d\\u000a   at System.ServiceModel.Dispatcher.SyncMethodInvoker.Invoke(Object instance, Object[] inputs, Object[]& outputs)\\u000d\\u000a   at Jhu.Graywulf.Web.Services.RestOperationInvoker.Invoke(Object instance, Object[] inputs, Object[]& outputs) in C:\\\\Data\\\\dobos\\\\project\\\\skyquery-all-v1.2\\\\graywulf\\\\dll\\\\Jhu.Graywulf.Web\\\\Web\\\\Services\\\\RestOperationInvoker.cs:line 48\",\"Type\":\"Jhu.Graywulf.IO.Tasks.TableCopyException\"}}",
     "output_type": "error",
     "traceback": [
      "\u001b[1;31m\u001b[0m",
      "\u001b[1;31mException\u001b[0mTraceback (most recent call last)",
      "\u001b[1;32m<ipython-input-35-5fa4b9494336>\u001b[0m in \u001b[0;36m<module>\u001b[1;34m()\u001b[0m\n\u001b[0;32m      2\u001b[0m \u001b[1;31m# This works only if the table you specified does not already exist.\u001b[0m\u001b[1;33m\u001b[0m\u001b[1;33m\u001b[0m\u001b[0m\n\u001b[0;32m      3\u001b[0m \u001b[1;33m\u001b[0m\u001b[0m\n\u001b[1;32m----> 4\u001b[1;33m \u001b[0mresult\u001b[0m \u001b[1;33m=\u001b[0m \u001b[0mSkyQuery\u001b[0m\u001b[1;33m.\u001b[0m\u001b[0muploadTable\u001b[0m\u001b[1;33m(\u001b[0m\u001b[0muploadData\u001b[0m\u001b[1;33m=\u001b[0m\u001b[0mSkyQuery_TestTableCSV\u001b[0m\u001b[1;33m,\u001b[0m \u001b[0mtableName\u001b[0m\u001b[1;33m=\u001b[0m\u001b[0mSkyQuery_TestTableName\u001b[0m\u001b[1;33m,\u001b[0m \u001b[0mdatasetName\u001b[0m\u001b[1;33m=\u001b[0m\u001b[1;34m\"MyDB\"\u001b[0m\u001b[1;33m,\u001b[0m \u001b[0mformat\u001b[0m\u001b[1;33m=\u001b[0m\u001b[1;34m\"csv\"\u001b[0m\u001b[1;33m)\u001b[0m\u001b[1;33m\u001b[0m\u001b[0m\n\u001b[0m\u001b[0;32m      5\u001b[0m \u001b[0mprint\u001b[0m\u001b[1;33m(\u001b[0m\u001b[0mresult\u001b[0m\u001b[1;33m)\u001b[0m\u001b[1;33m\u001b[0m\u001b[0m\n",
      "\u001b[1;32m/home/idies/anaconda3/lib/python3.5/site-packages/SciServer-1.10.0-py3.5.egg/SciServer/SkyQuery.py\u001b[0m in \u001b[0;36muploadTable\u001b[1;34m(uploadData, tableName, datasetName, format)\u001b[0m\n\u001b[0;32m    492\u001b[0m             \u001b[1;32mreturn\u001b[0m \u001b[1;33m(\u001b[0m\u001b[1;32mTrue\u001b[0m\u001b[1;33m)\u001b[0m\u001b[1;33m\u001b[0m\u001b[0m\n\u001b[0;32m    493\u001b[0m         \u001b[1;32melse\u001b[0m\u001b[1;33m:\u001b[0m\u001b[1;33m\u001b[0m\u001b[0m\n\u001b[1;32m--> 494\u001b[1;33m             \u001b[1;32mraise\u001b[0m \u001b[0mException\u001b[0m\u001b[1;33m(\u001b[0m\u001b[1;34m\"Error when uploading data to table \"\u001b[0m \u001b[1;33m+\u001b[0m \u001b[0mstr\u001b[0m\u001b[1;33m(\u001b[0m\u001b[0mtableName\u001b[0m\u001b[1;33m)\u001b[0m \u001b[1;33m+\u001b[0m \u001b[1;34m\" in dataset \"\u001b[0m \u001b[1;33m+\u001b[0m \u001b[0mstr\u001b[0m\u001b[1;33m(\u001b[0m\u001b[0mdatasetName\u001b[0m\u001b[1;33m)\u001b[0m \u001b[1;33m+\u001b[0m \u001b[1;34m\".\\nHttp Response from SkyQuery API returned status code \"\u001b[0m \u001b[1;33m+\u001b[0m \u001b[0mstr\u001b[0m\u001b[1;33m(\u001b[0m\u001b[0mresponse\u001b[0m\u001b[1;33m.\u001b[0m\u001b[0mstatus_code\u001b[0m\u001b[1;33m)\u001b[0m \u001b[1;33m+\u001b[0m \u001b[1;34m\":\\n\"\u001b[0m \u001b[1;33m+\u001b[0m \u001b[0mresponse\u001b[0m\u001b[1;33m.\u001b[0m\u001b[0mcontent\u001b[0m\u001b[1;33m.\u001b[0m\u001b[0mdecode\u001b[0m\u001b[1;33m(\u001b[0m\u001b[1;33m)\u001b[0m\u001b[1;33m)\u001b[0m\u001b[1;33m;\u001b[0m\u001b[1;33m\u001b[0m\u001b[0m\n\u001b[0m\u001b[0;32m    495\u001b[0m     \u001b[1;32melse\u001b[0m\u001b[1;33m:\u001b[0m\u001b[1;33m\u001b[0m\u001b[0m\n\u001b[0;32m    496\u001b[0m         \u001b[1;32mraise\u001b[0m \u001b[0mException\u001b[0m\u001b[1;33m(\u001b[0m\u001b[1;34m\"User token is not defined. First log into SciServer.\"\u001b[0m\u001b[1;33m)\u001b[0m\u001b[1;33m\u001b[0m\u001b[0m\n",
      "\u001b[1;31mException\u001b[0m: Error when uploading data to table TestTable_SkyQuery in dataset MyDB.\nHttp Response from SkyQuery API returned status code 500:\n{\"restError\":{\"LogEventID\":\"409665\",\"Message\":\"Table copy failed: There is already an object named 'TestTable_SkyQuery' in the database.\",\"StackTrace\":\"   at Jhu.Graywulf.IO.Tasks.CopyTableBase.HandleException(Exception ex, TableCopyResult result) in C:\\\\Data\\\\dobos\\\\project\\\\skyquery-all-v1.2\\\\graywulf\\\\dll\\\\Jhu.Graywulf.IO\\\\IO\\\\Tasks\\\\CopyTableBase.cs:line 431\\u000d\\u000a   at Jhu.Graywulf.IO.Tasks.ImportTable.OnExecute() in C:\\\\Data\\\\dobos\\\\project\\\\skyquery-all-v1.2\\\\graywulf\\\\dll\\\\Jhu.Graywulf.IO\\\\IO\\\\Tasks\\\\ImportTable.cs:line 156\\u000d\\u000a   at Jhu.Graywulf.Tasks.CancelableTask.Execute() in C:\\\\Data\\\\dobos\\\\project\\\\skyquery-all-v1.2\\\\graywulf\\\\dll\\\\Jhu.Graywulf.RemoteService\\\\Tasks\\\\CancelableTask.cs:line 86\\u000d\\u000a   at Jhu.Graywulf.RemoteService.RemoteServiceBase.Execute() in C:\\\\Data\\\\dobos\\\\project\\\\skyquery-all-v1.2\\\\graywulf\\\\dll\\\\Jhu.Graywulf.RemoteService\\\\RemoteService\\\\RemoteServiceBase.cs:line 44\\u000d\\u000a   at Jhu.Graywulf.Web.Api.V1.DataService.UploadTable(String datasetName, String tableName, Stream data) in C:\\\\Data\\\\dobos\\\\project\\\\skyquery-all-v1.2\\\\graywulf\\\\dll\\\\Jhu.Graywulf.Web.Api\\\\Web\\\\Api\\\\V1\\\\Services\\\\DataService.cs:line 175\\u000d\\u000a   at SyncInvokeUploadTable(Object , Object[] , Object[] )\\u000d\\u000a   at System.ServiceModel.Dispatcher.SyncMethodInvoker.Invoke(Object instance, Object[] inputs, Object[]& outputs)\\u000d\\u000a   at Jhu.Graywulf.Web.Services.RestOperationInvoker.Invoke(Object instance, Object[] inputs, Object[]& outputs) in C:\\\\Data\\\\dobos\\\\project\\\\skyquery-all-v1.2\\\\graywulf\\\\dll\\\\Jhu.Graywulf.Web\\\\Web\\\\Services\\\\RestOperationInvoker.cs:line 48\",\"Type\":\"Jhu.Graywulf.IO.Tasks.TableCopyException\"}}"
     ]
    }
   ],
   "source": [
    "# Uploading your sample CSV file. Returns true.\n",
    "# This works only if the table you specified does not already exist.\n",
    "\n",
    "result = SkyQuery.uploadTable(uploadData=SkyQuery_TestTableCSV, tableName=SkyQuery_TestTableName, datasetName=\"MyDB\", format=\"csv\")\n",
    "print(result)"
   ]
  },
  {
   "cell_type": "code",
   "execution_count": 39,
   "metadata": {
    "collapsed": false
   },
   "outputs": [
    {
     "data": {
      "text/html": [
       "<div>\n",
       "<style>\n",
       "    .dataframe thead tr:only-child th {\n",
       "        text-align: right;\n",
       "    }\n",
       "\n",
       "    .dataframe thead th {\n",
       "        text-align: left;\n",
       "    }\n",
       "\n",
       "    .dataframe tbody tr th {\n",
       "        vertical-align: top;\n",
       "    }\n",
       "</style>\n",
       "<table border=\"1\" class=\"dataframe\">\n",
       "  <thead>\n",
       "    <tr style=\"text-align: right;\">\n",
       "      <th></th>\n",
       "      <th>#ID</th>\n",
       "      <th>Column1</th>\n",
       "      <th>Column2</th>\n",
       "    </tr>\n",
       "  </thead>\n",
       "  <tbody>\n",
       "    <tr>\n",
       "      <th>0</th>\n",
       "      <td>1</td>\n",
       "      <td>15.5</td>\n",
       "      <td>16.5</td>\n",
       "    </tr>\n",
       "  </tbody>\n",
       "</table>\n",
       "</div>"
      ],
      "text/plain": [
       "   #ID  Column1  Column2\n",
       "0    1     15.5     16.5"
      ]
     },
     "execution_count": 39,
     "metadata": {},
     "output_type": "execute_result"
    }
   ],
   "source": [
    "# Downloading the contents of a table in your MyDB (returns a pandas dataframe)\n",
    "\n",
    "table = SkyQuery.getTable(tableName=SkyQuery_TestTableName, datasetName=\"MyDB\", top=10)\n",
    "table"
   ]
  },
  {
   "cell_type": "code",
   "execution_count": 41,
   "metadata": {
    "collapsed": false
   },
   "outputs": [
    {
     "name": "stdout",
     "output_type": "stream",
     "text": [
      "[{'class': '',\n",
      "  'columns': [{'class': '',\n",
      "               'dataType': 'int',\n",
      "               'name': 'Column2',\n",
      "               'quantity': '',\n",
      "               'remarks': '',\n",
      "               'size': 4,\n",
      "               'summary': '',\n",
      "               'unit': ''},\n",
      "              {'class': '',\n",
      "               'dataType': 'int',\n",
      "               'name': 'Column1',\n",
      "               'quantity': '',\n",
      "               'remarks': '',\n",
      "               'size': 4,\n",
      "               'summary': '',\n",
      "               'unit': ''}],\n",
      "  'example': '',\n",
      "  'name': 'webuser.MyNewtable4',\n",
      "  'remarks': '',\n",
      "  'summary': ''},\n",
      " {'class': '',\n",
      "  'columns': [{'class': '',\n",
      "               'dataType': 'int',\n",
      "               'name': 'Column2',\n",
      "               'quantity': '',\n",
      "               'remarks': '',\n",
      "               'size': 4,\n",
      "               'summary': '',\n",
      "               'unit': ''},\n",
      "              {'class': '',\n",
      "               'dataType': 'int',\n",
      "               'name': 'Column1',\n",
      "               'quantity': '',\n",
      "               'remarks': '',\n",
      "               'size': 4,\n",
      "               'summary': '',\n",
      "               'unit': ''}],\n",
      "  'example': '',\n",
      "  'name': 'webuser.MyNewtable54',\n",
      "  'remarks': '',\n",
      "  'summary': ''},\n",
      " {'class': '',\n",
      "  'columns': [{'class': '',\n",
      "               'dataType': 'int',\n",
      "               'name': 'Column2',\n",
      "               'quantity': '',\n",
      "               'remarks': '',\n",
      "               'size': 4,\n",
      "               'summary': '',\n",
      "               'unit': ''},\n",
      "              {'class': '',\n",
      "               'dataType': 'int',\n",
      "               'name': 'Column1',\n",
      "               'quantity': '',\n",
      "               'remarks': '',\n",
      "               'size': 4,\n",
      "               'summary': '',\n",
      "               'unit': ''}],\n",
      "  'example': '',\n",
      "  'name': 'webuser.MyNewtable55',\n",
      "  'remarks': '',\n",
      "  'summary': ''},\n",
      " {'class': '',\n",
      "  'columns': [{'class': '',\n",
      "               'dataType': 'float',\n",
      "               'name': 'Column2',\n",
      "               'quantity': '',\n",
      "               'remarks': '',\n",
      "               'size': 8,\n",
      "               'summary': '',\n",
      "               'unit': ''},\n",
      "              {'class': '',\n",
      "               'dataType': 'bigint',\n",
      "               'name': 'ID',\n",
      "               'quantity': '',\n",
      "               'remarks': '',\n",
      "               'size': 8,\n",
      "               'summary': '',\n",
      "               'unit': ''},\n",
      "              {'class': '',\n",
      "               'dataType': 'float',\n",
      "               'name': 'Column1',\n",
      "               'quantity': '',\n",
      "               'remarks': '',\n",
      "               'size': 8,\n",
      "               'summary': '',\n",
      "               'unit': ''}],\n",
      "  'example': '',\n",
      "  'name': 'webuser.TestTable_SkyQuery',\n",
      "  'remarks': '',\n",
      "  'summary': ''},\n",
      " {'class': '',\n",
      "  'columns': [{'class': '',\n",
      "               'dataType': 'decimal',\n",
      "               'name': 'Column2',\n",
      "               'quantity': '',\n",
      "               'remarks': '',\n",
      "               'size': 16,\n",
      "               'summary': '',\n",
      "               'unit': ''},\n",
      "              {'class': '',\n",
      "               'dataType': 'decimal',\n",
      "               'name': 'Column1',\n",
      "               'quantity': '',\n",
      "               'remarks': '',\n",
      "               'size': 16,\n",
      "               'summary': '',\n",
      "               'unit': ''}],\n",
      "  'example': '',\n",
      "  'name': 'webuser.QuickResults',\n",
      "  'remarks': '',\n",
      "  'summary': ''},\n",
      " {'class': '',\n",
      "  'columns': [{'class': '',\n",
      "               'dataType': 'int',\n",
      "               'name': 'Column2',\n",
      "               'quantity': '',\n",
      "               'remarks': '',\n",
      "               'size': 4,\n",
      "               'summary': '',\n",
      "               'unit': ''},\n",
      "              {'class': '',\n",
      "               'dataType': 'int',\n",
      "               'name': 'Column1',\n",
      "               'quantity': '',\n",
      "               'remarks': '',\n",
      "               'size': 4,\n",
      "               'summary': '',\n",
      "               'unit': ''}],\n",
      "  'example': '',\n",
      "  'name': 'webuser.MyNewtable544',\n",
      "  'remarks': '',\n",
      "  'summary': ''},\n",
      " {'class': '',\n",
      "  'columns': [{'class': '',\n",
      "               'dataType': 'int',\n",
      "               'name': 'Column2',\n",
      "               'quantity': '',\n",
      "               'remarks': '',\n",
      "               'size': 4,\n",
      "               'summary': '',\n",
      "               'unit': ''},\n",
      "              {'class': '',\n",
      "               'dataType': 'int',\n",
      "               'name': 'Column1',\n",
      "               'quantity': '',\n",
      "               'remarks': '',\n",
      "               'size': 4,\n",
      "               'summary': '',\n",
      "               'unit': ''}],\n",
      "  'example': '',\n",
      "  'name': 'webuser.MyNewtable3',\n",
      "  'remarks': '',\n",
      "  'summary': ''},\n",
      " {'class': '',\n",
      "  'columns': [{'class': '',\n",
      "               'dataType': 'int',\n",
      "               'name': 'Column2',\n",
      "               'quantity': '',\n",
      "               'remarks': '',\n",
      "               'size': 4,\n",
      "               'summary': '',\n",
      "               'unit': ''},\n",
      "              {'class': '',\n",
      "               'dataType': 'int',\n",
      "               'name': 'Column1',\n",
      "               'quantity': '',\n",
      "               'remarks': '',\n",
      "               'size': 4,\n",
      "               'summary': '',\n",
      "               'unit': ''}],\n",
      "  'example': '',\n",
      "  'name': 'webuser.MyNewtable2',\n",
      "  'remarks': '',\n",
      "  'summary': ''}]\n"
     ]
    }
   ],
   "source": [
    "#list tables inside dataset\n",
    "\n",
    "tables = SkyQuery.listDatasetTables(\"MyDB\")\n",
    "pprint(tables)"
   ]
  },
  {
   "cell_type": "code",
   "execution_count": 44,
   "metadata": {
    "collapsed": false
   },
   "outputs": [
    {
     "name": "stdout",
     "output_type": "stream",
     "text": [
      "{'class': '',\n",
      " 'columns': [{'class': '',\n",
      "              'dataType': 'float',\n",
      "              'name': 'Column1',\n",
      "              'quantity': '',\n",
      "              'remarks': '',\n",
      "              'size': 8,\n",
      "              'summary': '',\n",
      "              'unit': ''},\n",
      "             {'class': '',\n",
      "              'dataType': 'float',\n",
      "              'name': 'Column2',\n",
      "              'quantity': '',\n",
      "              'remarks': '',\n",
      "              'size': 8,\n",
      "              'summary': '',\n",
      "              'unit': ''},\n",
      "             {'class': '',\n",
      "              'dataType': 'bigint',\n",
      "              'name': 'ID',\n",
      "              'quantity': '',\n",
      "              'remarks': '',\n",
      "              'size': 8,\n",
      "              'summary': '',\n",
      "              'unit': ''}],\n",
      " 'example': '',\n",
      " 'name': 'webuser.TestTable_SkyQuery',\n",
      " 'remarks': '',\n",
      " 'summary': ''}\n"
     ]
    }
   ],
   "source": [
    "#get info for a specified table:\n",
    "\n",
    "info = SkyQuery.getTableInfo(tableName=\"webuser.\" + SkyQuery_TestTableName, datasetName=\"MyDB\")\n",
    "pprint(info)"
   ]
  },
  {
   "cell_type": "code",
   "execution_count": 46,
   "metadata": {
    "collapsed": false
   },
   "outputs": [
    {
     "name": "stdout",
     "output_type": "stream",
     "text": [
      "[{'class': '',\n",
      "  'dataType': 'float',\n",
      "  'name': 'Column2',\n",
      "  'quantity': '',\n",
      "  'remarks': '',\n",
      "  'size': 8,\n",
      "  'summary': '',\n",
      "  'unit': ''},\n",
      " {'class': '',\n",
      "  'dataType': 'bigint',\n",
      "  'name': 'ID',\n",
      "  'quantity': '',\n",
      "  'remarks': '',\n",
      "  'size': 8,\n",
      "  'summary': '',\n",
      "  'unit': ''},\n",
      " {'class': '',\n",
      "  'dataType': 'float',\n",
      "  'name': 'Column1',\n",
      "  'quantity': '',\n",
      "  'remarks': '',\n",
      "  'size': 8,\n",
      "  'summary': '',\n",
      "  'unit': ''}]\n"
     ]
    }
   ],
   "source": [
    "#get dataset table columns info\n",
    "\n",
    "columns = SkyQuery.listTableColumns(tableName=\"webuser.\" + SkyQuery_TestTableName, datasetName=\"MyDB\")\n",
    "pprint(columns)"
   ]
  },
  {
   "cell_type": "code",
   "execution_count": 47,
   "metadata": {
    "collapsed": false
   },
   "outputs": [
    {
     "name": "stdout",
     "output_type": "stream",
     "text": [
      "True\n"
     ]
    }
   ],
   "source": [
    "#drop (or delete) table from dataset.\n",
    "\n",
    "result = SkyQuery.dropTable(tableName=SkyQuery_TestTableName, datasetName=\"MyDB\");\n",
    "print(result)"
   ]
  },
  {
   "cell_type": "code",
   "execution_count": null,
   "metadata": {
    "collapsed": true
   },
   "outputs": [],
   "source": []
  }
 ],
 "metadata": {
  "kernelspec": {
   "display_name": "Python 3",
   "language": "python",
   "name": "python3"
  },
  "language_info": {
   "codemirror_mode": {
    "name": "ipython",
    "version": 3
   },
   "file_extension": ".py",
   "mimetype": "text/x-python",
   "name": "python",
   "nbconvert_exporter": "python",
   "pygments_lexer": "ipython3",
   "version": "3.5.3"
  }
 },
 "nbformat": 4,
 "nbformat_minor": 0
}
