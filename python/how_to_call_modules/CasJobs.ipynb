{
 "cells": [
  {
   "cell_type": "code",
   "execution_count": null,
   "metadata": {
    "collapsed": false
   },
   "outputs": [],
   "source": [
    "#import SciServer\n",
    "#from SciServer import Authentication, LoginPortal, Config, CasJobs, SkyQuery, SciDrive, SkyServer\n",
    "from SciServer import CasJobs\n",
    "#import os\n",
    "#import sys\n",
    "#import json\n",
    "#from io import StringIO\n",
    "#from io import BytesIO\n",
    "#from PIL import Image\n",
    "#import matplotlib.pyplot as plt\n",
    "print('Imported SciServer modules')"
   ]
  },
  {
   "cell_type": "code",
   "execution_count": null,
   "metadata": {
    "collapsed": false
   },
   "outputs": [],
   "source": [
    "import pandas\n",
    "import numpy as np\n",
    "from pprint import pprint\n",
    "from datetime import datetime, timedelta\n",
    "print('Imported other needed modules')"
   ]
  },
  {
   "cell_type": "code",
   "execution_count": null,
   "metadata": {
    "collapsed": false
   },
   "outputs": [],
   "source": [
    "# Read the help document for the entire SciServer package\n",
    "help(SciServer)"
   ]
  },
  {
   "cell_type": "code",
   "execution_count": null,
   "metadata": {
    "collapsed": false
   },
   "outputs": [],
   "source": [
    "# Read the help document for the CasJobs module\n",
    "help(CasJobs)"
   ]
  },
  {
   "cell_type": "code",
   "execution_count": null,
   "metadata": {
    "collapsed": false
   },
   "outputs": [],
   "source": [
    "# Define some very simple test cases for the purposes of this example notebook\n",
    "\n",
    "CasJobs_TestDatabase = \"MyDB\" # use your MyDB - normally you won't need to change this\n",
    "CasJobs_TestQuery = \"select 4 as Column1, 5 as Column2 \" # toy query, simply returns two columns of constants: 4, 5.\n",
    "CasJobs_TestTableName1 = \"MyNewtable1\"    # the name of a new table to be created (doesn't yet exist)\n",
    "CasJobs_TestTableName2 = \"MyNewtable37\"    # the name of a new table to be created (doesn't yet exist)\n",
    "CasJobs_TestTableCSV = u\"Column1,Column2\\n6,7\\n\"    # toy CSV file: 1 row x 2 columns of constants: 6, 7.\n",
    "CasJobs_TestCSVFile = \"SciScriptTestFile.csv\"       # a more real CSV file. It must be included in this dir in current container.\n",
    "CasJobs_TestFitsFile = \"SciScriptTestFile.fits\"     # a FITS file to upload\n",
    "\n",
    "print('Test case variables set.')"
   ]
  },
  {
   "cell_type": "code",
   "execution_count": null,
   "metadata": {
    "collapsed": false
   },
   "outputs": [],
   "source": [
    "#get user schema info\n",
    "\n",
    "casJobsId = CasJobs.getSchemaName()\n",
    "print(casJobsId)"
   ]
  },
  {
   "cell_type": "code",
   "execution_count": null,
   "metadata": {
    "collapsed": false
   },
   "outputs": [],
   "source": [
    "# Returns the following information abaout the tables in your MyDB (as a Python dictionary object):\n",
    "### Size: size of the table (in kB)\n",
    "### Name: the name of the table\n",
    "### Rows: the number of rows the table contains\n",
    "### Date: the date of the table's creation, as the number of 10-microsecond intervals elapsed 1 AD\n",
    "\n",
    "# These convenience functions will print your list of tables in human-readable format\n",
    "\n",
    "def better_createdate(cjCreateDate):     # returns table create date as a datetime object\n",
    "    createsec = cjCreateDate / 10000000  # Divide by 10 million to get seconds elapsed since 1 AD\n",
    "    firstday = datetime(1, 1, 1, 0, 0)   # Save 1 AD as \"firstday\"\n",
    "    created = firstday + timedelta(seconds=createsec)  # Get calendar date on which table was created\n",
    "    return (created)\n",
    "def tables_formatted(tables):   # better formatted printing of a tables dictionary (output of get_tables)\n",
    "    for thistable in tables:\n",
    "        print('Table name: ',thistable['Name'])\n",
    "        print('Rows: ',thistable['Rows'])\n",
    "        print('Size (kB): ',thistable['Size'])\n",
    "        betterdate = better_createdate(thistable['Date'])\n",
    "        print('Created time: ',betterdate.strftime('%Y-%m-%d %H:%M:%S'))\n",
    "        print('\\n')\n",
    "\n",
    "tables = CasJobs.getTables(context=CasJobs_TestDatabase)\n",
    "print('Tables in '+CasJobs_TestDatabase+':\\n')\n",
    "tables_formatted(tables)"
   ]
  },
  {
   "cell_type": "code",
   "execution_count": null,
   "metadata": {
    "collapsed": false
   },
   "outputs": [],
   "source": [
    "#executes a quick SQL query and store results in a pandas dataframe:\n",
    "\n",
    "\n",
    "df = CasJobs.executeQuery(sql=CasJobs_TestQuery, context=CasJobs_TestDatabase, format=\"pandas\")\n",
    "df\n",
    "\n",
    "# Other options for return format (format=...):\n",
    "# 'json': a JSON string containing the query results\n",
    "# 'dict': a dictionary created from the JSON string containing the query results\n",
    "# 'csv': a csv string\n",
    "# 'readable': an object of type io.StringIO, which has the .read() method and wraps a csv string that can be passed into pandas.read_csv for example\n",
    "# 'StringIO': an object of type io.StringIO, which has the .read() method and wraps a csv string that can be passed into pandas.read_csv for example\n",
    "# 'fits': an object of type io.BytesIO, which has the .read() method and wraps the result in fits format\n",
    "# 'BytesIO': an object of type io.BytesIO, which has the .read() method and wraps the result in fits format\n",
    "\n",
    "# CasJobs.executeQuery(sql, context, format)"
   ]
  },
  {
   "cell_type": "code",
   "execution_count": null,
   "metadata": {
    "collapsed": false
   },
   "outputs": [],
   "source": [
    "#submit a job, which inserts the query results into a table in the MyDB database context. \n",
    "#Wait until the job is done and get its status.\n",
    "\n",
    "def translate_status(status):\n",
    "    if (status == 0):\n",
    "        status_word = 'Ready'\n",
    "    elif (status == 1):\n",
    "        status_word = 'Started'\n",
    "    elif (status == 2):\n",
    "        status_word = 'Cancelling'\n",
    "    elif (status == 3):\n",
    "        status_word = 'Cancelled'\n",
    "    elif (status == 4):\n",
    "        status_word = 'Failed'\n",
    "    elif (status == 5):\n",
    "        status_word = 'Finished'\n",
    "    else:\n",
    "        status_word = 'Status not found!!!!!!!!!'\n",
    "    return (status_word)\n",
    "\n",
    "def jobDescriber(jobDescription):\n",
    "    print('JobID: ',jobDescription['JobID'])\n",
    "    print('Status: ',jobDescription['Status'],' (',translate_status(jobDescription['Status']),')')\n",
    "    print('Message: ',jobDescription['Message'])\n",
    "    print('Created_Table: ',jobDescription['Created_Table'])\n",
    "    print('Rows: ',jobDescription['Rows'])\n",
    "    wait = pandas.to_datetime(jobDescription['TimeStart']) - pandas.to_datetime(jobDescription['TimeSubmit'])\n",
    "    duration = pandas.to_datetime(jobDescription['TimeEnd']) - pandas.to_datetime(jobDescription['TimeStart'])\n",
    "    print('Wait time: ',wait.seconds,' seconds')\n",
    "    print('Query duration: ',duration.seconds, 'seconds')\n",
    "\n",
    "    \n",
    "thequery = CasJobs_TestQuery + 'into MyDB.' + CasJobs_TestTableName2\n",
    "\n",
    "jobId = CasJobs.submitJob(sql=thequery, context=\"MyDB\")\n",
    "print('Submitting query:\\n',thequery)\n",
    "print('\\n')\n",
    "print('Job submitted with jobId = ',jobId)\n",
    "print('\\n')\n",
    "jobDescription = CasJobs.waitForJob(jobId=jobId, verbose=True)\n",
    "print('\\n')\n",
    "print('Information about the job:')\n",
    "jobDescriber(jobDescription)"
   ]
  },
  {
   "cell_type": "code",
   "execution_count": null,
   "metadata": {
    "collapsed": false
   },
   "outputs": [],
   "source": [
    "bigtablename = 'hugetable'\n",
    "\n",
    "verylongquery = 'select top 150000 *\\n'\n",
    "verylongquery += 'into ' + CasJobs_TestDatabase + '.'+ bigtablename + '\\n'\n",
    "verylongquery += 'from photoobjall'\n",
    "\n",
    "#thequery = CasJobs_TestQuery + 'into MyDB.' + CasJobs_TestTableName2\n",
    "thequery = verylongquery\n",
    "\n",
    "print('Submitting query:\\n',thequery)\n",
    "print('\\n')\n",
    "\n",
    "jobId = CasJobs.submitJob(sql=thequery, context=\"DR14\")\n",
    "\n",
    "print('Job submitted with jobId = ',jobId)\n",
    "print('\\n')\n",
    "\n",
    "jobDescription = CasJobs.waitForJob(jobId=jobId, verbose=True)\n",
    "print('\\n')\n",
    "\n",
    "print('Information about the job:')\n",
    "jobDescriber(jobDescription)\n",
    "#pprint(jobDescription)"
   ]
  },
  {
   "cell_type": "code",
   "execution_count": null,
   "metadata": {
    "collapsed": true
   },
   "outputs": [],
   "source": []
  }
 ],
 "metadata": {
  "kernelspec": {
   "display_name": "Python 3",
   "language": "python",
   "name": "python3"
  },
  "language_info": {
   "codemirror_mode": {
    "name": "ipython",
    "version": 3
   },
   "file_extension": ".py",
   "mimetype": "text/x-python",
   "name": "python",
   "nbconvert_exporter": "python",
   "pygments_lexer": "ipython3",
   "version": "3.5.3"
  }
 },
 "nbformat": 4,
 "nbformat_minor": 0
}
