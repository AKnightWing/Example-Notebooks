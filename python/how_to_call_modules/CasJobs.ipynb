{
 "cells": [
  {
   "cell_type": "code",
   "execution_count": 1,
   "metadata": {
    "collapsed": false
   },
   "outputs": [
    {
     "name": "stdout",
     "output_type": "stream",
     "text": [
      "Imported SciServer modules\n"
     ]
    }
   ],
   "source": [
    "import SciServer\n",
    "#from SciServer import Authentication, LoginPortal, Config, CasJobs, SkyQuery, SciDrive, SkyServer\n",
    "from SciServer import CasJobs\n",
    "#import os\n",
    "#import pandas\n",
    "#import sys\n",
    "#import json\n",
    "#from io import StringIO\n",
    "#from io import BytesIO\n",
    "#from PIL import Image\n",
    "#import numpy as np\n",
    "#import matplotlib.pyplot as plt\n",
    "print('Imported SciServer modules')"
   ]
  },
  {
   "cell_type": "code",
   "execution_count": 2,
   "metadata": {
    "collapsed": false
   },
   "outputs": [
    {
     "name": "stdout",
     "output_type": "stream",
     "text": [
      "Imported other needed modules\n"
     ]
    }
   ],
   "source": [
    "import pandas\n",
    "import numpy as np\n",
    "from pprint import pprint\n",
    "from datetime import datetime, timedelta\n",
    "print('Imported other needed modules')"
   ]
  },
  {
   "cell_type": "code",
   "execution_count": null,
   "metadata": {
    "collapsed": false
   },
   "outputs": [],
   "source": [
    "# Read the help document for the entire SciServer package\n",
    "help(SciServer)"
   ]
  },
  {
   "cell_type": "code",
   "execution_count": null,
   "metadata": {
    "collapsed": false
   },
   "outputs": [],
   "source": [
    "# Read the help document for the CasJobs module\n",
    "help(CasJobs)"
   ]
  },
  {
   "cell_type": "code",
   "execution_count": 7,
   "metadata": {
    "collapsed": false
   },
   "outputs": [
    {
     "name": "stdout",
     "output_type": "stream",
     "text": [
      "Test case variables set.\n"
     ]
    }
   ],
   "source": [
    "# Define some very simple test cases for the purposes of this example notebook\n",
    "\n",
    "CasJobs_TestDatabase = \"MyDB\" # use your MyDB - normally you won't need to change this\n",
    "CasJobs_TestQuery = \"select 4 as Column1, 5 as Column2 \" # toy query, simply returns two columns of constants: 4, 5.\n",
    "CasJobs_TestTableName1 = \"MyNewtable1\"    # the name of a new table to be created (doesn't yet exist)\n",
    "CasJobs_TestTableName2 = \"MyNewtable2\"    # the name of a new table to be created (doesn't yet exist)\n",
    "CasJobs_TestTableCSV = u\"Column1,Column2\\n6,7\\n\"    # toy CSV file: 1 row x 2 columns of constants: 6, 7.\n",
    "CasJobs_TestCSVFile = \"SciScriptTestFile.csv\"       # a more real CSV file. It must be included in this dir in current container.\n",
    "CasJobs_TestFitsFile = \"SciScriptTestFile.fits\"     # a FITS file to upload\n",
    "\n",
    "\n",
    "print('Test case variables set.')"
   ]
  },
  {
   "cell_type": "code",
   "execution_count": 4,
   "metadata": {
    "collapsed": false
   },
   "outputs": [
    {
     "name": "stdout",
     "output_type": "stream",
     "text": [
      "wsid_1220987707\n"
     ]
    }
   ],
   "source": [
    "#get user schema info\n",
    "\n",
    "casJobsId = CasJobs.getSchemaName()\n",
    "print(casJobsId)"
   ]
  },
  {
   "cell_type": "code",
   "execution_count": 5,
   "metadata": {
    "collapsed": false
   },
   "outputs": [
    {
     "name": "stdout",
     "output_type": "stream",
     "text": [
      "Tables in MyDB:\n",
      "\n",
      "Table name:  MyNewtable1\n",
      "Rows:  1\n",
      "Size (kB):  16\n",
      "Created time:  2017-08-02 09:59:38\n",
      "\n",
      "\n",
      "Table name:  MyNewtable2\n",
      "Rows:  1\n",
      "Size (kB):  16\n",
      "Created time:  2017-08-02 10:15:54\n",
      "\n",
      "\n",
      "Table name:  thing1\n",
      "Rows:  1\n",
      "Size (kB):  16\n",
      "Created time:  2017-08-02 10:20:30\n",
      "\n",
      "\n",
      "Table name:  thing2\n",
      "Rows:  1\n",
      "Size (kB):  16\n",
      "Created time:  2017-08-02 10:21:00\n",
      "\n",
      "\n",
      "Table name:  thing3\n",
      "Rows:  1\n",
      "Size (kB):  16\n",
      "Created time:  2017-08-02 10:29:22\n",
      "\n",
      "\n"
     ]
    }
   ],
   "source": [
    "# Returns the following information abaout the tables in your MyDB (as a Python dictionary object):\n",
    "### Size: size of the table (in kB)\n",
    "### Name: the name of the table\n",
    "### Rows: the number of rows the table contains\n",
    "### Date: the date of the table's creation, as the number of 10-microsecond intervals elapsed 1 AD\n",
    "\n",
    "# These convenience functions will print your list of tables in human-readable format\n",
    "\n",
    "def better_createdate(cjCreateDate):     # returns table create date as a datetime object\n",
    "    createsec = cjCreateDate / 10000000  # Divide by 10 million to get seconds elapsed since 1 AD\n",
    "    firstday = datetime(1, 1, 1, 0, 0)   # Save 1 AD as \"firstday\"\n",
    "    created = firstday + timedelta(seconds=createsec)  # Get calendar date on which table was created\n",
    "    return (created)\n",
    "\n",
    "def tables_formatted(tables):   # better formatted printing of a tables dictionary (output of get_tables)\n",
    "    for thistable in tables:\n",
    "        print('Table name: ',thistable['Name'])\n",
    "        print('Rows: ',thistable['Rows'])\n",
    "        print('Size (kB): ',thistable['Size'])\n",
    "        betterdate = better_createdate(thistable['Date'])\n",
    "        print('Created time: ',betterdate.strftime('%Y-%m-%d %H:%M:%S'))\n",
    "        print('\\n')\n",
    "\n",
    "tables = CasJobs.getTables(context=CasJobs_TestDatabase)\n",
    "print('Tables in '+CasJobs_TestDatabase+':\\n')\n",
    "tables_formatted(tables)"
   ]
  },
  {
   "cell_type": "code",
   "execution_count": 8,
   "metadata": {
    "collapsed": false
   },
   "outputs": [
    {
     "data": {
      "text/html": [
       "<div>\n",
       "<style>\n",
       "    .dataframe thead tr:only-child th {\n",
       "        text-align: right;\n",
       "    }\n",
       "\n",
       "    .dataframe thead th {\n",
       "        text-align: left;\n",
       "    }\n",
       "\n",
       "    .dataframe tbody tr th {\n",
       "        vertical-align: top;\n",
       "    }\n",
       "</style>\n",
       "<table border=\"1\" class=\"dataframe\">\n",
       "  <thead>\n",
       "    <tr style=\"text-align: right;\">\n",
       "      <th></th>\n",
       "      <th>Column1</th>\n",
       "      <th>Column2</th>\n",
       "    </tr>\n",
       "  </thead>\n",
       "  <tbody>\n",
       "    <tr>\n",
       "      <th>0</th>\n",
       "      <td>4</td>\n",
       "      <td>5</td>\n",
       "    </tr>\n",
       "  </tbody>\n",
       "</table>\n",
       "</div>"
      ],
      "text/plain": [
       "   Column1  Column2\n",
       "0        4        5"
      ]
     },
     "execution_count": 8,
     "metadata": {},
     "output_type": "execute_result"
    }
   ],
   "source": [
    "#executes a quick SQL query and store results in a pandas dataframe:\n",
    "\n",
    "\n",
    "df = CasJobs.executeQuery(sql=CasJobs_TestQuery, context=CasJobs_TestDatabase, format=\"pandas\")\n",
    "df\n",
    "\n",
    "# Other options for return format (format=...):\n",
    "# 'json': a JSON string containing the query results\n",
    "# 'dict': a dictionary created from the JSON string containing the query results\n",
    "# 'csv': a csv string\n",
    "# 'readable': an object of type io.StringIO, which has the .read() method and wraps a csv string that can be passed into pandas.read_csv for example\n",
    "# 'StringIO': an object of type io.StringIO, which has the .read() method and wraps a csv string that can be passed into pandas.read_csv for example\n",
    "# 'fits': an object of type io.BytesIO, which has the .read() method and wraps the result in fits format\n",
    "# 'BytesIO': an object of type io.BytesIO, which has the .read() method and wraps the result in fits format\n",
    "\n",
    "# CasJobs.executeQuery(sql, context, format)"
   ]
  },
  {
   "cell_type": "code",
   "execution_count": 10,
   "metadata": {
    "collapsed": false
   },
   "outputs": [
    {
     "name": "stdout",
     "output_type": "stream",
     "text": [
      "Query to be executed:  select 4 as Column1, 5 as Column2  \n",
      "\n",
      "Job submitted with jobId =  29953162\n",
      "Waiting...Waiting...Waiting...Waiting...Done!\n",
      "\n",
      "\n",
      "Information about the job:\n",
      "{'AutoComplete': 0,\n",
      " 'Created_Table': 'MyNewtable2',\n",
      " 'Estimate': 500,\n",
      " 'HostIP': 'SQL001DBHost   ',\n",
      " 'JobID': 29953162,\n",
      " 'Message': 'Query Complete',\n",
      " 'ModifiedQuery': 'select 4 as Column1, 5 as Column2  '\n",
      "                  '/*CASJOBS_INTO_TABLE:[sdss3q].mydb_1220987707.webuser.MyNewtable2*/',\n",
      " 'OutputLoc': '',\n",
      " 'OutputType': 'QUERY',\n",
      " 'Params': '',\n",
      " 'Query': 'select 4 as Column1, 5 as Column2  into MyDB.MyNewtable2',\n",
      " 'Rows': 1,\n",
      " 'SendEmail': 0,\n",
      " 'Status': 5,\n",
      " 'Target': 'MyDB',\n",
      " 'TaskName': 'Compute.SciScript-Python.CasJobs.submitJob',\n",
      " 'TimeEnd': '2017-08-02T13:28:25.493',\n",
      " 'TimeStart': '2017-08-02T13:28:25.367',\n",
      " 'TimeSubmit': '2017-08-02T13:28:21.06',\n",
      " 'WebServicesID': 1220987707}\n"
     ]
    }
   ],
   "source": [
    "#submit a job, which inserts the query results into a table in the MyDB database context. \n",
    "#Wait until the job is done and get its status.\n",
    "#myquery = CasJobs_TestQuerySelect + '\\n'\n",
    "#myquery += 'into' + CasJobs_TestDatabase + '.' + CasJobs_TestTableName2\n",
    "\n",
    "print('Query to be executed: ',CasJobs_TestQuery,'\\n')\n",
    "\n",
    "jobId = CasJobs.submitJob(sql=CasJobs_TestQuery + \" into MyDB.\" + CasJobs_TestTableName2, context=\"MyDB\")\n",
    "print('Job submitted with jobId = ',jobId)\n",
    "jobDescription = CasJobs.waitForJob(jobId=jobId, verbose=True)\n",
    "print('\\n')\n",
    "print('Information about the job:')\n",
    "pprint(jobDescription)"
   ]
  },
  {
   "cell_type": "code",
   "execution_count": 11,
   "metadata": {
    "collapsed": false
   },
   "outputs": [
    {
     "name": "stdout",
     "output_type": "stream",
     "text": [
      "select top 5000000 objid,ra,dec,u,g,r,i,z from dr14.photoobjall  into MyDB.hugetable\n",
      "Job submitted with jobId =  29953164\n",
      "Waiting...Waiting...Waiting...Waiting...Waiting...Waiting...Waiting...Waiting...Waiting...Waiting...Waiting...Waiting...Waiting...Waiting...Waiting...Waiting...Waiting...Waiting...Waiting...Waiting...Waiting...Waiting...Waiting...Waiting...Waiting...Waiting...Waiting...Waiting...Waiting...Waiting...Waiting...Waiting...Waiting...Waiting...Waiting...Waiting...Waiting...Waiting...Waiting...Waiting...Waiting...Waiting...Waiting...Waiting...Waiting...Waiting...Waiting...Waiting...Waiting...Waiting...Waiting...Waiting...Waiting...Waiting...Waiting...Waiting...Waiting...Waiting...Waiting...Waiting...Waiting...Waiting...Waiting...Waiting...Waiting...Waiting...Waiting...Waiting...Waiting...Waiting...Waiting...Waiting...Waiting...Waiting...Waiting...Waiting...Waiting...Waiting...Waiting...Waiting...Waiting...Waiting...Waiting...Waiting...Waiting...Waiting...Waiting...Waiting...Waiting...Waiting...Waiting...Waiting...Waiting...Waiting...Waiting...Waiting...Waiting...Waiting...Waiting...Waiting...Waiting...Waiting...Waiting...Waiting...Waiting...Waiting...Waiting...Waiting...Waiting...Waiting...Waiting...Waiting...Waiting...Waiting...Waiting...Waiting...Waiting...Waiting...Waiting...Waiting...Waiting...Waiting...Waiting...Waiting...Waiting...Done!\n",
      "\n",
      "\n",
      "Information about the job:\n",
      "{'AutoComplete': 0,\n",
      " 'Created_Table': 'hugetable',\n",
      " 'Estimate': 500,\n",
      " 'HostIP': 'BestDR14_long  ',\n",
      " 'JobID': 29953164,\n",
      " 'Message': 'Query Complete',\n",
      " 'ModifiedQuery': 'select top 5000000 objid,ra,dec,u,g,r,i,z from '\n",
      "                  '[SDSS4E].[BestDR14].dbo.photoobjall  '\n",
      "                  '/*CASJOBS_INTO_TABLE:[sdss3q].mydb_1220987707.webuser.hugetable*/',\n",
      " 'OutputLoc': '',\n",
      " 'OutputType': 'QUERY',\n",
      " 'Params': '',\n",
      " 'Query': 'select top 5000000 objid,ra,dec,u,g,r,i,z from dr14.photoobjall  '\n",
      "          'into MyDB.hugetable',\n",
      " 'Rows': 5000000,\n",
      " 'SendEmail': 0,\n",
      " 'Status': 5,\n",
      " 'Target': 'dr14',\n",
      " 'TaskName': 'Compute.SciScript-Python.CasJobs.submitJob',\n",
      " 'TimeEnd': '2017-08-02T13:33:09.823',\n",
      " 'TimeStart': '2017-08-02T13:28:55.577',\n",
      " 'TimeSubmit': '2017-08-02T13:28:49.087',\n",
      " 'WebServicesID': 1220987707}\n",
      "Query duration:  254 seconds\n"
     ]
    }
   ],
   "source": [
    "bigtablename = 'hugetable'\n",
    "verylongquery = 'select top 5000000 objid,ra,dec,u,g,r,i,z from dr14.photoobjall'\n",
    "\n",
    "#print(verylongquery)\n",
    "print(verylongquery +\"  into MyDB.\" + bigtablename)\n",
    "\n",
    "jobId = CasJobs.submitJob(sql=verylongquery +\"  into MyDB.\" + bigtablename, context=\"dr14\")\n",
    "print('Job submitted with jobId = ',jobId)\n",
    "jobDescription = CasJobs.waitForJob(jobId=jobId, verbose=True)\n",
    "print('\\n')\n",
    "print('Information about the job:')\n",
    "pprint(jobDescription)\n",
    "\n",
    "#print('AutoComplete: ',jobDescription['AutoComplete'])\n",
    "#print('Created_Table: ',jobDescription['Created_Table'])\n",
    "#print('JobID: ',jobDescription['JobID'])\n",
    "#print('Message: ',jobDescription['Message'])\n",
    "#print('Rows: ',jobDescription['Rows'])\n",
    "#print('Status: ',jobDescription['Status'])\n",
    "#print('TaskName: ',jobDescription['TaskName'])\n",
    "#print('TimeSubmit: ',jobDescription['TimeSubmit'])\n",
    "#print('TimeStart: ',jobDescription['TimeStart'])\n",
    "#print('TimeEnd: ',jobDescription['TimeEnd'])\n",
    "duration = pandas.to_datetime(jobDescription['TimeEnd']) - pandas.to_datetime(jobDescription['TimeStart'])\n",
    "print('Query duration: ',duration.seconds, 'seconds')"
   ]
  },
  {
   "cell_type": "code",
   "execution_count": null,
   "metadata": {
    "collapsed": false
   },
   "outputs": [],
   "source": [
    "print('2334243l2jkl423')"
   ]
  },
  {
   "cell_type": "code",
   "execution_count": null,
   "metadata": {
    "collapsed": true
   },
   "outputs": [],
   "source": [
    "jobDescription = CasJobs.getJobStatus(29952359)"
   ]
  },
  {
   "cell_type": "code",
   "execution_count": null,
   "metadata": {
    "collapsed": true
   },
   "outputs": [],
   "source": []
  }
 ],
 "metadata": {
  "kernelspec": {
   "display_name": "Python 3",
   "language": "python",
   "name": "python3"
  },
  "language_info": {
   "codemirror_mode": {
    "name": "ipython",
    "version": 3
   },
   "file_extension": ".py",
   "mimetype": "text/x-python",
   "name": "python",
   "nbconvert_exporter": "python",
   "pygments_lexer": "ipython3",
   "version": "3.5.3"
  }
 },
 "nbformat": 4,
 "nbformat_minor": 0
}
