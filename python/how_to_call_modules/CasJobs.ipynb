{
 "cells": [
  {
   "cell_type": "code",
   "execution_count": 1,
   "metadata": {
    "collapsed": false
   },
   "outputs": [
    {
     "name": "stdout",
     "output_type": "stream",
     "text": [
      "Imported SciServer modules\n"
     ]
    }
   ],
   "source": [
    "#import SciServer\n",
    "#from SciServer import Authentication, LoginPortal, Config, CasJobs, SkyQuery, SciDrive, SkyServer\n",
    "from SciServer import CasJobs\n",
    "#import os\n",
    "#import sys\n",
    "#import json\n",
    "#from io import StringIO\n",
    "#from io import BytesIO\n",
    "#from PIL import Image\n",
    "#import matplotlib.pyplot as plt\n",
    "print('Imported SciServer modules')"
   ]
  },
  {
   "cell_type": "code",
   "execution_count": 2,
   "metadata": {
    "collapsed": false
   },
   "outputs": [
    {
     "name": "stdout",
     "output_type": "stream",
     "text": [
      "Imported other needed modules\n"
     ]
    }
   ],
   "source": [
    "import pandas\n",
    "import numpy as np\n",
    "from pprint import pprint\n",
    "from datetime import datetime, timedelta\n",
    "print('Imported other needed modules')"
   ]
  },
  {
   "cell_type": "code",
   "execution_count": null,
   "metadata": {
    "collapsed": false
   },
   "outputs": [],
   "source": [
    "# Read the help document for the entire SciServer package\n",
    "help(SciServer)"
   ]
  },
  {
   "cell_type": "code",
   "execution_count": null,
   "metadata": {
    "collapsed": false
   },
   "outputs": [],
   "source": [
    "# Read the help document for the CasJobs module\n",
    "help(CasJobs)"
   ]
  },
  {
   "cell_type": "code",
   "execution_count": 8,
   "metadata": {
    "collapsed": false
   },
   "outputs": [
    {
     "name": "stdout",
     "output_type": "stream",
     "text": [
      "Test case variables set.\n"
     ]
    }
   ],
   "source": [
    "# Define some very simple test cases for the purposes of this example notebook\n",
    "\n",
    "CasJobs_TestDatabase = \"MyDB\" # use your MyDB - normally you won't need to change this\n",
    "CasJobs_TestQuery = \"select 4 as Column1, 5 as Column2 \" # toy query, simply returns two columns of constants: 4, 5.\n",
    "CasJobs_TestTableName1 = \"MyNewtable1\"    # the name of a new table to be created (doesn't yet exist)\n",
    "CasJobs_TestTableName2 = \"MyNewtable37\"    # the name of a new table to be created (doesn't yet exist)\n",
    "CasJobs_TestTableCSV = u\"Column1,Column2\\n6,7\\n\"    # toy CSV file: 1 row x 2 columns of constants: 6, 7.\n",
    "CasJobs_TestCSVFile = \"SciScriptTestFile.csv\"       # a more real CSV file. It must be included in this dir in current container.\n",
    "CasJobs_TestFitsFile = \"SciScriptTestFile.fits\"     # a FITS file to upload\n",
    "\n",
    "print('Test case variables set.')"
   ]
  },
  {
   "cell_type": "code",
   "execution_count": 4,
   "metadata": {
    "collapsed": false
   },
   "outputs": [
    {
     "name": "stdout",
     "output_type": "stream",
     "text": [
      "wsid_1220987707\n"
     ]
    }
   ],
   "source": [
    "#get user schema info\n",
    "\n",
    "casJobsId = CasJobs.getSchemaName()\n",
    "print(casJobsId)"
   ]
  },
  {
   "cell_type": "code",
   "execution_count": 9,
   "metadata": {
    "collapsed": false
   },
   "outputs": [
    {
     "name": "stdout",
     "output_type": "stream",
     "text": [
      "Tables in MyDB:\n",
      "\n",
      "Table name:  MyNewtable55\n",
      "Rows:  1\n",
      "Size (kB):  16\n",
      "Created time:  2017-08-09 11:56:55\n",
      "\n",
      "\n",
      "Table name:  MyNewtable2\n",
      "Rows:  1\n",
      "Size (kB):  16\n",
      "Created time:  2017-08-09 12:07:51\n",
      "\n",
      "\n",
      "Table name:  MyNewtable3\n",
      "Rows:  1\n",
      "Size (kB):  16\n",
      "Created time:  2017-08-09 12:32:03\n",
      "\n",
      "\n",
      "Table name:  MyNewtable4\n",
      "Rows:  1\n",
      "Size (kB):  16\n",
      "Created time:  2017-08-09 12:44:09\n",
      "\n",
      "\n",
      "Table name:  MyNewtable54\n",
      "Rows:  1\n",
      "Size (kB):  16\n",
      "Created time:  2017-08-10 08:47:13\n",
      "\n",
      "\n",
      "Table name:  MyNewtable544\n",
      "Rows:  1\n",
      "Size (kB):  16\n",
      "Created time:  2017-08-10 09:00:31\n",
      "\n",
      "\n",
      "Table name:  QuickResults\n",
      "Rows:  1\n",
      "Size (kB):  80\n",
      "Created time:  2017-08-10 11:09:38\n",
      "\n",
      "\n",
      "Table name:  hugetable33\n",
      "Rows:  400000\n",
      "Size (kB):  21128\n",
      "Created time:  2017-08-10 14:01:19\n",
      "\n",
      "\n"
     ]
    }
   ],
   "source": [
    "# Returns the following information abaout the tables in your MyDB (as a Python dictionary object):\n",
    "### Size: size of the table (in kB)\n",
    "### Name: the name of the table\n",
    "### Rows: the number of rows the table contains\n",
    "### Date: the date of the table's creation, as the number of 10-microsecond intervals elapsed 1 AD\n",
    "\n",
    "# These convenience functions will print your list of tables in human-readable format\n",
    "\n",
    "def better_createdate(cjCreateDate):     # returns table create date as a datetime object\n",
    "    createsec = cjCreateDate / 10000000  # Divide by 10 million to get seconds elapsed since 1 AD\n",
    "    firstday = datetime(1, 1, 1, 0, 0)   # Save 1 AD as \"firstday\"\n",
    "    created = firstday + timedelta(seconds=createsec)  # Get calendar date on which table was created\n",
    "    return (created)\n",
    "def tables_formatted(tables):   # better formatted printing of a tables dictionary (output of get_tables)\n",
    "    for thistable in tables:\n",
    "        print('Table name: ',thistable['Name'])\n",
    "        print('Rows: ',thistable['Rows'])\n",
    "        print('Size (kB): ',thistable['Size'])\n",
    "        betterdate = better_createdate(thistable['Date'])\n",
    "        print('Created time: ',betterdate.strftime('%Y-%m-%d %H:%M:%S'))\n",
    "        print('\\n')\n",
    "\n",
    "tables = CasJobs.getTables(context=CasJobs_TestDatabase)\n",
    "print('Tables in '+CasJobs_TestDatabase+':\\n')\n",
    "tables_formatted(tables)"
   ]
  },
  {
   "cell_type": "code",
   "execution_count": 10,
   "metadata": {
    "collapsed": false
   },
   "outputs": [
    {
     "data": {
      "text/html": [
       "<div>\n",
       "<style>\n",
       "    .dataframe thead tr:only-child th {\n",
       "        text-align: right;\n",
       "    }\n",
       "\n",
       "    .dataframe thead th {\n",
       "        text-align: left;\n",
       "    }\n",
       "\n",
       "    .dataframe tbody tr th {\n",
       "        vertical-align: top;\n",
       "    }\n",
       "</style>\n",
       "<table border=\"1\" class=\"dataframe\">\n",
       "  <thead>\n",
       "    <tr style=\"text-align: right;\">\n",
       "      <th></th>\n",
       "      <th>Column1</th>\n",
       "      <th>Column2</th>\n",
       "    </tr>\n",
       "  </thead>\n",
       "  <tbody>\n",
       "    <tr>\n",
       "      <th>0</th>\n",
       "      <td>4</td>\n",
       "      <td>5</td>\n",
       "    </tr>\n",
       "  </tbody>\n",
       "</table>\n",
       "</div>"
      ],
      "text/plain": [
       "   Column1  Column2\n",
       "0        4        5"
      ]
     },
     "execution_count": 10,
     "metadata": {},
     "output_type": "execute_result"
    }
   ],
   "source": [
    "#executes a quick SQL query and store results in a pandas dataframe:\n",
    "\n",
    "\n",
    "df = CasJobs.executeQuery(sql=CasJobs_TestQuery, context=CasJobs_TestDatabase, format=\"pandas\")\n",
    "df\n",
    "\n",
    "# Other options for return format (format=...):\n",
    "# 'json': a JSON string containing the query results\n",
    "# 'dict': a dictionary created from the JSON string containing the query results\n",
    "# 'csv': a csv string\n",
    "# 'readable': an object of type io.StringIO, which has the .read() method and wraps a csv string that can be passed into pandas.read_csv for example\n",
    "# 'StringIO': an object of type io.StringIO, which has the .read() method and wraps a csv string that can be passed into pandas.read_csv for example\n",
    "# 'fits': an object of type io.BytesIO, which has the .read() method and wraps the result in fits format\n",
    "# 'BytesIO': an object of type io.BytesIO, which has the .read() method and wraps the result in fits format\n",
    "\n",
    "# CasJobs.executeQuery(sql, context, format)"
   ]
  },
  {
   "cell_type": "code",
   "execution_count": 11,
   "metadata": {
    "collapsed": false
   },
   "outputs": [
    {
     "name": "stdout",
     "output_type": "stream",
     "text": [
      "Submitting query:\n",
      " select 4 as Column1, 5 as Column2 into MyDB.MyNewtable37\n",
      "\n",
      "\n",
      "Job submitted with jobId =  30040494\n",
      "\n",
      "\n",
      "Waiting...Waiting...Waiting...Waiting...Done!\n",
      "\n",
      "\n",
      "Information about the job:\n",
      "JobID:  30040494\n",
      "Status:  5  ( Finished )\n",
      "Message:  Query Complete\n",
      "Created_Table:  MyNewtable37\n",
      "Rows:  1\n",
      "Wait time:  3  seconds\n",
      "Query duration:  0 seconds\n"
     ]
    }
   ],
   "source": [
    "#submit a job, which inserts the query results into a table in the MyDB database context. \n",
    "#Wait until the job is done and get its status.\n",
    "\n",
    "def translate_status(status):\n",
    "    if (status == 0):\n",
    "        status_word = 'Ready'\n",
    "    elif (status == 1):\n",
    "        status_word = 'Started'\n",
    "    elif (status == 2):\n",
    "        status_word = 'Cancelling'\n",
    "    elif (status == 3):\n",
    "        status_word = 'Cancelled'\n",
    "    elif (status == 4):\n",
    "        status_word = 'Failed'\n",
    "    elif (status == 5):\n",
    "        status_word = 'Finished'\n",
    "    else:\n",
    "        status_word = 'Status not found!!!!!!!!!'\n",
    "    return (status_word)\n",
    "\n",
    "def jobDescriber(jobDescription):\n",
    "    print('JobID: ',jobDescription['JobID'])\n",
    "    print('Status: ',jobDescription['Status'],' (',translate_status(jobDescription['Status']),')')\n",
    "    print('Message: ',jobDescription['Message'])\n",
    "    print('Created_Table: ',jobDescription['Created_Table'])\n",
    "    print('Rows: ',jobDescription['Rows'])\n",
    "    wait = pandas.to_datetime(jobDescription['TimeStart']) - pandas.to_datetime(jobDescription['TimeSubmit'])\n",
    "    duration = pandas.to_datetime(jobDescription['TimeEnd']) - pandas.to_datetime(jobDescription['TimeStart'])\n",
    "    print('Wait time: ',wait.seconds,' seconds')\n",
    "    print('Query duration: ',duration.seconds, 'seconds')\n",
    "\n",
    "    \n",
    "thequery = CasJobs_TestQuery + 'into MyDB.' + CasJobs_TestTableName2\n",
    "\n",
    "jobId = CasJobs.submitJob(sql=thequery, context=\"MyDB\")\n",
    "print('Submitting query:\\n',thequery)\n",
    "print('\\n')\n",
    "print('Job submitted with jobId = ',jobId)\n",
    "print('\\n')\n",
    "jobDescription = CasJobs.waitForJob(jobId=jobId, verbose=True)\n",
    "print('\\n')\n",
    "print('Information about the job:')\n",
    "jobDescriber(jobDescription)"
   ]
  },
  {
   "cell_type": "code",
   "execution_count": 17,
   "metadata": {
    "collapsed": false
   },
   "outputs": [
    {
     "name": "stdout",
     "output_type": "stream",
     "text": [
      "Submitting query:\n",
      " select top 150000 *\n",
      "into MyDB.hugetable\n",
      "from photoobjall\n",
      "\n",
      "\n",
      "Job submitted with jobId =  30041153\n",
      "\n",
      "\n",
      "Waiting...Waiting...Waiting...Waiting...Waiting...Waiting...Waiting...Waiting...Waiting...Waiting...Waiting...Waiting...Waiting...Waiting...Waiting...Waiting...Waiting...Waiting...Waiting...Waiting...Waiting...Waiting...Waiting...Waiting...Waiting...Waiting...Waiting...Waiting...Waiting...Waiting...Waiting...Waiting...Waiting...Waiting...Waiting...Waiting...Waiting...Waiting...Waiting...Waiting...Waiting...Waiting...Waiting...Waiting...Waiting...Waiting...Waiting...Waiting...Waiting...Waiting...Waiting...Waiting...Done!\n",
      "\n",
      "\n",
      "Information about the job:\n",
      "JobID:  30041153\n",
      "Status:  5  ( Finished )\n",
      "Message:  Query Complete\n",
      "Created_Table:  hugetable\n",
      "Rows:  150000\n",
      "Wait time:  7  seconds\n",
      "Query duration:  95 seconds\n"
     ]
    }
   ],
   "source": [
    "bigtablename = 'hugetable'\n",
    "\n",
    "verylongquery = 'select top 150000 *\\n'\n",
    "verylongquery += 'into ' + CasJobs_TestDatabase + '.'+ bigtablename + '\\n'\n",
    "verylongquery += 'from photoobjall'\n",
    "\n",
    "#thequery = CasJobs_TestQuery + 'into MyDB.' + CasJobs_TestTableName2\n",
    "thequery = verylongquery\n",
    "\n",
    "print('Submitting query:\\n',thequery)\n",
    "print('\\n')\n",
    "\n",
    "jobId = CasJobs.submitJob(sql=thequery, context=\"DR14\")\n",
    "\n",
    "print('Job submitted with jobId = ',jobId)\n",
    "print('\\n')\n",
    "\n",
    "jobDescription = CasJobs.waitForJob(jobId=jobId, verbose=True)\n",
    "print('\\n')\n",
    "\n",
    "print('Information about the job:')\n",
    "jobDescriber(jobDescription)\n",
    "#pprint(jobDescription)"
   ]
  },
  {
   "cell_type": "code",
   "execution_count": null,
   "metadata": {
    "collapsed": true
   },
   "outputs": [],
   "source": []
  }
 ],
 "metadata": {
  "kernelspec": {
   "display_name": "Python 3",
   "language": "python",
   "name": "python3"
  },
  "language_info": {
   "codemirror_mode": {
    "name": "ipython",
    "version": 3
   },
   "file_extension": ".py",
   "mimetype": "text/x-python",
   "name": "python",
   "nbconvert_exporter": "python",
   "pygments_lexer": "ipython3",
   "version": "3.5.3"
  }
 },
 "nbformat": 4,
 "nbformat_minor": 0
}
