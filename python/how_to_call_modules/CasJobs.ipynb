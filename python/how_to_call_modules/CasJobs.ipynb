{
 "cells": [
  {
   "cell_type": "markdown",
   "metadata": {},
   "source": [
    "# Example notebook: Search data with CasJobs\n",
    "\n",
    "SciServer Compute can talk to other components of SciServer through a series of <em>modules</em>, one for each component. This example notebook shows how to use the <strong><code>SciServer.CasJobs</code></strong> module to search for data within your Python scripts. CasJobs is SciServer's data search tool, allowing you to select data from any of our big data datasets and/or your own uploaded datasets.\n",
    "\n",
    "You are welcome (encouraged!) to copy these examples into another folder and modify them to meet your needs. You can use them as a starting point to create your own scripts. Please do not edit this notebook directly, because your edits may be overwritten if changes to the SciServer modules require changes to these example notebooks.\n",
    "\n",
    "To run the example Python scripts in this notebook, click in any of the Code cells below (the ones with the gray backgrounds). Click the play button at the top of the window (just below the menubar) to run the script, or press Shift-Enter. When you run a cell, its output of will appear directly below the cell."
   ]
  },
  {
   "cell_type": "markdown",
   "metadata": {},
   "source": [
    "## Import modules\n",
    "\n",
    "Like any Python modules, the SciServer modules must be imported before being used. The next code block first imports the SciServer modules you will need for this example notebook, then imports some other required modules. Comments in the code block explain what each module does. To learn how to import other modules, see the Python 3.5 import documentation (https://docs.python.org/3.5/reference/import.html), or the documentation of the module(s) you are trying to import."
   ]
  },
  {
   "cell_type": "code",
   "execution_count": null,
   "metadata": {
    "collapsed": false
   },
   "outputs": [],
   "source": [
    "import SciServer\n",
    "from SciServer import CasJobs     # Communicate between SciServer Compute and CasJobs\n",
    "print('Imported SciServer modules')\n",
    "\n",
    "import pandas                                # data analysis tools\n",
    "import numpy as np                           # numerical tools\n",
    "from datetime import datetime, timedelta     # date and timestamp tools\n",
    "from pprint import pprint                    # print human-readable output\n",
    "print('Imported other needed modules')"
   ]
  },
  {
   "cell_type": "markdown",
   "metadata": {
    "collapsed": false
   },
   "source": [
    "## Get help\n",
    "\n",
    "At any point after the modules are imported, you can type \"help (<em>name of module</em>)\" to read the documentation for that module. This is true for all SciServer modules and most other modules as well. Try it below."
   ]
  },
  {
   "cell_type": "code",
   "execution_count": null,
   "metadata": {
    "collapsed": false
   },
   "outputs": [],
   "source": [
    "# Read the help document for the entire SciServer package\n",
    "help(SciServer)"
   ]
  },
  {
   "cell_type": "code",
   "execution_count": null,
   "metadata": {
    "collapsed": false
   },
   "outputs": [],
   "source": [
    "# Read the help document for the CasJobs module\n",
    "help(CasJobs)"
   ]
  },
  {
   "cell_type": "markdown",
   "metadata": {},
   "source": [
    "### Optional: create functions\n",
    "\n",
    "These are convenience functions."
   ]
  },
  {
   "cell_type": "code",
   "execution_count": null,
   "metadata": {
    "collapsed": false
   },
   "outputs": [],
   "source": [
    "# These convenience functions will print your list of tables in human-readable format\n",
    "\n",
    "def better_createdate(cjCreateDate):     # returns table create date as a datetime object\n",
    "    createsec = cjCreateDate / 10000000  # Divide by 10 million to get seconds elapsed since 1 AD\n",
    "    firstday = datetime(1, 1, 1, 0, 0)   # Save 1 AD as \"firstday\"\n",
    "    created = firstday + timedelta(seconds=createsec)  # Get calendar date on which table was created\n",
    "    return (created)\n",
    "\n",
    "def tables_formatted(tables):   # better formatted printing of a tables dictionary (output of get_tables)\n",
    "# Returns the following information abaout the tables in your MyDB (as a Python dictionary object):\n",
    "### Size: size of the table (in kB)\n",
    "### Name: the name of the table\n",
    "### Rows: the number of rows the table contains\n",
    "### Date: the date of the table's creation, as the number of 10-microsecond intervals elapsed 1 AD\n",
    "\n",
    "    tables = sorted(tables, key=lambda k: k['Name']) # alphabetize by table name\n",
    "    for thistable in tables:\n",
    "        print('Table name:\\t',thistable['Name'])\n",
    "        print('Rows:\\t\\t {:,.0f}'.format(thistable['Rows']))\n",
    "        print('Size (kB):\\t {:,.0f} '.format(thistable['Size']))\n",
    "        betterdate = better_createdate(thistable['Date'])\n",
    "        print('Created time:\\t',betterdate.strftime('%Y-%m-%d %H:%M:%S'))\n",
    "        print('\\n')\n",
    "        \n",
    "#submit a job, which inserts the query results into a table in the MyDB database context. \n",
    "#Wait until the job is done and get its status.\n",
    "\n",
    "def translate_status(status):\n",
    "    if (status == 0):\n",
    "        status_word = 'Ready'\n",
    "    elif (status == 1):\n",
    "        status_word = 'Started'\n",
    "    elif (status == 2):\n",
    "        status_word = 'Cancelling'\n",
    "    elif (status == 3):\n",
    "        status_word = 'Cancelled'\n",
    "    elif (status == 4):\n",
    "        status_word = 'Failed'\n",
    "    elif (status == 5):\n",
    "        status_word = 'Finished'\n",
    "    else:\n",
    "        status_word = 'Status not found!!!!!!!!!'\n",
    "    return (status_word)\n",
    "\n",
    "def jobDescriber(jobDescription):\n",
    "    print('JobID: ',jobDescription['JobID'])\n",
    "    print('Status: ',jobDescription['Status'],' (',translate_status(jobDescription['Status']),')')\n",
    "    print('Message: ',jobDescription['Message'])\n",
    "    print('Created_Table: ',jobDescription['Created_Table'])\n",
    "    print('Rows: ',jobDescription['Rows'])\n",
    "    wait = pandas.to_datetime(jobDescription['TimeStart']) - pandas.to_datetime(jobDescription['TimeSubmit'])\n",
    "    duration = pandas.to_datetime(jobDescription['TimeEnd']) - pandas.to_datetime(jobDescription['TimeStart'])\n",
    "    print('Wait time: ',wait.seconds,' seconds')\n",
    "    print('Query duration: ',duration.seconds, 'seconds')\n",
    "        \n",
    "print('Created functions')"
   ]
  },
  {
   "cell_type": "markdown",
   "metadata": {},
   "source": [
    "## What datasets can I search?\n",
    "\n",
    "CasJobs allows you to search many different datasets, referred to as <strong>contexts</strong> (they are known as contexts so they can be described independently of the databases in which they are stored). Each context consists of one or more tables containing data or metadata related to a single aspect of the full dataset."
   ]
  },
  {
   "cell_type": "markdown",
   "metadata": {},
   "source": [
    "### Get a list of contexts\n",
    "\n",
    "At the moment, the SciServer.CasJobs module does not have a function to list available contexts. The best way to see what contexts are available to you is to log in to <a href=\"http://skyserver.sdss.org/casjobs/\" target=\"_blank\">CasJobs</a> (link opens in a new window). Once you are logged in, you should see the Query page. Look for the <strong>Contexts</strong> dropdown menu toward the top left of the page, just above the big textbox. The values in that dropdown list show the contexts you can search, both directly in CasJobs and in Compute."
   ]
  },
  {
   "cell_type": "markdown",
   "metadata": {},
   "source": [
    "### Show data tables in a context\n",
    "\n",
    "Once you know what context you want to search, you can use the <strong>CasJobs.getTables(context)</strong> function to show the data tables in that context. The Code cell below gives commands to list all tables in a context. Set the value of <em>this_context</em> to be the context you want to see. The function CasJobs.getTables(context) returns a list of Python dictionaries, one dictionary per table.\n",
    "\n",
    "Each dictionary in the list contains the following information about one table:\n",
    "<ul>\n",
    "<li><em>Date:</em> the number of 10-millisecond intervals since the table was created</li>\n",
    "<li><em>Name:</em> the name of the table</li>\n",
    "<li><em>Rows:</em> the number of rows in the table</li>\n",
    "<li><em>Size:</em> the size of the table in kilobytes</li>\n",
    "</ul>\n",
    "\n",
    "The code cell gives two options for printing the list of tables: using Python's pprint library or using the tables_formatted(tableList) convenience function defined above. The convenience function sorts the list of tables alphabetically by name, and displays the dates into datetime values. Try uncommenting and commenting those lines to see both options."
   ]
  },
  {
   "cell_type": "code",
   "execution_count": null,
   "metadata": {
    "collapsed": false
   },
   "outputs": [],
   "source": [
    "this_context = \"MyDB\"    # Your MyDB\n",
    "#this_context = 'dr14'   # SDSS Data Release 14\n",
    "\n",
    "tables = CasJobs.getTables(context=this_context)\n",
    "print('Tables in '+this_context+':\\n')\n",
    "\n",
    "\n",
    "#pprint(tables)   # Standard human-readable printing using Python's pprint module\n",
    "tables_formatted(tables)  # Sorting and better printing using a convenience function"
   ]
  },
  {
   "cell_type": "markdown",
   "metadata": {},
   "source": [
    "## Run a quick query\n",
    "\n",
    "Now that you know what contexts (datasets) are available to you, and you know what tables can be found in those contexts, you are ready to write and submit an SQL query to that context. A query is a request for data, written in SQL (Structured Query Language), a programming language designed for efficient database searches. \n",
    "\n",
    "SkyServer features a <a href=\"http://skyserver.sdss.org/dr14/en/help/howto/search/searchhowtohome.aspx\" target=\"_blank\">tutorial for learning SQL</a>, as well as <a href=\"http://skyserver.sdss.org/dr14/en/help/docs/sql_help.aspx\" target=\"_blank\">tips for writing good queries</a> and a long list of <a href=\"http://skyserver.sdss.org/dr14/en/help/docs/realquery.aspx\" target=\"_blank\">sample queries</a> that you can adapt to create your queries.\n",
    "\n",
    "Once you have a query, you can get results by running (executing) it in CasJobs. To do this from a script in SciServer Compute, use the <strong>CasJobs.executeQuery(sql,...)</strong> function. The function takes as input an SQL query (and optional parameters listed below), and returns a table containing query results (in one of several formats with a default of a <a href=\"https://pandas.pydata.org/pandas-docs/stable/generated/pandas.DataFrame.html\" target=\"_blank\">pandas dataframe</a>.\n",
    "\n",
    "The <em>sql</em> paramter is required. The <em>context</em> paramter is recommended to explicitly state the context to which the query will be submitted; the default value is 'MyDB'. For a full list of parameters taken by the CasJobs.executeQuery(sql, ...) function, see <a href=\"http://www.sciserver.org/docs/sciscript-python/SciServer.html#module-SciServer.CasJobs\" target=\"_blank\">its documentation on the SciServer documentation site</a>.\n",
    "\n",
    "<!--\n",
    "\n",
    "### Full list of parameters for the CasJobs.executeQuery(sql,...) function:\n",
    "\n",
    "<ul>\n",
    "<li><strong>sql:</strong> Required parameter. The SQL query to be submitted to CasJobs. If the SQL statement is invalid, the function will return an error.</li>\n",
    "\n",
    "<li>context: the context (dataset) to which the query will be submitted. The default value is \"DR14\" for the Sloan Digital Sky Survey's <a href=\"http://www.sdss.org/dr14/\" target=\"_blank\">Data Release 14.</a></li>\n",
    "\n",
    "\n",
    "<li>format: the format in which results will be returned. The default value returns a <a href=\"https://pandas.pydata.org/pandas-docs/stable/generated/pandas.DataFrame.html\" target=\"_blank\">pandas dataframe</a>. Options are:\n",
    "   <ul>\n",
    "   <li>'pandas': a pandas.DataFrame object</li>\n",
    "   <li>'json': a <a href=\"https://www.w3schools.com/js/js_json_intro.asp\" target=\"_blank\">JSON (JavaScript Object Notation)</a> object</li>\n",
    "   <li>'python': a Python <a href=\"https://docs.python.org/3.5/tutorial/datastructures.html#dictionaries\" target=\"_blank\">dictionary object</a></li>\n",
    "   <li>'readable': a string containing comma-separated values, implemented as an object of type Python <a href=\"https://docs.python.org/3.5/library/io.html\" target=\"_blank\">io.StringIO</a>, which has the .read() method.</li>\n",
    "   <li>'stringIO': same as the 'readable' format described above</li>\n",
    "   <li>'fits': a table in the <a href=\"https://fits.gsfc.nasa.gov/fits_documentation.html\" target=\"_blank\">FITS format</a> used by astronomers (FITS = Flexible Image Transport System)</li>\n",
    "   </ul>\n",
    "</li>\n",
    "</ul>\n",
    "-->\n",
    "\n",
    "### Example\n",
    "\n",
    "The Code cell below gives an example of a query that will run quickly in CasJobs and return 10 results. It also includes (commented out) examples of an invalid SQL statement and a valid statement that returns no results, so you can see what happens in those cases."
   ]
  },
  {
   "cell_type": "code",
   "execution_count": null,
   "metadata": {
    "collapsed": false
   },
   "outputs": [],
   "source": [
    "# Example of the function CasJobs.executeQuery(sql, ...)\n",
    "#   This function executes a quick SQL query and store results in a pandas dataframe.\n",
    "\n",
    "# A valid query that returns results.\n",
    "### Return IDs, positions, and g magnitudes (brightness measurements in red wavelength of light)...\n",
    "#### for 10 galaxies with reliable imaging data.\n",
    "\n",
    "myquery = 'select top 10 objid, ra, dec, r ' # note space after select block\n",
    "myquery += 'from galaxy '\n",
    "myquery += 'where clean = 1'\n",
    "\n",
    "# A badly-formed query\n",
    "#badquery = \"ceci n''est pas une query\"   # note subtitution of '' for single quote mark\n",
    "\n",
    "# A valid query that returns no results\n",
    "#zeroquery = \"select top 10 * from specobj where 0=1\"\n",
    "\n",
    "# Execute query, return a pandas dataframe, then show it\n",
    "df = CasJobs.executeQuery(sql=myquery, context=\"DR14\")\n",
    "df"
   ]
  },
  {
   "cell_type": "markdown",
   "metadata": {},
   "source": [
    "## Run a longer query as a job\n",
    "\n",
    "The above example shows a quick query. Quick queries are limited to 90 seconds of processing time and XXX results (rows) returned. For longer queries, CasJobs has a system of <strong>jobs</strong>. \n",
    "\n",
    "\n",
    "\n",
    "\n",
    "Once you have a query, you can get results by running (executing) it in CasJobs. To do this from a script in SciServer Compute, use the <strong>CasJobs.executeQuery(sql,...)</strong> function. The function takes as input an SQL query (and optional parameters listed below), and returns a table containing query results (in one of several formats with a default of a <a href=\"https://pandas.pydata.org/pandas-docs/stable/generated/pandas.DataFrame.html\" target=\"_blank\">pandas dataframe</a>.\n",
    "\n",
    "The <em>sql</em> paramter is required. The <em>context</em> paramter is recommended to explicitly state the context to which the query will be submitted; the default value is 'MyDB'. For a full list of parameters taken by the CasJobs.executeQuery(sql, ...) function, see <a href=\"http://www.sciserver.org/docs/sciscript-python/SciServer.html#module-SciServer.CasJobs\" target=\"_blank\">its documentation on the SciServer documentation site</a>.\n",
    "\n",
    "<!--\n",
    "\n",
    "### Full list of parameters for the CasJobs.executeQuery(sql,...) function:\n",
    "\n",
    "<ul>\n",
    "<li><strong>sql:</strong> Required parameter. The SQL query to be submitted to CasJobs. If the SQL statement is invalid, the function will return an error.</li>\n",
    "\n",
    "<li>context: the context (dataset) to which the query will be submitted. The default value is \"DR14\" for the Sloan Digital Sky Survey's <a href=\"http://www.sdss.org/dr14/\" target=\"_blank\">Data Release 14.</a></li>\n",
    "\n",
    "\n",
    "<li>format: the format in which results will be returned. The default value returns a <a href=\"https://pandas.pydata.org/pandas-docs/stable/generated/pandas.DataFrame.html\" target=\"_blank\">pandas dataframe</a>. Options are:\n",
    "   <ul>\n",
    "   <li>'pandas': a pandas.DataFrame object</li>\n",
    "   <li>'json': a <a href=\"https://www.w3schools.com/js/js_json_intro.asp\" target=\"_blank\">JSON (JavaScript Object Notation)</a> object</li>\n",
    "   <li>'python': a Python <a href=\"https://docs.python.org/3.5/tutorial/datastructures.html#dictionaries\" target=\"_blank\">dictionary object</a></li>\n",
    "   <li>'readable': a string containing comma-separated values, implemented as an object of type Python <a href=\"https://docs.python.org/3.5/library/io.html\" target=\"_blank\">io.StringIO</a>, which has the .read() method.</li>\n",
    "   <li>'stringIO': same as the 'readable' format described above</li>\n",
    "   <li>'fits': a table in the <a href=\"https://fits.gsfc.nasa.gov/fits_documentation.html\" target=\"_blank\">FITS format</a> used by astronomers (FITS = Flexible Image Transport System)</li>\n",
    "   </ul>\n",
    "</li>\n",
    "</ul>\n",
    "-->\n",
    "\n",
    "### Example\n",
    "\n",
    "The Code cell below gives an example of a query that will run quickly in CasJobs and return 10 results. It also includes (commented out) examples of an invalid SQL statement and a valid statement that returns no results, so you can see what happens in those cases."
   ]
  },
  {
   "cell_type": "code",
   "execution_count": null,
   "metadata": {
    "collapsed": false
   },
   "outputs": [],
   "source": [
    "bigtablename = 'hugetable8'\n",
    "\n",
    "verylongquery = 'select top 5000 objid, ra, dec \\n'\n",
    "#verylongquery += 'u, g, r, i, z\\n' #, err_u, err_g, err_r, err_i, err_z \\n'\n",
    "verylongquery += 'into mydb.' + bigtablename + '\\n'\n",
    "verylongquery += 'from galaxy\\n'\n",
    "verylongquery += 'where clean = 1'\n",
    "\n",
    "print('Submitting query:\\n',verylongquery)\n",
    "print('\\n')\n",
    "\n",
    "jobId = CasJobs.submitJob(sql=verylongquery, context=\"DR14\")\n",
    "\n",
    "print('Job submitted with jobId = ',jobId)\n",
    "print('\\n')\n",
    "\n",
    "jobDescription = CasJobs.waitForJob(jobId=jobId, verbose=True)\n",
    "print('\\n')\n",
    "\n",
    "#print('Information about the job:')\n",
    "#jobDescriber(jobDescription)\n",
    "#pprint(jobDescription)\n",
    "\n",
    "#print(verylongquery)\n",
    "\n",
    "#print('\\n')\n",
    "#print('Using quick query return error \"Query exceeds queue time\":')\n",
    "#df = CasJobs.executeQuery(sql=verylongquery, context=\"DR14\")\n",
    "\n"
   ]
  },
  {
   "cell_type": "markdown",
   "metadata": {
    "collapsed": true
   },
   "source": [
    "## Thank you!\n",
    "\n",
    "Thanks for reviewing this SciServer example notebook. You can use this notebook as a template to develop your own notebooks, but please do so in a copy rather than in the original example notebook.\n",
    "As you begin to use any of our SciServer modules in your own notebooks, consult the SciServer scripting documentation at http://www.sciserver.org/docs/sciscript-python/SciServer.html.\n",
    "\n",
    "If you have questions, please email the SciServer helpdesk at sciserver-helpdesk@jhu.edu ."
   ]
  },
  {
   "cell_type": "code",
   "execution_count": null,
   "metadata": {
    "collapsed": true
   },
   "outputs": [],
   "source": [
    "#get user schema info\n",
    "\n",
    "casJobsId = CasJobs.getSchemaName()\n",
    "print(casJobsId)"
   ]
  },
  {
   "cell_type": "code",
   "execution_count": null,
   "metadata": {
    "collapsed": false
   },
   "outputs": [],
   "source": [
    "# Define some very simple test cases for the purposes of this example notebook\n",
    "\n",
    "CasJobs_TestDatabase = \"MyDB\" # use your MyDB - normally you won't need to change this\n",
    "CasJobs_TestQuery = \"select 4 as Column1, 5 as Column2 \" # toy query, simply returns two columns of constants: 4, 5.\n",
    "CasJobs_TestTableName1 = \"MyNewtable1\"    # the name of a new table to be created (doesn't yet exist)\n",
    "CasJobs_TestTableName2 = \"MyNewtable37\"    # the name of a new table to be created (doesn't yet exist)\n",
    "CasJobs_TestTableCSV = u\"Column1,Column2\\n6,7\\n\"    # toy CSV file: 1 row x 2 columns of constants: 6, 7.\n",
    "CasJobs_TestCSVFile = \"SciScriptTestFile.csv\"       # a more real CSV file. It must be included in this dir in current container.\n",
    "CasJobs_TestFitsFile = \"SciScriptTestFile.fits\"     # a FITS file to upload\n",
    "\n",
    "print('Test case variables set.')"
   ]
  }
 ],
 "metadata": {
  "kernelspec": {
   "display_name": "Python 3",
   "language": "python",
   "name": "python3"
  },
  "language_info": {
   "codemirror_mode": {
    "name": "ipython",
    "version": 3
   },
   "file_extension": ".py",
   "mimetype": "text/x-python",
   "name": "python",
   "nbconvert_exporter": "python",
   "pygments_lexer": "ipython3",
   "version": "3.5.3"
  }
 },
 "nbformat": 4,
 "nbformat_minor": 0
}
