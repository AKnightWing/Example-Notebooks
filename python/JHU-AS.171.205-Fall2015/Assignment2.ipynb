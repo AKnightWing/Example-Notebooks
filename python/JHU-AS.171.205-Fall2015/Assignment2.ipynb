{
 "cells": [
  {
   "cell_type": "markdown",
   "metadata": {
    "slideshow": {
     "slide_type": "slide"
    }
   },
   "source": [
    "<hr/>\n",
    "\n",
    "# Data Mining [EN.550.436]\n",
    "**Tamás Budavári** - budavari@jhu.edu <br/>\n",
    "\n",
    "Submit your notebooks on Blackboard before 5pm on Friday, Oct 16th <br/>\n",
    "Total points: 13\n",
    "\n",
    "<hr/>"
   ]
  },
  {
   "cell_type": "markdown",
   "metadata": {},
   "source": [
    "<h1><font color=\"darkblue\">Assignments #2</font></h1>\n",
    "\n",
    "### Problem 1\n",
    "\n",
    "- Implement LDA and compare to sklearn (6)\n",
    "\n",
    ">0. Write code without using sklearn (4)\n",
    ">0. Apply to [training](files/Class12-Train.csv) and [query](files/Class12-Query.csv) sets (1)\n",
    ">0. Compare your results to sklearn's (1)\n",
    "\n",
    "### Problem 2\n",
    "\n",
    "- Perform 10-fold cross-validation of *MyQDA* on [this](files/Class12-Train.csv) file (7)\n",
    "\n",
    ">0. Write code without using sklearn (4)\n",
    ">0. Calculate average and variance of good classifications (2)\n",
    ">0. Compare to sklearn (1)"
   ]
  },
  {
   "cell_type": "markdown",
   "metadata": {},
   "source": [
    "### Useful Snippet?\n",
    "\n",
    "Below is a piece of code from class, which you might find useful... Or just go back to the lecture notes?"
   ]
  },
  {
   "cell_type": "code",
   "execution_count": 712,
   "metadata": {
    "collapsed": false
   },
   "outputs": [
    {
     "name": "stdout",
     "output_type": "stream",
     "text": [
      "Number of different estimates: 0\n"
     ]
    }
   ],
   "source": [
    "# reference implementation\n",
    "from sklearn.qda import QDA\n",
    "\n",
    "Q = np.loadtxt('files/Class12-Query.csv', delimiter=',')\n",
    "D = np.loadtxt('files/Class12-Train.csv', delimiter=',')\n",
    "X, C = D[:,0:2], D[:,2]\n",
    "\n",
    "Cpred = MyQDA().fit(X,C).predict(Q)\n",
    "Cskit =   QDA().fit(X,C).predict(Q)\n",
    "\n",
    "print 'Number of different estimates:', (Cpred!=Cskit).sum()"
   ]
  }
 ],
 "metadata": {
  "celltoolbar": "Slideshow",
  "kernelspec": {
   "display_name": "Python 2",
   "language": "python",
   "name": "python2"
  },
  "language_info": {
   "codemirror_mode": {
    "name": "ipython",
    "version": 2
   },
   "file_extension": ".py",
   "mimetype": "text/x-python",
   "name": "python",
   "nbconvert_exporter": "python",
   "pygments_lexer": "ipython2",
   "version": "2.7.11"
  }
 },
 "nbformat": 4,
 "nbformat_minor": 0
}
