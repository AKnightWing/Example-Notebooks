{
 "cells": [
  {
   "cell_type": "code",
   "execution_count": 1,
   "metadata": {
    "collapsed": false
   },
   "outputs": [
    {
     "name": "stdout",
     "output_type": "stream",
     "text": [
      "Submitting query:\n",
      " select 4 as Column1, 5 as Column2 into MyDB.MyNewtable4\n",
      "\n",
      "\n",
      "Job submitted with jobId =  30025522\n",
      "\n",
      "\n",
      "Waiting...Waiting...Waiting...Waiting...Waiting...Waiting...Waiting...Done!\n",
      "\n",
      "\n",
      "Information about the job:\n",
      "{'AutoComplete': 0,\n",
      " 'Created_Table': 'MyNewtable4',\n",
      " 'Estimate': 500,\n",
      " 'HostIP': 'SQL001DBHost   ',\n",
      " 'JobID': 30025522,\n",
      " 'Message': 'Query Complete',\n",
      " 'ModifiedQuery': 'select 4 as Column1, 5 as Column2 '\n",
      "                  '/*CASJOBS_INTO_TABLE:[sdss3q].mydb_1220987707.webuser.MyNewtable4*/',\n",
      " 'OutputLoc': '',\n",
      " 'OutputType': 'QUERY',\n",
      " 'Params': '',\n",
      " 'Query': 'select 4 as Column1, 5 as Column2 into MyDB.MyNewtable4',\n",
      " 'Rows': 1,\n",
      " 'SendEmail': 0,\n",
      " 'Status': 5,\n",
      " 'Target': 'MyDB',\n",
      " 'TaskName': 'Compute.SciScript-Python.CasJobs.submitJob',\n",
      " 'TimeEnd': '2017-08-09T12:44:09.92',\n",
      " 'TimeStart': '2017-08-09T12:44:09.763',\n",
      " 'TimeSubmit': '2017-08-09T12:44:01.21',\n",
      " 'WebServicesID': 1220987707}\n"
     ]
    }
   ],
   "source": [
    "from SciServer import CasJobs\n",
    "from pprint import pprint\n",
    "CasJobs_TestDatabase = \"MyDB\"\n",
    "\n",
    "CasJobs_TestQuery = \"select 4 as Column1, 5 as Column2 \" # toy query, simply returns two columns of constants: 4, 5.\n",
    "CasJobs_TestTableName2 = \"MyNewtable4\"    # the name of a new table to be created (doesn't yet exist)\n",
    "\n",
    "#bigtablename = 'hugetable3'\n",
    "#verylongquery = 'select top 3 objid,ra,dec,u,g,r,i,z\\n'\n",
    "#verylongquery += 'into ' + CasJobs_TestDatabase + '.'+ bigtablename + '\\n'\n",
    "#verylongquery += 'from dr14.photoobjall\\n'\n",
    "\n",
    "thequery = CasJobs_TestQuery + 'into MyDB.' + CasJobs_TestTableName2\n",
    "#thequery = verylongquery\n",
    "\n",
    "print('Submitting query:\\n',thequery)\n",
    "print('\\n')\n",
    "\n",
    "jobId = CasJobs.submitJob(sql=thequery, context=\"MyDB\")\n",
    "\n",
    "print('Job submitted with jobId = ',jobId)\n",
    "print('\\n')\n",
    "\n",
    "jobDescription = CasJobs.waitForJob(jobId=jobId, verbose=True)\n",
    "print('\\n')\n",
    "\n",
    "print('Information about the job:')\n",
    "#jobDescriber(jobDescription)\n",
    "pprint(jobDescription)"
   ]
  },
  {
   "cell_type": "code",
   "execution_count": 2,
   "metadata": {
    "collapsed": false
   },
   "outputs": [
    {
     "name": "stdout",
     "output_type": "stream",
     "text": [
      "Submitting query:\n",
      " select top 3 objid,ra,dec,u,g,r,i,z\n",
      "into MyDB.hugetable3\n",
      "from dr14.photoobjall\n",
      "\n",
      "\n",
      "\n",
      "Job submitted with jobId =  30025524\n",
      "\n",
      "\n",
      "Waiting...Waiting...Waiting...Waiting...Waiting...Waiting...Waiting...Waiting...Waiting...Waiting...Waiting...Waiting...Waiting...Waiting...Done!\n",
      "\n",
      "\n",
      "Information about the job:\n",
      "{'AutoComplete': 0,\n",
      " 'Created_Table': 'hugetable3',\n",
      " 'Estimate': 500,\n",
      " 'HostIP': 'SQL001DBHost   ',\n",
      " 'JobID': 30025524,\n",
      " 'Message': 'Named Pipes Provider: Could not open a connection to SQL Server '\n",
      "            '[53]. ',\n",
      " 'ModifiedQuery': 'select top 3 objid,ra,dec,u,g,r,i,z\\n'\n",
      "                  '\\n'\n",
      "                  'from '\n",
      "                  '[SDSS4E].[BestDR14].dbo.photoobjall/*CASJOBS_INTO_TABLE:[sdss3q].mydb_1220987707.webuser.hugetable3*/',\n",
      " 'OutputLoc': '',\n",
      " 'OutputType': 'QUERY',\n",
      " 'Params': '',\n",
      " 'Query': 'select top 3 objid,ra,dec,u,g,r,i,z\\n'\n",
      "          'into MyDB.hugetable3\\n'\n",
      "          'from dr14.photoobjall\\n',\n",
      " 'Rows': None,\n",
      " 'SendEmail': 0,\n",
      " 'Status': 4,\n",
      " 'Target': 'MyDB',\n",
      " 'TaskName': 'Compute.SciScript-Python.CasJobs.submitJob',\n",
      " 'TimeEnd': '2017-08-09T12:44:49.987',\n",
      " 'TimeStart': '2017-08-09T12:44:29.937',\n",
      " 'TimeSubmit': '2017-08-09T12:44:25.083',\n",
      " 'WebServicesID': 1220987707}\n"
     ]
    }
   ],
   "source": [
    "from SciServer import CasJobs\n",
    "from pprint import pprint\n",
    "CasJobs_TestDatabase = \"MyDB\"\n",
    "\n",
    "#CasJobs_TestQuery = \"select 4 as Column1, 5 as Column2 \" # toy query, simply returns two columns of constants: 4, 5.\n",
    "#CasJobs_TestTableName2 = \"MyNewtable3\"    # the name of a new table to be created (doesn't yet exist)\n",
    "\n",
    "bigtablename = 'hugetable3'\n",
    "verylongquery = 'select top 3 objid,ra,dec,u,g,r,i,z\\n'\n",
    "verylongquery += 'into ' + CasJobs_TestDatabase + '.'+ bigtablename + '\\n'\n",
    "verylongquery += 'from dr14.photoobjall\\n'\n",
    "\n",
    "#thequery = CasJobs_TestQuery + 'into MyDB.' + CasJobs_TestTableName2\n",
    "thequery = verylongquery\n",
    "\n",
    "print('Submitting query:\\n',thequery)\n",
    "print('\\n')\n",
    "\n",
    "jobId = CasJobs.submitJob(sql=thequery, context=\"MyDB\")\n",
    "\n",
    "print('Job submitted with jobId = ',jobId)\n",
    "print('\\n')\n",
    "\n",
    "jobDescription = CasJobs.waitForJob(jobId=jobId, verbose=True)\n",
    "print('\\n')\n",
    "\n",
    "print('Information about the job:')\n",
    "#jobDescriber(jobDescription)\n",
    "pprint(jobDescription)"
   ]
  },
  {
   "cell_type": "code",
   "execution_count": null,
   "metadata": {
    "collapsed": true
   },
   "outputs": [],
   "source": []
  }
 ],
 "metadata": {
  "kernelspec": {
   "display_name": "Python 3",
   "language": "python",
   "name": "python3"
  },
  "language_info": {
   "codemirror_mode": {
    "name": "ipython",
    "version": 3
   },
   "file_extension": ".py",
   "mimetype": "text/x-python",
   "name": "python",
   "nbconvert_exporter": "python",
   "pygments_lexer": "ipython3",
   "version": "3.5.3"
  }
 },
 "nbformat": 4,
 "nbformat_minor": 0
}
