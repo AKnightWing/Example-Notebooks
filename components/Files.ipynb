{
 "cells": [
  {
   "cell_type": "code",
   "execution_count": null,
   "metadata": {},
   "outputs": [],
   "source": [
    "import SciServer\n",
    "from SciServer import Authentication, Files\n",
    "from pprint import pprint\n",
    "print('Modules imported')\n",
    "\n",
    "# Define login Name and password before running these examples\n",
    "Authentication_loginName = 'raddick'\n",
    "#Authentication_loginPassword = 'moose4sciserver'\n",
    "\n",
    "# Enter the SciServer login and password of someone you share files with (be careful to blank them out before sharing this notebook!!!)\n",
    "Authentication_login_sharedWithName = '***'\n",
    "Authentication_login_sharedWithPassword = '***'\n",
    "print('User names and passwords set! BLANK THEM OUT BEFORE SHARING!')\n",
    "\n"
   ]
  },
  {
   "cell_type": "markdown",
   "metadata": {},
   "source": [
    "# Get help"
   ]
  },
  {
   "cell_type": "code",
   "execution_count": null,
   "metadata": {},
   "outputs": [],
   "source": [
    "#help(Files)"
   ]
  },
  {
   "cell_type": "markdown",
   "metadata": {},
   "source": [
    "# Show the file services that are available to you"
   ]
  },
  {
   "cell_type": "code",
   "execution_count": null,
   "metadata": {},
   "outputs": [],
   "source": [
    "# get available FileServices -- returns a list of dictionaries, one for each avialable file service\n",
    "#   the for loop iterates through the list and prints information about each dictionary object\n",
    "\n",
    "fileServicesList = Files.getFileServices()\n",
    "for thisFileService in fileServicesList:\n",
    "    print('name',':',thisFileService['name'])\n",
    "    print('description',':',thisFileService['description'])\n",
    "    print('apiEndpoint',':',thisFileService['apiEndpoint'])\n",
    "    print('\\n')\n",
    "    print('The full dictionary:')\n",
    "    pprint(thisFileService)"
   ]
  },
  {
   "cell_type": "markdown",
   "metadata": {},
   "source": [
    "# Get file service information from a name"
   ]
  },
  {
   "cell_type": "code",
   "execution_count": null,
   "metadata": {
    "scrolled": true
   },
   "outputs": [],
   "source": [
    "# get FileService from Name\n",
    "fileServiceNames = Files.getFileServicesNames()\n",
    "print('Names of available file services:')\n",
    "pprint(fileServiceNames)\n",
    "\n",
    "print('\\n')\n",
    "Files_FileServiceName = \"FileServiceJHU\"\n",
    "print('File Service information for {0:}:'.format(Files_FileServiceName))\n",
    "fileService = Files.getFileServiceFromName(Files_FileServiceName)\n",
    "pprint(fileService)"
   ]
  },
  {
   "cell_type": "markdown",
   "metadata": {},
   "source": [
    "# Get API endpoint for a file service"
   ]
  },
  {
   "cell_type": "code",
   "execution_count": null,
   "metadata": {},
   "outputs": [],
   "source": [
    "# get the API endpoint URL of a FileService\n",
    "fileServiceAPIUrl = Files.__getFileServiceAPIUrl(fileService)\n",
    "print(fileServiceAPIUrl)"
   ]
  },
  {
   "cell_type": "markdown",
   "metadata": {},
   "source": [
    "# Show root volumes"
   ]
  },
  {
   "cell_type": "code",
   "execution_count": null,
   "metadata": {},
   "outputs": [],
   "source": [
    "rootVolumes = Files.getRootVolumesInfo(fileService)\n",
    "pprint(rootVolumes)"
   ]
  },
  {
   "cell_type": "markdown",
   "metadata": {},
   "source": [
    "# Show user volumes"
   ]
  },
  {
   "cell_type": "code",
   "execution_count": null,
   "metadata": {},
   "outputs": [],
   "source": [
    "userVolumes = Files.getUserVolumesInfo(fileService)\n",
    "pprint(userVolumes)"
   ]
  },
  {
   "cell_type": "markdown",
   "metadata": {},
   "source": [
    "# Create a new user volume"
   ]
  },
  {
   "cell_type": "code",
   "execution_count": null,
   "metadata": {},
   "outputs": [],
   "source": [
    "Files_FileServiceName = \"FileServiceJHU\"\n",
    "Files_RootVolumeName1 = 'Storage'\n",
    "Files_VolumeName1 = \"created_through_example_notebook\"\n",
    "\n",
    "fileService = Files.getFileServiceFromName(Files_FileServiceName)\n",
    "\n",
    "Files.createUserVolume(fileService,\"/\".join([Files_RootVolumeName1,Authentication_loginName,Files_VolumeName1]))\n",
    "\n",
    "print('Created new user volume: {0:}!'.format(Files_VolumeName1))"
   ]
  },
  {
   "cell_type": "markdown",
   "metadata": {},
   "source": [
    "# Create a new directory in the persistent volume"
   ]
  },
  {
   "cell_type": "code",
   "execution_count": null,
   "metadata": {},
   "outputs": [],
   "source": [
    "# create a directory in the persistent volume\n",
    "Files_FileServiceName = \"FileServiceJHU\"\n",
    "Files_RootVolumeName2 = \"Storage\"\n",
    "Files_VolumeName2 = \"persistent\"\n",
    "Files_NewDirectoryName2 = \"directory_created_through_example_notebook\"\n",
    "\n",
    "fileService = Files.getFileServiceFromName(Files_FileServiceName)\n",
    "Files.createDir(fileService, \n",
    "    \"/\".join([Files_RootVolumeName2,Authentication_loginName,Files_VolumeName2,Files_NewDirectoryName2]));\n",
    "\n",
    "print('Created new user directory {0:} inside {1:} volume.'.format(Files_NewDirectoryName2, Files_VolumeName2))"
   ]
  },
  {
   "cell_type": "markdown",
   "metadata": {},
   "source": [
    "# List contents of a directory"
   ]
  },
  {
   "cell_type": "code",
   "execution_count": null,
   "metadata": {},
   "outputs": [],
   "source": [
    "# List content of remote directory\n",
    "Files_FileServiceName = \"FileServiceJHU\"\n",
    "Files_RootVolumeName3 = \"Storage\"\n",
    "Files_VolumeName3 = \"persistent\"\n",
    "Files_DirectoryName3 = \"\"\n",
    "\n",
    "fileService = Files.getFileServiceFromName(Files_FileServiceName)\n",
    "\n",
    "dirList = Files.dirList(fileService, \n",
    "    \"/\".join([Files_RootVolumeName3,Authentication_loginName,Files_VolumeName3,Files_DirectoryName3]),\n",
    "    level=4)\n",
    "pprint(dirList)"
   ]
  },
  {
   "cell_type": "markdown",
   "metadata": {},
   "source": [
    "# Upload a file"
   ]
  },
  {
   "cell_type": "code",
   "execution_count": null,
   "metadata": {},
   "outputs": [],
   "source": [
    "# upload a text string into a file in the remote directory\n",
    "Files_FileServiceName = \"FileServiceJHU\"\n",
    "Files_RootVolumeName4 = \"Storage\"\n",
    "Files_VolumeName4 = \"persistent\"\n",
    "Files_DirectoryName4 = \"directory_created_through_example_notebook\"\n",
    "\n",
    "# This file gets created below, or replace with your own filename\n",
    "Files_LocalFileName = \"sharknado.csv\"\n",
    "\n",
    "# Create this simple file to upload\n",
    "Files_LocalFileContent = \"Year, Sharknado movies shown on U.S. television\\n\"\n",
    "Files_LocalFileContent += \"2012, 0\\n\"\n",
    "Files_LocalFileContent += \"2013, 1\\n\"\n",
    "Files_LocalFileContent += \"2014, 1\\n\"\n",
    "Files_LocalFileContent += \"2015, 1\\n\"\n",
    "Files_LocalFileContent += \"2016, 1\\n\"\n",
    "Files_LocalFileContent += \"2017, 1\\n\"\n",
    "\n",
    "fileService = Files.getFileServiceFromName(Files_FileServiceName)\n",
    "\n",
    "Files.upload(fileService, \n",
    "    \"/\".join([Files_RootVolumeName4,Authentication_loginName,Files_VolumeName4,Files_DirectoryName4,Files_LocalFileName]), \n",
    "             data=Files_LocalFileContent)\n",
    "\n",
    "print('Uploaded file {0:} to {1:} volume in directory {2:}.'.format(Files_LocalFileName, Files_VolumeName4, Files_DirectoryName4))"
   ]
  },
  {
   "cell_type": "markdown",
   "metadata": {},
   "source": [
    "# List contents of a directory"
   ]
  },
  {
   "cell_type": "code",
   "execution_count": null,
   "metadata": {},
   "outputs": [],
   "source": [
    "# List content of remote directory\n",
    "Files_FileServiceName = \"FileServiceJHU\"\n",
    "Files_RootVolumeName3 = \"Storage\"\n",
    "Files_VolumeName3 = \"persistent\"\n",
    "Files_DirectoryName3 = \"directory_created_through_example_notebook\"\n",
    "\n",
    "fileService = Files.getFileServiceFromName(Files_FileServiceName)\n",
    "\n",
    "dirList = Files.dirList(fileService, \n",
    "    \"/\".join([Files_RootVolumeName3,Authentication_loginName,Files_VolumeName3,Files_DirectoryName3]),\n",
    "    level=4)\n",
    "pprint(dirList)"
   ]
  },
  {
   "cell_type": "markdown",
   "metadata": {},
   "source": [
    "# Copy a file in the SciServer file system"
   ]
  },
  {
   "cell_type": "code",
   "execution_count": null,
   "metadata": {},
   "outputs": [],
   "source": [
    "# upload a text string into a file in the remote directory\n",
    "Files_FileServiceName = \"FileServiceJHU\"\n",
    "\n",
    "Files_RootVolumeNameNow = \"Storage\"\n",
    "Files_VolumeNameNow = \"persistent\"\n",
    "Files_DirectoryNameNow = \"\"\n",
    "\n",
    "Files_RootVolumeMoveTo = \"Storage\"\n",
    "Files_VolumeNameMoveTo = \"created_through_example_notebook\"\n",
    "Files_DirectoryNameMoveTo = \"\"\n",
    "\n",
    "Files_RemoteFileName = \"sharknado.csv\"\n",
    "\n",
    "fileService = Files.getFileServiceFromName(Files_FileServiceName)\n",
    "\n",
    "\n",
    "# copy remote file into remote directory\n",
    "\n",
    "Files.move(fileService, \n",
    "\"/\".join([Files_RootVolumeNameNow,Authentication_loginName,Files_VolumeNameNow,Files_DirectoryNameNow,Files_RemoteFileName]), \n",
    "           fileService, \n",
    "\"/\".join([Files_RootVolumeMoveTo,Authentication_loginName,Files_VolumeNameMoveTo,Files_DirectoryNameMoveTo,Files_RemoteFileName])\n",
    ")\n",
    "\n",
    "print('File copied')"
   ]
  },
  {
   "cell_type": "markdown",
   "metadata": {},
   "source": [
    "# Download file"
   ]
  },
  {
   "cell_type": "code",
   "execution_count": null,
   "metadata": {},
   "outputs": [],
   "source": [
    "# download a remote text file into a local directory\n",
    "Files_FileServiceName = \"FileServiceJHU\"\n",
    "\n",
    "Files_RootVolumeToDownloadFrom = \"Storage\"\n",
    "Files_VolumeNameToDownloadFrom = \"created_through_example_notebook\"\n",
    "Files_DirectoryNameToDownloadFrom = \"\"\n",
    "Files_RemoteFileName = \"sharknado.csv\"\n",
    "Files_LocalFileName = \"sharknado_downloaded.csv\"\n",
    "\n",
    "fileService = Files.getFileServiceFromName(Files_FileServiceName)\n",
    "\n",
    "Files.download(fileService, \n",
    "    \"/\".join([Files_RootVolumeToDownloadFrom,Authentication_loginName,Files_VolumeNameToDownloadFrom,Files_DirectoryNameToDownloadFrom,Files_RemoteFileName]) \n",
    "    ,localFilePath=Files_LocalFileName)\n",
    "\n",
    "print('Downloaded file, saved as {0:}'.format(Files_LocalFileName))"
   ]
  },
  {
   "cell_type": "markdown",
   "metadata": {},
   "source": [
    "# Delete file from SciServer file system"
   ]
  },
  {
   "cell_type": "code",
   "execution_count": null,
   "metadata": {},
   "outputs": [],
   "source": [
    "# Delete remote file\n",
    "Files_FileServiceName = \"FileServiceJHU\"\n",
    "\n",
    "Files_RootVolumeToDeleteIn = \"Storage\"\n",
    "Files_VolumeNameToDeleteIn = \"created_through_example_notebook\"\n",
    "Files_DirectoryNameToDeleteIn = \"\"\n",
    "Files_RemoteFileName = \"sharknado.csv\"\n",
    "\n",
    "fileService = Files.getFileServiceFromName(Files_FileServiceName)\n",
    "\n",
    "Files.delete(fileService, \n",
    "\"/\".join([Files_RootVolumeToDeleteIn,Authentication_loginName,Files_VolumeNameToDeleteIn,Files_DirectoryNameToDeleteIn,Files_RemoteFileName]))\n",
    "\n",
    "print('Deleted file {0:} from volume {1:}'.format(Files_RemoteFileName, Files_VolumeNameToDeleteIn))"
   ]
  },
  {
   "cell_type": "markdown",
   "metadata": {},
   "source": [
    "# Delete directory from SciServer file system"
   ]
  },
  {
   "cell_type": "code",
   "execution_count": null,
   "metadata": {},
   "outputs": [],
   "source": [
    "# delete folders\n",
    "# Delete remote file\n",
    "Files_FileServiceName = \"FileServiceJHU\"\n",
    "\n",
    "Files_RootVolumeToDeleteIn = \"Storage\"\n",
    "Files_VolumeNameToDeleteIn = \"persistent\"\n",
    "Files_DirectoryNameToDelete = \"directory_created_through_example_notebook\"\n",
    "\n",
    "fileService = Files.getFileServiceFromName(Files_FileServiceName)\n",
    "\n",
    "\n",
    "Files.delete(fileService, \n",
    "    \"/\".join([Files_RootVolumeToDeleteIn,Authentication_loginName,Files_VolumeNameToDeleteIn,Files_DirectoryNameToDelete]))\n",
    "\n",
    "print('Deleted folder {0:} from volume {1:}'.format(Files_DirectoryNameToDelete, Files_VolumeNameToDeleteIn))"
   ]
  },
  {
   "cell_type": "markdown",
   "metadata": {},
   "source": [
    "# Delete a user volume"
   ]
  },
  {
   "cell_type": "code",
   "execution_count": null,
   "metadata": {},
   "outputs": [],
   "source": [
    "# delete user volumes\n",
    "Files_FileServiceName = \"FileServiceJHU\"\n",
    "\n",
    "Files_RootVolumeToDeleteIn = \"Storage\"\n",
    "Files_VolumeNameToDelete = \"created_through_example_notebook\"\n",
    "\n",
    "fileService = Files.getFileServiceFromName(Files_FileServiceName)\n",
    "\n",
    "\n",
    "Files.deleteUserVolume(fileService, \n",
    "    \"/\".join([Files_RootVolumeToDeleteIn, Authentication_loginName, Files_VolumeNameToDelete]))\n",
    "\n",
    "print('Deleted volume {0:}'.format(Files_VolumeNameToDelete))"
   ]
  }
 ],
 "metadata": {
  "kernelspec": {
   "display_name": "Python 3",
   "language": "python",
   "name": "python3"
  },
  "language_info": {
   "codemirror_mode": {
    "name": "ipython",
    "version": 3
   },
   "file_extension": ".py",
   "mimetype": "text/x-python",
   "name": "python",
   "nbconvert_exporter": "python",
   "pygments_lexer": "ipython3",
   "version": "3.6.6"
  }
 },
 "nbformat": 4,
 "nbformat_minor": 2
}
