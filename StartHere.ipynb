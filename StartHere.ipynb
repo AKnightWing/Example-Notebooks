{
 "cells": [
  {
   "cell_type": "markdown",
   "metadata": {},
   "source": [
    "# Welcome to SciServer Compute's example notebooks!\n",
    "\n",
    "This repository contains example notebooks that can help you start using SciServer for your data science and science education projects. To install the example notebooks in this container, <b>click on the code cell just below this message and press Shift-Enter to run</b>.\n",
    "\n",
    "All the example notebooks will be installed in a directory called \"examples\" inside your persistent folder (you can change the location where they are installed by editing the command in the cell below).\n",
    "\n",
    "If you have questions, please email <a href=\"mailto:sciserver-helpdesk@jhu.edu\">sciserver-helpdesk@jhu.edu</a>."
   ]
  },
  {
   "cell_type": "code",
   "execution_count": null,
   "metadata": {
    "collapsed": true
   },
   "outputs": [],
   "source": [
    "# ONLY RUN THIS ONCE!\n",
    "# installs example notebooks\n",
    "import os\n",
    "from IPython.core.display import HTML, display\n",
    "from SciServer import Authentication\n",
    "user_name = Authentication.getKeystoneUserWithToken(Authentication.getToken()).userName\n",
    "path = \"Storage/\" + user_name + \"/persistent/examples/\"\n",
    "if (os.path.exists(\"/home/idies/workspace/\"+path)):\n",
    "    s = '<p>Error: directory <b><code>examples</code></b> already exists. Please delete it, or change the local path variable in the <b><code>git clone</code></b> command.'\n",
    "    display(HTML(s))\n",
    "else:\n",
    "    os.system(\"git clone https://github.com/sciserver/Example-Notebooks \" + path)\n",
    "    print('\\n')\n",
    "    print('Example notebooks downloaded!')\n",
    "    display(HTML(url='https://raw.githubusercontent.com/sciserver/Example-Notebooks/master/README.md'))"
   ]
  },
  {
   "cell_type": "code",
   "execution_count": null,
   "metadata": {
    "collapsed": true
   },
   "outputs": [],
   "source": []
  }
 ],
 "metadata": {
  "kernelspec": {
   "display_name": "Python 3",
   "language": "python",
   "name": "python3"
  },
  "language_info": {
   "codemirror_mode": {
    "name": "ipython",
    "version": 3
   },
   "file_extension": ".py",
   "mimetype": "text/x-python",
   "name": "python",
   "nbconvert_exporter": "python",
   "pygments_lexer": "ipython3",
   "version": "3.6.1"
  }
 },
 "nbformat": 4,
 "nbformat_minor": 1
}
