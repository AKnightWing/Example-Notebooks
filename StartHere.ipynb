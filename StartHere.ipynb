{
 "cells": [
  {
   "cell_type": "markdown",
   "metadata": {},
   "source": [
    "# Welcome to SciServer Compute's example notebooks!\n",
    "\n",
    "This repository contains example notebooks that can help you start using SciServer for your data science and science education projects. To install the example notebooks in this container, <b>click on the code cell just below this message and press Shift-Enter to run</b>.\n",
    "\n",
    "All the example notebooks will be installed in a directory called \"examples\" inside your persistent folder (you can change the location where they are installed by editing the command in the cell below). You can modify the notebooks to suit your needs, but if you do we recommend that you copy them into a new folder so you can update the original example notebooks from our source as needed.\n",
    "\n",
    "If you have questions, please email <a href=\"mailto:sciserver-helpdesk@jhu.edu\">sciserver-helpdesk@jhu.edu</a>."
   ]
  },
  {
   "cell_type": "code",
   "execution_count": 2,
   "metadata": {
    "collapsed": false
   },
   "outputs": [
    {
     "name": "stdout",
     "output_type": "stream",
     "text": [
      "Cloning into 'persistent/examples'...\n",
      "remote: Counting objects: 371, done.\u001b[K\n",
      "remote: Compressing objects: 100% (59/59), done.\u001b[K\n",
      "remote: Total 371 (delta 32), reused 65 (delta 20), pack-reused 291\u001b[K\n",
      "Receiving objects: 100% (371/371), 11.13 MiB | 5.98 MiB/s, done.\n",
      "Resolving deltas: 100% (176/176), done.\n",
      "\n",
      "\n",
      "Example notebooks downloaded\n"
     ]
    },
    {
     "data": {
      "text/html": [
       "<h2>Welcome to SciServer's <a href='https://github.com/sciserver/Example-Notebooks'>Example Notebooks</a> for Compute!</h2>\n",
       "\n",
       "<h3>Table of Contents</h3>\n",
       "<ul>\n",
       "<li><a href=\"#description\">Description</a></li>\n",
       "<li><a href=\"#installation\">Installation</a></li>\n",
       "<li><a href=\"#usage\">Usage</a></li>\n",
       "<li><a href=\"#contributing\">Contributing</a></li>\n",
       "<li><a href=\"#license\">License</a></li>\n",
       "<li><a href=\"#contact\">Contact</a></li>\n",
       "</ul>\n",
       "\n",
       "<h3 id=\"description\">Description</h3>\n",
       "\n",
       "<p>This repository contains example notebooks that can help you start using SciServer for your data science and science education projects. Follow the instructions below to install the example notebooks in one of your containers. You can modify the notebooks to suit your needs, but if you do we recommend that you copy them into a new folder so you can update the original example notebooks from our repository as needed.</p>\n",
       "\n",
       "<h3 id=\"installation\">Installation</h3>\n",
       "\n",
       "For information on installing Example Notebooks, please see https://github.com/sciserver/Example-Notebooks/wiki/How-to-Install.\n",
       "\n",
       "For information on updating Example Notebooks, please see https://github.com/sciserver/Example-Notebooks/wiki/How-to-Update.\n",
       "\n",
       "<h3 id=\"usage\">Usage</h3>\n",
       "\n",
       "[How to use Example Notebooks once they’re installed. This would also be a good place to include screenshots of your project in action.]\n",
       "\n",
       "<h3 id=\"contributing\">Contributing</h3>\n",
       "\n",
       "[How to share your custom modifications with SciServer.]\n",
       "\n",
       "<h3 id=\"license\">License</h3>\n",
       "\n",
       "[Find out license info from Mike R and put link to license file here.]\n",
       "\n",
       "<h3 id=\"contact\">Contact</h3>\n",
       "\n",
       "<p>For technical questions or to report a bug, please email sciserver-helpdesk@jhu.edu.</p>\n",
       "<p>For more information about SciServer, what it is, and what you can do with it, please visit www.sciserver.org.</p>\n"
      ],
      "text/plain": [
       "<IPython.core.display.HTML object>"
      ]
     },
     "execution_count": 2,
     "metadata": {},
     "output_type": "execute_result"
    }
   ],
   "source": [
    "# ONLY RUN THIS ONCE!\n",
    "# installs example notebooks\n",
    "from IPython.core.display import HTML\n",
    "!git clone https://github.com/sciserver/Example-Notebooks persistent/examples/\n",
    "print('\\n')\n",
    "print('Example notebooks downloaded')\n",
    "HTML(url='https://raw.githubusercontent.com/sciserver/Example-Notebooks/master/README.md')"
   ]
  },
  {
   "cell_type": "code",
   "execution_count": null,
   "metadata": {
    "collapsed": true
   },
   "outputs": [],
   "source": []
  }
 ],
 "metadata": {
  "kernelspec": {
   "display_name": "Python 3",
   "language": "python",
   "name": "python3"
  },
  "language_info": {
   "codemirror_mode": {
    "name": "ipython",
    "version": 3
   },
   "file_extension": ".py",
   "mimetype": "text/x-python",
   "name": "python",
   "nbconvert_exporter": "python",
   "pygments_lexer": "ipython3",
   "version": "3.5.3"
  }
 },
 "nbformat": 4,
 "nbformat_minor": 0
}
