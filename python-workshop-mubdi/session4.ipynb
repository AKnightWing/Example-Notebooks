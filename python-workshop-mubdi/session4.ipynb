{
 "cells": [
  {
   "cell_type": "markdown",
   "metadata": {},
   "source": [
    "Use the Table or dictionary that you created in the previous session and plot the spectral energy distribution (SED: flux as a function of wavelength). The wavelength corresponding to the different bands are (in um):\n",
    "0.3543, 0.4770, 0.6231, 0.7625, 0.9134, 1.0305, 1.2483, 1.6313, 2.2010, 3.4, 4.6, 12., 22."
   ]
  },
  {
   "cell_type": "code",
   "execution_count": 36,
   "metadata": {
    "collapsed": false
   },
   "outputs": [],
   "source": [
    "import astropy as astro\n",
    "import numpy as np\n",
    "from astropy.table import Table\n",
    "from astropy.io import fits\n",
    "import matplotlib.pyplot as plt\n",
    "%matplotlib inline "
   ]
  },
  {
   "cell_type": "code",
   "execution_count": 37,
   "metadata": {
    "collapsed": false
   },
   "outputs": [],
   "source": [
    "fluxes = Table.read('Fluxes.fits')\n",
    "sel = fluxes[:3]"
   ]
  },
  {
   "cell_type": "code",
   "execution_count": 38,
   "metadata": {
    "collapsed": false
   },
   "outputs": [
    {
     "data": {
      "text/plain": [
       "['id',\n",
       " 'ra',\n",
       " 'dec',\n",
       " 'redshift',\n",
       " 'u',\n",
       " 'u_err',\n",
       " 'g',\n",
       " 'g_err',\n",
       " 'r',\n",
       " 'r_err',\n",
       " 'i',\n",
       " 'i_err',\n",
       " 'z',\n",
       " 'z_err',\n",
       " 'J',\n",
       " 'J_err',\n",
       " 'Y',\n",
       " 'Y_err',\n",
       " 'H',\n",
       " 'H_err',\n",
       " 'K',\n",
       " 'K_err',\n",
       " 'W1',\n",
       " 'W1_err',\n",
       " 'W2',\n",
       " 'W2_err',\n",
       " 'W3',\n",
       " 'W3_err',\n",
       " 'W4',\n",
       " 'W4_err']"
      ]
     },
     "execution_count": 38,
     "metadata": {},
     "output_type": "execute_result"
    }
   ],
   "source": [
    "fluxes.colnames # Seeing Column Names"
   ]
  },
  {
   "cell_type": "code",
   "execution_count": 39,
   "metadata": {
    "collapsed": false
   },
   "outputs": [],
   "source": [
    "# Creating a Numpy Array from Astropy Table \n",
    "# (Columns in Astropy tables are not ordered)\n",
    "\n",
    "colnames = ('u', 'g', 'r', 'i', 'z', 'Y', \n",
    "            'J', 'H', 'K', 'W1', 'W2', 'W3', 'W4')\n",
    "colnames_err = ('u_err', 'g_err', 'r_err', 'i_err', 'z_err', 'Y_err', \n",
    "            'J_err', 'H_err', 'K_err', 'W1_err', 'W2_err', 'W3_err', 'W4_err')\n",
    "\n",
    "n_cols = len(colnames)\n",
    "sel_gals = np.zeros((3, n_cols))\n",
    "sel_gals_err = np.zeros((3, n_cols))\n",
    "\n",
    "for j in range(3):\n",
    "    for i in range(n_cols):\n",
    "        tmp_col = colnames[i]\n",
    "        tmp_colerr = colnames_err[i]\n",
    "        sel_gals[j, i] = fluxes[j][tmp_col]\n",
    "        sel_gals_err[j, i] = fluxes[j][tmp_colerr]\n"
   ]
  },
  {
   "cell_type": "code",
   "execution_count": 40,
   "metadata": {
    "collapsed": false
   },
   "outputs": [],
   "source": [
    "mu = np.array([0.3543, 0.4770, 0.6231, 0.7625, \n",
    "               0.9134, 1.0305, 1.2483, 1.6313, \n",
    "               2.2010, 3.40, 4.60, 12.00, 22.00])"
   ]
  },
  {
   "cell_type": "markdown",
   "metadata": {},
   "source": [
    "5.Use these specific instructions.\n",
    "a. Plot the SED for the first three objects in one plot.\n",
    "b. X-axis and Y-axis should be logarithmic.\n",
    "c. Plot first object with dashed lines in green.\n",
    "d. Plot second object with filled circles in blue, connected by no line.\n",
    "e. Plot third object with delta symbols in red, connected by a solid\n",
    "line.\n",
    "f. Indicate the uncertainties in the fluxes with error bars.\n",
    "g. Add axes labels.\n",
    "h. Add a legend in the lower right corner showing which color/style\n",
    "corresponds to which object.\n",
    "i. For sources with no data at a certain wavelength, indicate these\n",
    "missing data with downward arrows (upper limits) using 1e2 as an\n",
    "upper limit.\n",
    "j. Save your plot as jpg file."
   ]
  },
  {
   "cell_type": "code",
   "execution_count": 41,
   "metadata": {
    "collapsed": false
   },
   "outputs": [],
   "source": [
    "# Finding mask on bad galaxies\n",
    "idx1 = np.where(sel_gals[1,:] != 0)\n",
    "idx = np.where(sel_gals[1,:] == 0)\n",
    "\n",
    "temp_data = np.ones(idx[0].size) * 1E2"
   ]
  },
  {
   "cell_type": "code",
   "execution_count": 42,
   "metadata": {
    "collapsed": false
   },
   "outputs": [
    {
     "data": {
      "image/png": "[encoded data removed]",
      "text/plain": [
       "<matplotlib.figure.Figure at 0x10ff11b90>"
      ]
     },
     "metadata": {},
     "output_type": "display_data"
    }
   ],
   "source": [
    "arrow = u'$\\u2193$'\n",
    "\n",
    "plt.errorbar(mu,sel_gals[0,:], yerr=sel_gals_err[0,:], \n",
    "             color= 'green',linestyle = 'dashed')\n",
    "\n",
    "plt.errorbar(mu[idx1],sel_gals[1, :][idx1], \n",
    "             yerr=sel_gals_err[1,:][idx1], \n",
    "             color= 'blue',marker ='o',\n",
    "             linestyle = 'none')\n",
    "\n",
    "plt.plot(mu[idx],temp_data, \n",
    "         color = 'blue', marker = arrow, \n",
    "         linestyle = 'none')\n",
    "\n",
    "plt.errorbar(mu,sel_gals[2,:], yerr=sel_gals_err[2,:], \n",
    "             color = 'red', linestyle = 'solid',\n",
    "             marker ='$\\Delta$')\n",
    "\n",
    "plt.ylabel('Flux log(mJy)')\n",
    "plt.xlabel('Flux log($\\mu$m)')\n",
    "plt.xscale('log')\n",
    "plt.yscale('log')"
   ]
  }
 ],
 "metadata": {
  "kernelspec": {
   "display_name": "Python 2",
   "language": "python",
   "name": "python2"
  },
  "language_info": {
   "codemirror_mode": {
    "name": "ipython",
    "version": 2
   },
   "file_extension": ".py",
   "mimetype": "text/x-python",
   "name": "python",
   "nbconvert_exporter": "python",
   "pygments_lexer": "ipython2",
   "version": "2.7.11"
  }
 },
 "nbformat": 4,
 "nbformat_minor": 0
}
