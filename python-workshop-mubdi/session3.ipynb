{
 "cells": [
  {
   "cell_type": "markdown",
   "metadata": {},
   "source": [
    "3.Read in the file near_IR.fits. This file lists additional near-IR photometry for the galaxies in the file optical.txt, but the sources are not listed in the same order.\n",
    "\n",
    "a. Append the dictionary you created earlier so that is has the columns:\n",
    "name, ra ,dec, redshift, flux_u, u_err, flux_g, g_err, flux_r, r_err, flux_i, i_err, flux_z, z_err, flux_Y, Y_err, flux_J, J_err, flux_H, H_err, flux_K, K_err"
   ]
  },
  {
   "cell_type": "code",
   "execution_count": 1,
   "metadata": {
    "collapsed": false
   },
   "outputs": [
    {
     "name": "stdout",
     "output_type": "stream",
     "text": [
      "packages imported\n"
     ]
    }
   ],
   "source": [
    "import astropy as astro\n",
    "import numpy as np\n",
    "from astropy.table import Table\n",
    "from astropy.io import fits\n",
    "print(\"packages imported\")"
   ]
  },
  {
   "cell_type": "code",
   "execution_count": 4,
   "metadata": {
    "collapsed": false
   },
   "outputs": [
    {
     "name": "stdout",
     "output_type": "stream",
     "text": [
      "read optical_tag.txt\n"
     ]
    }
   ],
   "source": [
    "# Reading optical data from previous session \n",
    "t_opt = Table.read('data/optical_tag.txt', format = 'ascii.commented_header')\n",
    "print(\"read optical_tag.txt\")"
   ]
  },
  {
   "cell_type": "code",
   "execution_count": 6,
   "metadata": {
    "collapsed": false
   },
   "outputs": [
    {
     "data": {
      "text/html": [
       "&lt;Table length=9&gt;\n",
       "<table id=\"table139914095780048\">\n",
       "<thead><tr><th>name</th><th>Y</th><th>Y_err</th><th>J</th><th>J_err</th><th>H</th><th>H_err</th><th>K</th><th>K_err</th></tr></thead>\n",
       "<thead><tr><th>str8</th><th>float64</th><th>float64</th><th>float64</th><th>float64</th><th>float64</th><th>float64</th><th>float64</th><th>float64</th></tr></thead>\n",
       "<tr><td>3324m091</td><td>0.0</td><td>0.0</td><td>0.0</td><td>0.0</td><td>0.0</td><td>0.0</td><td>0.0</td><td>0.0</td></tr>\n",
       "<tr><td>0136p000</td><td>0.0</td><td>0.0</td><td>0.0653014</td><td>0.00358461</td><td>0.119733</td><td>0.00714473</td><td>0.135493</td><td>0.00560361</td></tr>\n",
       "<tr><td>0105m016</td><td>0.0567706</td><td>0.00339172</td><td>0.0482037</td><td>0.00438435</td><td>0.0874625</td><td>0.00659749</td><td>0.107061</td><td>0.00629918</td></tr>\n",
       "<tr><td>0317p015</td><td>0.0776212</td><td>0.0037513</td><td>0.0693173</td><td>0.00538721</td><td>0.103825</td><td>0.00689423</td><td>0.126122</td><td>0.00644539</td></tr>\n",
       "<tr><td>3221p000</td><td>0.18188</td><td>0.00455901</td><td>0.26426</td><td>0.00463779</td><td>0.365529</td><td>0.00819638</td><td>0.428345</td><td>0.00676489</td></tr>\n",
       "<tr><td>0211p000</td><td>0.0701774</td><td>0.00396726</td><td>0.0988794</td><td>0.00583389</td><td>0.180533</td><td>0.00748821</td><td>0.354007</td><td>0.00717859</td></tr>\n",
       "<tr><td>0242p000</td><td>0.0569324</td><td>0.00409066</td><td>0.0347468</td><td>0.00520014</td><td>0.0582967</td><td>0.00707859</td><td>0.0574337</td><td>0.00636905</td></tr>\n",
       "<tr><td>0287m016</td><td>0.0496609</td><td>0.00364349</td><td>0.0651956</td><td>0.00463052</td><td>0.0914773</td><td>0.0058773</td><td>0.140448</td><td>0.00575708</td></tr>\n",
       "<tr><td>0121p000</td><td>0.0402738</td><td>0.00288043</td><td>0.0705959</td><td>0.00390204</td><td>0.0946611</td><td>0.00643475</td><td>0.13383</td><td>0.0057457</td></tr>\n",
       "</table>"
      ],
      "text/plain": [
       "<Table length=9>\n",
       "  name       Y       Y_err        J     ...   H_err        K       K_err   \n",
       "  str8    float64   float64    float64  ...  float64    float64   float64  \n",
       "-------- --------- ---------- --------- ... ---------- --------- ----------\n",
       "3324m091       0.0        0.0       0.0 ...        0.0       0.0        0.0\n",
       "0136p000       0.0        0.0 0.0653014 ... 0.00714473  0.135493 0.00560361\n",
       "0105m016 0.0567706 0.00339172 0.0482037 ... 0.00659749  0.107061 0.00629918\n",
       "0317p015 0.0776212  0.0037513 0.0693173 ... 0.00689423  0.126122 0.00644539\n",
       "3221p000   0.18188 0.00455901   0.26426 ... 0.00819638  0.428345 0.00676489\n",
       "0211p000 0.0701774 0.00396726 0.0988794 ... 0.00748821  0.354007 0.00717859\n",
       "0242p000 0.0569324 0.00409066 0.0347468 ... 0.00707859 0.0574337 0.00636905\n",
       "0287m016 0.0496609 0.00364349 0.0651956 ...  0.0058773  0.140448 0.00575708\n",
       "0121p000 0.0402738 0.00288043 0.0705959 ... 0.00643475   0.13383  0.0057457"
      ]
     },
     "execution_count": 6,
     "metadata": {},
     "output_type": "execute_result"
    }
   ],
   "source": [
    "# Read file near_IR.fits\n",
    "t_IR = Table.read('data/near_ir.fits')\n",
    "t_IR # Print table as output"
   ]
  },
  {
   "cell_type": "code",
   "execution_count": 7,
   "metadata": {
    "collapsed": false
   },
   "outputs": [
    {
     "name": "stdout",
     "output_type": "stream",
     "text": [
      "columns created\n",
      "columns added\n"
     ]
    }
   ],
   "source": [
    "colJ  = Table.Column(name='J', data = range(0,9), dtype=float)\n",
    "colJe = Table.Column(name='J_err', data = range(0,9), dtype=float)\n",
    "colY  = Table.Column(name='Y', data = range(0,9), dtype=float)\n",
    "colYe = Table.Column(name='Y_err', data = range(0,9), dtype=float)\n",
    "colH  = Table.Column(name='H', data = range(0,9), dtype=float)\n",
    "colHe = Table.Column(name='H_err', data = range(0,9), dtype=float)\n",
    "colK  = Table.Column(name='K', data = range(0,9), dtype=float)\n",
    "colKe = Table.Column(name='K_err', data = range(0,9), dtype=float)\n",
    "print(\"columns created\")\n",
    "\n",
    "t_opt.add_column(colJ) \n",
    "t_opt.add_column(colJe) \n",
    "t_opt.add_column(colY) \n",
    "t_opt.add_column(colYe) \n",
    "t_opt.add_column(colH) \n",
    "t_opt.add_column(colHe)\n",
    "t_opt.add_column(colK) \n",
    "t_opt.add_column(colKe) \n",
    "print(\"columns added\")"
   ]
  },
  {
   "cell_type": "code",
   "execution_count": 8,
   "metadata": {
    "collapsed": false
   },
   "outputs": [
    {
     "name": "stdout",
     "output_type": "stream",
     "text": [
      "data loaded\n"
     ]
    }
   ],
   "source": [
    "for i in np.arange(9):\n",
    "    ind = np.where(t_IR['name'] == t_opt['id'][i])\n",
    "    t_opt['J'][i] =  t_IR['J'][ind[0][0]]\n",
    "    t_opt['J_err'][i] =  t_IR['J_err'][ind[0][0]]\n",
    "    t_opt['Y'][i] =  t_IR['Y'][ind[0][0]]\n",
    "    t_opt['Y_err'][i] =  t_IR['Y_err'][ind[0][0]]\n",
    "    t_opt['H'][i] =  t_IR['H'][ind[0][0]]\n",
    "    t_opt['H_err'][i] =  t_IR['H_err'][ind[0][0]]\n",
    "    t_opt['K'][i] =  t_IR['K'][ind[0][0]]\n",
    "    t_opt['K_err'][i] =  t_IR['K_err'][ind[0][0]]\n",
    "print(\"data loaded\")    "
   ]
  },
  {
   "cell_type": "markdown",
   "metadata": {},
   "source": [
    "b. Find the galaxy which has a u-band flux greater than 0.01 mJy but no detection in the Y-band. (print on screen)"
   ]
  },
  {
   "cell_type": "code",
   "execution_count": 9,
   "metadata": {
    "collapsed": false
   },
   "outputs": [
    {
     "name": "stdout",
     "output_type": "stream",
     "text": [
      "3324m091\n"
     ]
    }
   ],
   "source": [
    "idx  = np.where( (t_opt['u'] > 0.01) & (t_opt['Y'] == 0.0) )        \n",
    "# you can also use idx = (t_opt['u'] > 0.01) & (t_opt['Y'] == 0.0)\n",
    "print t_opt['id'][idx[0][0]]\n"
   ]
  },
  {
   "cell_type": "markdown",
   "metadata": {},
   "source": [
    "4.Read in the W1 images (the file names tell you which galaxy the image shows).\n",
    "\n",
    "a. Find the maximum pixel value (x_cen, y_cen).\n",
    "\n",
    "b. Find the sum of pixel values in a 11 pixel times 11 pixel box,\n",
    "centered on (x_cen, y_cen) and multiply that sum by 1.93e-3. Add to the dictionary with key name W1. Take sqrt(W1) as W1_err and add to the dictionary."
   ]
  },
  {
   "cell_type": "code",
   "execution_count": 10,
   "metadata": {
    "collapsed": false
   },
   "outputs": [
    {
     "ename": "IOError",
     "evalue": "[Errno 2] No such file or directory: 'ir_images/w1/3221p000_ac51-w1.fits'",
     "output_type": "error",
     "traceback": [
      "\u001b[1;31m\u001b[0m",
      "\u001b[1;31mIOError\u001b[0mTraceback (most recent call last)",
      "\u001b[1;32m<ipython-input-10-b0d583dc311d>\u001b[0m in \u001b[0;36m<module>\u001b[1;34m()\u001b[0m\n\u001b[0;32m      5\u001b[0m \u001b[1;31m#Loop to read fits, and store the fluxes in central region.\u001b[0m\u001b[1;33m\u001b[0m\u001b[1;33m\u001b[0m\u001b[0m\n\u001b[0;32m      6\u001b[0m \u001b[1;32mfor\u001b[0m \u001b[0mi\u001b[0m\u001b[1;33m,\u001b[0m\u001b[0mval\u001b[0m \u001b[1;32min\u001b[0m \u001b[0menumerate\u001b[0m\u001b[1;33m(\u001b[0m\u001b[0mt_opt\u001b[0m\u001b[1;33m[\u001b[0m\u001b[1;34m'id'\u001b[0m\u001b[1;33m]\u001b[0m\u001b[1;33m)\u001b[0m\u001b[1;33m:\u001b[0m\u001b[1;33m\u001b[0m\u001b[0m\n\u001b[1;32m----> 7\u001b[1;33m     \u001b[0mim\u001b[0m \u001b[1;33m=\u001b[0m \u001b[0mfits\u001b[0m\u001b[1;33m.\u001b[0m\u001b[0mgetdata\u001b[0m\u001b[1;33m(\u001b[0m\u001b[1;34m'ir_images/w1/'\u001b[0m\u001b[1;33m+\u001b[0m\u001b[0mval\u001b[0m\u001b[1;33m+\u001b[0m\u001b[1;34m'_ac51-w1.fits'\u001b[0m\u001b[1;33m)\u001b[0m\u001b[1;33m\u001b[0m\u001b[0m\n\u001b[0m\u001b[0;32m      8\u001b[0m     \u001b[0mmax_loc\u001b[0m \u001b[1;33m=\u001b[0m \u001b[0mnp\u001b[0m\u001b[1;33m.\u001b[0m\u001b[0mwhere\u001b[0m\u001b[1;33m(\u001b[0m\u001b[0mim\u001b[0m \u001b[1;33m==\u001b[0m  \u001b[0mnp\u001b[0m\u001b[1;33m.\u001b[0m\u001b[0mamax\u001b[0m\u001b[1;33m(\u001b[0m\u001b[0mim\u001b[0m\u001b[1;33m)\u001b[0m\u001b[1;33m)\u001b[0m \u001b[1;31m#4a\u001b[0m\u001b[1;33m\u001b[0m\u001b[0m\n\u001b[0;32m      9\u001b[0m     \u001b[0mregion\u001b[0m \u001b[1;33m=\u001b[0m \u001b[0mim\u001b[0m\u001b[1;33m[\u001b[0m\u001b[0mmax_loc\u001b[0m\u001b[1;33m[\u001b[0m\u001b[1;36m0\u001b[0m\u001b[1;33m]\u001b[0m\u001b[1;33m[\u001b[0m\u001b[1;36m0\u001b[0m\u001b[1;33m]\u001b[0m\u001b[1;33m-\u001b[0m\u001b[1;36m11\u001b[0m\u001b[1;33m:\u001b[0m\u001b[0mmax_loc\u001b[0m\u001b[1;33m[\u001b[0m\u001b[1;36m0\u001b[0m\u001b[1;33m]\u001b[0m\u001b[1;33m[\u001b[0m\u001b[1;36m0\u001b[0m\u001b[1;33m]\u001b[0m\u001b[1;33m+\u001b[0m\u001b[1;36m11\u001b[0m\u001b[1;33m,\u001b[0m\u001b[0mmax_loc\u001b[0m\u001b[1;33m[\u001b[0m\u001b[1;36m1\u001b[0m\u001b[1;33m]\u001b[0m\u001b[1;33m[\u001b[0m\u001b[1;36m0\u001b[0m\u001b[1;33m]\u001b[0m\u001b[1;33m-\u001b[0m\u001b[1;36m11\u001b[0m\u001b[1;33m:\u001b[0m\u001b[0mmax_loc\u001b[0m\u001b[1;33m[\u001b[0m\u001b[1;36m1\u001b[0m\u001b[1;33m]\u001b[0m\u001b[1;33m[\u001b[0m\u001b[1;36m0\u001b[0m\u001b[1;33m]\u001b[0m\u001b[1;33m+\u001b[0m\u001b[1;36m11\u001b[0m\u001b[1;33m]\u001b[0m\u001b[1;33m\u001b[0m\u001b[0m\n",
      "\u001b[1;32m/home/idies/anaconda3/envs/py27/lib/python2.7/site-packages/astropy/io/fits/convenience.py\u001b[0m in \u001b[0;36mgetdata\u001b[1;34m(filename, *args, **kwargs)\u001b[0m\n\u001b[0;32m    184\u001b[0m     \u001b[0mview\u001b[0m \u001b[1;33m=\u001b[0m \u001b[0mkwargs\u001b[0m\u001b[1;33m.\u001b[0m\u001b[0mpop\u001b[0m\u001b[1;33m(\u001b[0m\u001b[1;34m'view'\u001b[0m\u001b[1;33m,\u001b[0m \u001b[0mNone\u001b[0m\u001b[1;33m)\u001b[0m\u001b[1;33m\u001b[0m\u001b[0m\n\u001b[0;32m    185\u001b[0m \u001b[1;33m\u001b[0m\u001b[0m\n\u001b[1;32m--> 186\u001b[1;33m     \u001b[0mhdulist\u001b[0m\u001b[1;33m,\u001b[0m \u001b[0mextidx\u001b[0m \u001b[1;33m=\u001b[0m \u001b[0m_getext\u001b[0m\u001b[1;33m(\u001b[0m\u001b[0mfilename\u001b[0m\u001b[1;33m,\u001b[0m \u001b[0mmode\u001b[0m\u001b[1;33m,\u001b[0m \u001b[1;33m*\u001b[0m\u001b[0margs\u001b[0m\u001b[1;33m,\u001b[0m \u001b[1;33m**\u001b[0m\u001b[0mkwargs\u001b[0m\u001b[1;33m)\u001b[0m\u001b[1;33m\u001b[0m\u001b[0m\n\u001b[0m\u001b[0;32m    187\u001b[0m     \u001b[0mhdu\u001b[0m \u001b[1;33m=\u001b[0m \u001b[0mhdulist\u001b[0m\u001b[1;33m[\u001b[0m\u001b[0mextidx\u001b[0m\u001b[1;33m]\u001b[0m\u001b[1;33m\u001b[0m\u001b[0m\n\u001b[0;32m    188\u001b[0m     \u001b[0mdata\u001b[0m \u001b[1;33m=\u001b[0m \u001b[0mhdu\u001b[0m\u001b[1;33m.\u001b[0m\u001b[0mdata\u001b[0m\u001b[1;33m\u001b[0m\u001b[0m\n",
      "\u001b[1;32m/home/idies/anaconda3/envs/py27/lib/python2.7/site-packages/astropy/io/fits/convenience.py\u001b[0m in \u001b[0;36m_getext\u001b[1;34m(filename, mode, *args, **kwargs)\u001b[0m\n\u001b[0;32m    754\u001b[0m         \u001b[1;32mraise\u001b[0m \u001b[0mTypeError\u001b[0m\u001b[1;33m(\u001b[0m\u001b[1;34m'extver alone cannot specify an extension.'\u001b[0m\u001b[1;33m)\u001b[0m\u001b[1;33m\u001b[0m\u001b[0m\n\u001b[0;32m    755\u001b[0m \u001b[1;33m\u001b[0m\u001b[0m\n\u001b[1;32m--> 756\u001b[1;33m     \u001b[0mhdulist\u001b[0m \u001b[1;33m=\u001b[0m \u001b[0mfitsopen\u001b[0m\u001b[1;33m(\u001b[0m\u001b[0mfilename\u001b[0m\u001b[1;33m,\u001b[0m \u001b[0mmode\u001b[0m\u001b[1;33m=\u001b[0m\u001b[0mmode\u001b[0m\u001b[1;33m,\u001b[0m \u001b[1;33m**\u001b[0m\u001b[0mkwargs\u001b[0m\u001b[1;33m)\u001b[0m\u001b[1;33m\u001b[0m\u001b[0m\n\u001b[0m\u001b[0;32m    757\u001b[0m \u001b[1;33m\u001b[0m\u001b[0m\n\u001b[0;32m    758\u001b[0m     \u001b[1;32mreturn\u001b[0m \u001b[0mhdulist\u001b[0m\u001b[1;33m,\u001b[0m \u001b[0mext\u001b[0m\u001b[1;33m\u001b[0m\u001b[0m\n",
      "\u001b[1;32m/home/idies/anaconda3/envs/py27/lib/python2.7/site-packages/astropy/io/fits/hdu/hdulist.py\u001b[0m in \u001b[0;36mfitsopen\u001b[1;34m(name, mode, memmap, save_backup, cache, **kwargs)\u001b[0m\n\u001b[0;32m    136\u001b[0m         \u001b[1;32mraise\u001b[0m \u001b[0mValueError\u001b[0m\u001b[1;33m(\u001b[0m\u001b[1;34m'Empty filename: %s'\u001b[0m \u001b[1;33m%\u001b[0m \u001b[0mrepr\u001b[0m\u001b[1;33m(\u001b[0m\u001b[0mname\u001b[0m\u001b[1;33m)\u001b[0m\u001b[1;33m)\u001b[0m\u001b[1;33m\u001b[0m\u001b[0m\n\u001b[0;32m    137\u001b[0m \u001b[1;33m\u001b[0m\u001b[0m\n\u001b[1;32m--> 138\u001b[1;33m     \u001b[1;32mreturn\u001b[0m \u001b[0mHDUList\u001b[0m\u001b[1;33m.\u001b[0m\u001b[0mfromfile\u001b[0m\u001b[1;33m(\u001b[0m\u001b[0mname\u001b[0m\u001b[1;33m,\u001b[0m \u001b[0mmode\u001b[0m\u001b[1;33m,\u001b[0m \u001b[0mmemmap\u001b[0m\u001b[1;33m,\u001b[0m \u001b[0msave_backup\u001b[0m\u001b[1;33m,\u001b[0m \u001b[0mcache\u001b[0m\u001b[1;33m,\u001b[0m \u001b[1;33m**\u001b[0m\u001b[0mkwargs\u001b[0m\u001b[1;33m)\u001b[0m\u001b[1;33m\u001b[0m\u001b[0m\n\u001b[0m\u001b[0;32m    139\u001b[0m \u001b[1;33m\u001b[0m\u001b[0m\n\u001b[0;32m    140\u001b[0m \u001b[1;33m\u001b[0m\u001b[0m\n",
      "\u001b[1;32m/home/idies/anaconda3/envs/py27/lib/python2.7/site-packages/astropy/io/fits/hdu/hdulist.py\u001b[0m in \u001b[0;36mfromfile\u001b[1;34m(cls, fileobj, mode, memmap, save_backup, cache, **kwargs)\u001b[0m\n\u001b[0;32m    278\u001b[0m \u001b[1;33m\u001b[0m\u001b[0m\n\u001b[0;32m    279\u001b[0m         return cls._readfrom(fileobj=fileobj, mode=mode, memmap=memmap,\n\u001b[1;32m--> 280\u001b[1;33m                              save_backup=save_backup, cache=cache, **kwargs)\n\u001b[0m\u001b[0;32m    281\u001b[0m \u001b[1;33m\u001b[0m\u001b[0m\n\u001b[0;32m    282\u001b[0m     \u001b[1;33m@\u001b[0m\u001b[0mclassmethod\u001b[0m\u001b[1;33m\u001b[0m\u001b[0m\n",
      "\u001b[1;32m/home/idies/anaconda3/envs/py27/lib/python2.7/site-packages/astropy/io/fits/hdu/hdulist.py\u001b[0m in \u001b[0;36m_readfrom\u001b[1;34m(cls, fileobj, data, mode, memmap, save_backup, cache, **kwargs)\u001b[0m\n\u001b[0;32m    799\u001b[0m             \u001b[1;32mif\u001b[0m \u001b[1;32mnot\u001b[0m \u001b[0misinstance\u001b[0m\u001b[1;33m(\u001b[0m\u001b[0mfileobj\u001b[0m\u001b[1;33m,\u001b[0m \u001b[0m_File\u001b[0m\u001b[1;33m)\u001b[0m\u001b[1;33m:\u001b[0m\u001b[1;33m\u001b[0m\u001b[0m\n\u001b[0;32m    800\u001b[0m                 \u001b[1;31m# instantiate a FITS file object (ffo)\u001b[0m\u001b[1;33m\u001b[0m\u001b[1;33m\u001b[0m\u001b[0m\n\u001b[1;32m--> 801\u001b[1;33m                 \u001b[0mffo\u001b[0m \u001b[1;33m=\u001b[0m \u001b[0m_File\u001b[0m\u001b[1;33m(\u001b[0m\u001b[0mfileobj\u001b[0m\u001b[1;33m,\u001b[0m \u001b[0mmode\u001b[0m\u001b[1;33m=\u001b[0m\u001b[0mmode\u001b[0m\u001b[1;33m,\u001b[0m \u001b[0mmemmap\u001b[0m\u001b[1;33m=\u001b[0m\u001b[0mmemmap\u001b[0m\u001b[1;33m,\u001b[0m \u001b[0mcache\u001b[0m\u001b[1;33m=\u001b[0m\u001b[0mcache\u001b[0m\u001b[1;33m)\u001b[0m\u001b[1;33m\u001b[0m\u001b[0m\n\u001b[0m\u001b[0;32m    802\u001b[0m             \u001b[1;32melse\u001b[0m\u001b[1;33m:\u001b[0m\u001b[1;33m\u001b[0m\u001b[0m\n\u001b[0;32m    803\u001b[0m                 \u001b[0mffo\u001b[0m \u001b[1;33m=\u001b[0m \u001b[0mfileobj\u001b[0m\u001b[1;33m\u001b[0m\u001b[0m\n",
      "\u001b[1;32m/home/idies/anaconda3/envs/py27/lib/python2.7/site-packages/astropy/io/fits/file.py\u001b[0m in \u001b[0;36m__init__\u001b[1;34m(self, fileobj, mode, memmap, clobber, cache)\u001b[0m\n\u001b[0;32m    139\u001b[0m             \u001b[0mself\u001b[0m\u001b[1;33m.\u001b[0m\u001b[0m_open_fileobj\u001b[0m\u001b[1;33m(\u001b[0m\u001b[0mfileobj\u001b[0m\u001b[1;33m,\u001b[0m \u001b[0mmode\u001b[0m\u001b[1;33m,\u001b[0m \u001b[0mclobber\u001b[0m\u001b[1;33m)\u001b[0m\u001b[1;33m\u001b[0m\u001b[0m\n\u001b[0;32m    140\u001b[0m         \u001b[1;32melif\u001b[0m \u001b[0misinstance\u001b[0m\u001b[1;33m(\u001b[0m\u001b[0mfileobj\u001b[0m\u001b[1;33m,\u001b[0m \u001b[0mstring_types\u001b[0m\u001b[1;33m)\u001b[0m\u001b[1;33m:\u001b[0m\u001b[1;33m\u001b[0m\u001b[0m\n\u001b[1;32m--> 141\u001b[1;33m             \u001b[0mself\u001b[0m\u001b[1;33m.\u001b[0m\u001b[0m_open_filename\u001b[0m\u001b[1;33m(\u001b[0m\u001b[0mfileobj\u001b[0m\u001b[1;33m,\u001b[0m \u001b[0mmode\u001b[0m\u001b[1;33m,\u001b[0m \u001b[0mclobber\u001b[0m\u001b[1;33m)\u001b[0m\u001b[1;33m\u001b[0m\u001b[0m\n\u001b[0m\u001b[0;32m    142\u001b[0m         \u001b[1;32melse\u001b[0m\u001b[1;33m:\u001b[0m\u001b[1;33m\u001b[0m\u001b[0m\n\u001b[0;32m    143\u001b[0m             \u001b[0mself\u001b[0m\u001b[1;33m.\u001b[0m\u001b[0m_open_filelike\u001b[0m\u001b[1;33m(\u001b[0m\u001b[0mfileobj\u001b[0m\u001b[1;33m,\u001b[0m \u001b[0mmode\u001b[0m\u001b[1;33m,\u001b[0m \u001b[0mclobber\u001b[0m\u001b[1;33m)\u001b[0m\u001b[1;33m\u001b[0m\u001b[0m\n",
      "\u001b[1;32m/home/idies/anaconda3/envs/py27/lib/python2.7/site-packages/astropy/io/fits/file.py\u001b[0m in \u001b[0;36m_open_filename\u001b[1;34m(self, filename, mode, clobber)\u001b[0m\n\u001b[0;32m    491\u001b[0m             \u001b[0mself\u001b[0m\u001b[1;33m.\u001b[0m\u001b[0m_file\u001b[0m \u001b[1;33m=\u001b[0m \u001b[0mbz2\u001b[0m\u001b[1;33m.\u001b[0m\u001b[0mBZ2File\u001b[0m\u001b[1;33m(\u001b[0m\u001b[0mself\u001b[0m\u001b[1;33m.\u001b[0m\u001b[0mname\u001b[0m\u001b[1;33m,\u001b[0m \u001b[0mbzip2_mode\u001b[0m\u001b[1;33m)\u001b[0m\u001b[1;33m\u001b[0m\u001b[0m\n\u001b[0;32m    492\u001b[0m         \u001b[1;32melse\u001b[0m\u001b[1;33m:\u001b[0m\u001b[1;33m\u001b[0m\u001b[0m\n\u001b[1;32m--> 493\u001b[1;33m             \u001b[0mself\u001b[0m\u001b[1;33m.\u001b[0m\u001b[0m_file\u001b[0m \u001b[1;33m=\u001b[0m \u001b[0mfileobj_open\u001b[0m\u001b[1;33m(\u001b[0m\u001b[0mself\u001b[0m\u001b[1;33m.\u001b[0m\u001b[0mname\u001b[0m\u001b[1;33m,\u001b[0m \u001b[0mPYFITS_MODES\u001b[0m\u001b[1;33m[\u001b[0m\u001b[0mmode\u001b[0m\u001b[1;33m]\u001b[0m\u001b[1;33m)\u001b[0m\u001b[1;33m\u001b[0m\u001b[0m\n\u001b[0m\u001b[0;32m    494\u001b[0m \u001b[1;33m\u001b[0m\u001b[0m\n\u001b[0;32m    495\u001b[0m         \u001b[1;31m# Make certain we're back at the beginning of the file\u001b[0m\u001b[1;33m\u001b[0m\u001b[1;33m\u001b[0m\u001b[0m\n",
      "\u001b[1;32m/home/idies/anaconda3/envs/py27/lib/python2.7/site-packages/astropy/io/fits/util.py\u001b[0m in \u001b[0;36mfileobj_open\u001b[1;34m(filename, mode)\u001b[0m\n\u001b[0;32m    413\u001b[0m         \"\"\"\n\u001b[0;32m    414\u001b[0m \u001b[1;33m\u001b[0m\u001b[0m\n\u001b[1;32m--> 415\u001b[1;33m         \u001b[1;32mreturn\u001b[0m \u001b[0mopen\u001b[0m\u001b[1;33m(\u001b[0m\u001b[0mfilename\u001b[0m\u001b[1;33m,\u001b[0m \u001b[0mmode\u001b[0m\u001b[1;33m)\u001b[0m\u001b[1;33m\u001b[0m\u001b[0m\n\u001b[0m\u001b[0;32m    416\u001b[0m \u001b[1;33m\u001b[0m\u001b[0m\n\u001b[0;32m    417\u001b[0m \u001b[1;33m\u001b[0m\u001b[0m\n",
      "\u001b[1;31mIOError\u001b[0m: [Errno 2] No such file or directory: 'ir_images/w1/3221p000_ac51-w1.fits'"
     ]
    }
   ],
   "source": [
    "#Crete the array for storing the fluxes\n",
    "W1     = np.zeros([9])\n",
    "W1_err = np.zeros([9])\n",
    "\n",
    "#Loop to read fits, and store the fluxes in central region.\n",
    "for i,val in enumerate(t_opt['id']):\n",
    "    im = fits.getdata('ir_images/w1/'+val+'_ac51-w1.fits')\n",
    "    max_loc = np.where(im ==  np.amax(im)) #4a\n",
    "    region = im[max_loc[0][0]-11:max_loc[0][0]+11,max_loc[1][0]-11:max_loc[1][0]+11]\n",
    "    tot = np.sum(region) # 4b\n",
    "    print tot\n",
    "    W1[i] = tot*1.93e-3    \n",
    "    W1_err[i] = np.sqrt(tot*1.93e-3)\n",
    "print W1\n",
    "colW1  = Table.Column(name='W1', data = W1, dtype=float)\n",
    "colW1e = Table.Column(name='W1_err', data = W1_err, dtype=float)\n",
    "t_opt.add_column(colW1) \n",
    "t_opt.add_column(colW1e) "
   ]
  },
  {
   "cell_type": "markdown",
   "metadata": {},
   "source": [
    "5.Repeat 4a and 4b for the W2, W3 and W4 images and multiply the W2 values by 2.7e-3, the W3 values by 2.9e-3 and the W3 values by 5.2e-3, respectively. This converts the flux units to mJy. Add the values to the dictionary. Note that the W images are not\n",
    "in the same galaxy order as your dictionary probably is. Make sure\n",
    "to append correctly."
   ]
  },
  {
   "cell_type": "code",
   "execution_count": 7,
   "metadata": {
    "collapsed": true
   },
   "outputs": [],
   "source": [
    "W2, W2_err, W3, W3_err, W4, W4_err = np.zeros([9]), np.zeros([9]), np.zeros([9]),np.zeros([9]),np.zeros([9]),np.zeros([9])\n",
    "for i,val in enumerate(t_opt['id']):\n",
    "    im2 = fits.getdata('IR_images/W2/'+val+'_ac51-w2.fits')\n",
    "    im3 = fits.getdata('IR_images/W3/'+val+'_ac51-w3.fits')\n",
    "    im4 = fits.getdata('IR_images/W4/'+val+'_ac51-w4.fits')\n",
    "\n",
    "    max_loc2 = np.where(im2 ==  np.amax(im2)) #4a\n",
    "    max_loc3 = np.where(im3 ==  np.amax(im3)) #4a\n",
    "    max_loc4 = np.where(im4 ==  np.amax(im4)) #4a\n",
    "\n",
    "    region2 = im2[max_loc2[0][0]-11:max_loc2[0][0]+11,max_loc2[1][0]-11:max_loc2[1][0]+11]\n",
    "    region3 = im3[max_loc3[0][0]-11:max_loc3[0][0]+11,max_loc3[1][0]-11:max_loc3[1][0]+11]\n",
    "    region4 = im4[max_loc4[0][0]-11:max_loc4[0][0]+11,max_loc4[1][0]-11:max_loc4[1][0]+11]\n",
    "\n",
    "    tot2 = np.sum(region2) # 4b\n",
    "    tot3 = np.sum(region3) # 4b\n",
    "    tot4 = np.sum(region4) # 4b\n",
    "\n",
    "    W2[i] = tot2*2.7e-3    \n",
    "    W2_err[i] = np.sqrt(tot2*2.7e-3)\n",
    "    W3[i] = tot3*2.9e-3    \n",
    "    W3_err[i] = np.sqrt(tot3*2.9e-3)\n",
    "    W4[i] = tot4*5.2e-3    \n",
    "    W4_err[i] = np.sqrt(tot4*5.2e-3)\n",
    "\n",
    "colW2  = Table.Column(name='W2', data = W2, dtype=float)\n",
    "colW2e = Table.Column(name='W2_err', data = W2_err, dtype=float)\n",
    "colW3  = Table.Column(name='W3', data = W3, dtype=float)\n",
    "colW3e = Table.Column(name='W3_err', data = W3_err, dtype=float)\n",
    "colW4  = Table.Column(name='W4', data = W4, dtype=float)\n",
    "colW4e = Table.Column(name='W4_err', data = W4_err, dtype=float)\n",
    "\n",
    "t_opt.add_column(colW2) \n",
    "t_opt.add_column(colW2e) \n",
    "t_opt.add_column(colW3) \n",
    "t_opt.add_column(colW3e) \n",
    "t_opt.add_column(colW4) \n",
    "t_opt.add_column(colW4e) "
   ]
  },
  {
   "cell_type": "markdown",
   "metadata": {},
   "source": [
    "6.Convert the dictionary to a Table (be careful with the order of the\n",
    "keys in the dictionary) and write the Table to a text file."
   ]
  },
  {
   "cell_type": "code",
   "execution_count": 8,
   "metadata": {
    "collapsed": false
   },
   "outputs": [
    {
     "data": {
      "text/html": [
       "&lt;Table masked=False length=9&gt;\n",
       "<table id=\"table4366150928\">\n",
       "<thead><tr><th>id</th><th>ra</th><th>dec</th><th>redshift</th><th>u</th><th>u_err</th><th>g</th><th>g_err</th><th>r</th><th>r_err</th><th>i</th><th>i_err</th><th>z</th><th>z_err</th><th>J</th><th>J_err</th><th>Y</th><th>Y_err</th><th>H</th><th>H_err</th><th>K</th><th>K_err</th><th>W1</th><th>W1_err</th><th>W2</th><th>W2_err</th><th>W3</th><th>W3_err</th><th>W4</th><th>W4_err</th></tr></thead>\n",
       "<thead><tr><th>string64</th><th>float64</th><th>float64</th><th>float64</th><th>float64</th><th>float64</th><th>float64</th><th>float64</th><th>float64</th><th>float64</th><th>float64</th><th>float64</th><th>float64</th><th>float64</th><th>float64</th><th>float64</th><th>float64</th><th>float64</th><th>float64</th><th>float64</th><th>float64</th><th>float64</th><th>float64</th><th>float64</th><th>float64</th><th>float64</th><th>float64</th><th>float64</th><th>float64</th><th>float64</th></tr></thead>\n",
       "<tr><td>3221p000</td><td>321.724271547</td><td>0.598066621013</td><td>0.2349</td><td>0.0351163</td><td>0.00240797</td><td>0.104388</td><td>0.00128226</td><td>0.308084</td><td>0.00223131</td><td>0.459592</td><td>0.00357667</td><td>0.56537</td><td>0.0106389</td><td>0.26426</td><td>0.00463779</td><td>0.18188</td><td>0.00455901</td><td>0.365529</td><td>0.00819638</td><td>0.428345</td><td>0.00676489</td><td>4.21749009277</td><td>2.05365286569</td><td>13.3137777832</td><td>3.64880498015</td><td>900.40740625</td><td>30.0067893359</td><td>509.58090625</td><td>22.5738987827</td></tr>\n",
       "<tr><td>3324m091</td><td>333.074690104</td><td>-9.73551338064</td><td>0.1805</td><td>0.0523519</td><td>0.00319408</td><td>0.181128</td><td>0.00170665</td><td>0.440053</td><td>0.00268839</td><td>0.629704</td><td>0.00392663</td><td>0.716125</td><td>0.0124855</td><td>0.0</td><td>0.0</td><td>0.0</td><td>0.0</td><td>0.0</td><td>0.0</td><td>0.0</td><td>0.0</td><td>0.0</td><td>0.0</td><td>0.0</td><td>0.0</td><td>1143.82651875</td><td>33.820504413</td><td>669.75715625</td><td>25.8796668497</td></tr>\n",
       "<tr><td>0105m016</td><td>10.9171472474</td><td>-0.863919513687</td><td>0.5849</td><td>0.00492203</td><td>0.000865933</td><td>0.00828142</td><td>0.000415467</td><td>0.0185295</td><td>0.000625145</td><td>0.0382226</td><td>0.000929956</td><td>0.0369601</td><td>0.00309237</td><td>0.0482037</td><td>0.00438435</td><td>0.0567706</td><td>0.00339172</td><td>0.0874625</td><td>0.00659749</td><td>0.107061</td><td>0.00629918</td><td>3.34666170044</td><td>1.82938834052</td><td>16.1293003418</td><td>4.01613002053</td><td>1179.98081875</td><td>34.3508488796</td><td>695.1436375</td><td>26.3655767527</td></tr>\n",
       "<tr><td>0121p000</td><td>12.540912127</td><td>-0.650179379828</td><td>0.7276</td><td>0.016488</td><td>0.00104897</td><td>0.0227888</td><td>0.000503114</td><td>0.03806</td><td>0.000723773</td><td>0.0421127</td><td>0.000984811</td><td>0.116346</td><td>0.00367073</td><td>0.0705959</td><td>0.00390204</td><td>0.0402738</td><td>0.00288043</td><td>0.0946611</td><td>0.00643475</td><td>0.13383</td><td>0.0057457</td><td>2.60564654053</td><td>1.61420151794</td><td>24.5239998047</td><td>4.95217122126</td><td>1276.5151125</td><td>35.7283516622</td><td>741.80234375</td><td>27.2360486075</td></tr>\n",
       "<tr><td>0136p000</td><td>14.0905335324</td><td>0.543261294954</td><td>0.484</td><td>-0.00403936</td><td>0.000647207</td><td>0.00939846</td><td>0.000383069</td><td>0.0190022</td><td>0.000567523</td><td>0.0487278</td><td>0.000977344</td><td>0.0499101</td><td>0.00289048</td><td>0.0653014</td><td>0.00358461</td><td>0.0</td><td>0.0</td><td>0.119733</td><td>0.00714473</td><td>0.135493</td><td>0.00560361</td><td>4.35800643799</td><td>2.08758387568</td><td>16.9355285156</td><td>4.11527988302</td><td>1265.747775</td><td>35.5773491846</td><td>731.420625</td><td>27.0447892393</td></tr>\n",
       "<tr><td>0211p000</td><td>20.9227566654</td><td>0.743306927928</td><td>0.399</td><td>0.00615506</td><td>0.00123989</td><td>0.0170807</td><td>0.00064249</td><td>0.0327824</td><td>0.000985925</td><td>0.0819394</td><td>0.00169918</td><td>0.0937952</td><td>0.00566314</td><td>0.0988794</td><td>0.00583389</td><td>0.0701774</td><td>0.00396726</td><td>0.180533</td><td>0.00748821</td><td>0.354007</td><td>0.00717859</td><td>4.91501452148</td><td>2.2169832028</td><td>15.3996873047</td><td>3.9242435328</td><td>1090.30919375</td><td>33.0198303107</td><td>643.1602125</td><td>25.3606035516</td></tr>\n",
       "<tr><td>0242p000</td><td>23.5680873831</td><td>0.237115319797</td><td>0.5559</td><td>0.00759816</td><td>0.000946752</td><td>0.00830058</td><td>0.000372407</td><td>0.017375</td><td>0.000569082</td><td>0.0508966</td><td>0.000970162</td><td>0.0298896</td><td>0.00333377</td><td>0.0347468</td><td>0.00520014</td><td>0.0569324</td><td>0.00409066</td><td>0.0582967</td><td>0.00707859</td><td>0.0574337</td><td>0.00636905</td><td>2.59826155762</td><td>1.61191239142</td><td>13.8701373047</td><td>3.72426332376</td><td>1077.61326562</td><td>32.8270203586</td><td>638.601925</td><td>25.2705742911</td></tr>\n",
       "<tr><td>0287m016</td><td>29.3205056246</td><td>-0.884636819879</td><td>0.4223</td><td>0.0087676</td><td>0.00109288</td><td>0.0131056</td><td>0.000531681</td><td>0.0232964</td><td>0.00076599</td><td>0.0775727</td><td>0.00129397</td><td>0.0492031</td><td>0.00390114</td><td>0.0651956</td><td>0.00463052</td><td>0.0496609</td><td>0.00364349</td><td>0.0914773</td><td>0.0058773</td><td>0.140448</td><td>0.00575708</td><td>4.600758125</td><td>2.14493779047</td><td>14.4914378906</td><td>3.80676212688</td><td>1024.817225</td><td>32.012766594</td><td>594.69288125</td><td>24.3863257021</td></tr>\n",
       "<tr><td>0317p015</td><td>31.7321267288</td><td>1.14073302163</td><td>0.4712</td><td>0.0193064</td><td>0.00163807</td><td>0.0265698</td><td>0.000744049</td><td>0.0498798</td><td>0.00108943</td><td>0.140604</td><td>0.0018933</td><td>0.129575</td><td>0.00564442</td><td>0.0693173</td><td>0.00538721</td><td>0.0776212</td><td>0.0037513</td><td>0.103825</td><td>0.00689423</td><td>0.126122</td><td>0.00644539</td><td>3.99281519287</td><td>1.99820299091</td><td>14.1576227051</td><td>3.76266165169</td><td>1055.92171875</td><td>32.4949491267</td><td>619.741484375</td><td>24.8946075361</td></tr>\n",
       "</table>"
      ],
      "text/plain": [
       "<Table masked=False length=9>\n",
       "   id          ra            dec       ...       W4          W4_err   \n",
       "string64    float64        float64     ...    float64       float64   \n",
       "-------- ------------- --------------- ... ------------- -------------\n",
       "3221p000 321.724271547  0.598066621013 ...  509.58090625 22.5738987827\n",
       "3324m091 333.074690104  -9.73551338064 ...  669.75715625 25.8796668497\n",
       "0105m016 10.9171472474 -0.863919513687 ...   695.1436375 26.3655767527\n",
       "0121p000  12.540912127 -0.650179379828 ...  741.80234375 27.2360486075\n",
       "0136p000 14.0905335324  0.543261294954 ...    731.420625 27.0447892393\n",
       "0211p000 20.9227566654  0.743306927928 ...   643.1602125 25.3606035516\n",
       "0242p000 23.5680873831  0.237115319797 ...    638.601925 25.2705742911\n",
       "0287m016 29.3205056246 -0.884636819879 ...  594.69288125 24.3863257021\n",
       "0317p015 31.7321267288   1.14073302163 ... 619.741484375 24.8946075361"
      ]
     },
     "execution_count": 8,
     "metadata": {},
     "output_type": "execute_result"
    }
   ],
   "source": [
    "t_opt # This is similar to the command t_opt.show_in_browser()"
   ]
  },
  {
   "cell_type": "code",
   "execution_count": 9,
   "metadata": {
    "collapsed": false
   },
   "outputs": [],
   "source": [
    "t_opt.write(\"Fluxes.txt\", format='ascii.tab')\n",
    "t_opt.write(\"Fluxes.fits\")"
   ]
  },
  {
   "cell_type": "code",
   "execution_count": null,
   "metadata": {
    "collapsed": true
   },
   "outputs": [],
   "source": []
  }
 ],
 "metadata": {
  "kernelspec": {
   "display_name": "Python 2",
   "language": "python",
   "name": "python2"
  },
  "language_info": {
   "codemirror_mode": {
    "name": "ipython",
    "version": 2
   },
   "file_extension": ".py",
   "mimetype": "text/x-python",
   "name": "python",
   "nbconvert_exporter": "python",
   "pygments_lexer": "ipython2",
   "version": "2.7.11"
  }
 },
 "nbformat": 4,
 "nbformat_minor": 0
}
