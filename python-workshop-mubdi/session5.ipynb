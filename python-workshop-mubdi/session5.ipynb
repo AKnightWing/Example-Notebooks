{
 "cells": [
  {
   "cell_type": "code",
   "execution_count": 1,
   "metadata": {
    "collapsed": false
   },
   "outputs": [
    {
     "name": "stderr",
     "output_type": "stream",
     "text": [
      "/Users/jorge/Library/Enthought/Canopy_64bit/User/lib/python2.7/site-packages/IPython/kernel/__init__.py:13: ShimWarning: The `IPython.kernel` package has been deprecated. You should import from ipykernel or jupyter_client instead.\n",
      "  \"You should import from ipykernel or jupyter_client instead.\", ShimWarning)\n"
     ]
    }
   ],
   "source": [
    "import numpy as np\n",
    "import matplotlib.pyplot as plt\n",
    "from scipy import interpolate\n",
    "from scipy import constants\n",
    "from scipy import integrate\n",
    "from scipy import optimize\n",
    "from astropy.table import Table\n",
    "%matplotlib inline \n",
    "c = constants.c"
   ]
  },
  {
   "cell_type": "markdown",
   "metadata": {},
   "source": [
    "1.Use spline interpolation to interpolate the SED for the first object and overplot the interpolated SED in pink on the plot you just created."
   ]
  },
  {
   "cell_type": "code",
   "execution_count": 11,
   "metadata": {
    "collapsed": false
   },
   "outputs": [],
   "source": [
    "# Read the fluxes from the created fits file. \n",
    "# Read fluxes similar as in Session4\n",
    "\n",
    "fluxes = Table.read('Fluxes.fits')\n",
    "\n",
    "colnames = ('u', 'g', 'r', 'i', 'z', 'Y', \n",
    "            'J', 'H', 'K', 'W1', 'W2', 'W3', 'W4')\n",
    "\n",
    "colnames_err = ('u_err', 'g_err', 'r_err', 'i_err', 'z_err', 'Y_err', \n",
    "            'J_err', 'H_err', 'K_err', 'W1_err', 'W2_err', 'W3_err', 'W4_err')\n",
    "\n",
    "n_cols = len(colnames)\n",
    "sel_gals = np.zeros((3, n_cols))\n",
    "sel_gals_err = np.zeros((3, n_cols))\n",
    "\n",
    "for j in range(3):\n",
    "    for i in range(n_cols):\n",
    "        tmp_col = colnames[i]\n",
    "        tmp_colerr = colnames_err[i]\n",
    "        sel_gals[j, i] = fluxes[j][tmp_col]\n",
    "        sel_gals_err[j, i] = fluxes[j][tmp_colerr]\n",
    "\n",
    "flux1 = sel_gals[0,:]\n",
    "flux1e = sel_gals_err[0,:]\n",
    "\n",
    "flux3 = sel_gals[2,:]\n",
    "flux3e = sel_gals_err[2,:]"
   ]
  },
  {
   "cell_type": "code",
   "execution_count": 12,
   "metadata": {
    "collapsed": true
   },
   "outputs": [],
   "source": [
    "mu = np.array([0.3543, 0.4770, 0.6231, 0.7625, \n",
    "               0.9134, 1.0305, 1.2483, 1.6313, \n",
    "               2.2010, 3.40, 4.60, 12.00, 22.00])"
   ]
  },
  {
   "cell_type": "code",
   "execution_count": 13,
   "metadata": {
    "collapsed": false
   },
   "outputs": [],
   "source": [
    "# create interpolating function\n",
    "funct1 = interpolate.interp1d(mu,flux1,kind = 'slinear')"
   ]
  },
  {
   "cell_type": "code",
   "execution_count": 14,
   "metadata": {
    "collapsed": false
   },
   "outputs": [
    {
     "data": {
      "image/png": "[encoded data removed]",
      "text/plain": [
       "<matplotlib.figure.Figure at 0x112533f50>"
      ]
     },
     "metadata": {},
     "output_type": "display_data"
    }
   ],
   "source": [
    "x_range = np.linspace(mu[0],mu[-1], num=1000)\n",
    "plt.errorbar(mu,flux1, yerr=flux1e, color= 'green',linestyle = 'dashed')\n",
    "plt.plot(x_range, funct1(x_range),color ='deeppink')\n",
    "plt.ylabel('Flux log(mJy)')\n",
    "plt.xlabel('Flux log($\\mu$m)')\n",
    "plt.xscale('log')\n",
    "plt.yscale('log')"
   ]
  },
  {
   "cell_type": "markdown",
   "metadata": {},
   "source": [
    "2.Integrate the flux from 0.5um to 2um (caution the flux is in F_nu, while we are plotting lambda on the x-axis). That means you’ll have to convert 0.5um and 2um to Hz. F_nu is in mJy while one Jy is 1.e-23 erg/(s\\*cm^2\\*Hz). Express the integral in erg/(s\\*cm^2)."
   ]
  },
  {
   "cell_type": "code",
   "execution_count": 15,
   "metadata": {
    "collapsed": false
   },
   "outputs": [],
   "source": [
    "mu_m = np.asarray(mu)*1e-6\n",
    "nu = c / mu_m[::-1]\n",
    "flux1_Fnu = flux1*1e-3*(1e-23)"
   ]
  },
  {
   "cell_type": "code",
   "execution_count": 16,
   "metadata": {
    "collapsed": true
   },
   "outputs": [],
   "source": [
    "funct2 = interpolate.interp1d(nu,flux1_Fnu,kind = 'slinear')"
   ]
  },
  {
   "cell_type": "code",
   "execution_count": 17,
   "metadata": {
    "collapsed": false
   },
   "outputs": [
    {
     "name": "stdout",
     "output_type": "stream",
     "text": [
      "4.48384376053e-10 1.75305620903e-10\n"
     ]
    }
   ],
   "source": [
    "intarr, err = integrate.quad(funct2,c/(2.0*1e-6), c/(0.5*1e-6))\n",
    "print intarr,err"
   ]
  },
  {
   "cell_type": "markdown",
   "metadata": {},
   "source": [
    "3.Write a BB function to fit the W2, W3 and W4 bands to the third object with a blackbody. Free parameters should be T and normalization. Give initial guesses for T and norm of 30K and 1.e-33. "
   ]
  },
  {
   "cell_type": "code",
   "execution_count": 18,
   "metadata": {
    "collapsed": false
   },
   "outputs": [],
   "source": [
    "# Define the Blackbody function. Note that the factor 2*h/c^3 is part of the normalization.\n",
    "hb = constants.h\n",
    "kb = constants.k\n",
    "def bb(nu,T, norm):\n",
    "    return norm*nu**3/(np.exp(hb*nu/(kb*T))-1.)"
   ]
  },
  {
   "cell_type": "code",
   "execution_count": 19,
   "metadata": {
    "collapsed": false
   },
   "outputs": [
    {
     "name": "stdout",
     "output_type": "stream",
     "text": [
      "[  4.02053266e+02   1.29764549e-36]\n"
     ]
    }
   ],
   "source": [
    "#Getting the fluxes in each of the asked bands... sure there is a clean way to get it! \n",
    "sel = fluxes[:3]\n",
    "flux3  = [sel[2][4], sel[2][6],sel[2][8],sel[2][10],sel[2][12],sel[2][14],sel[2][16],sel[2][18],sel[2][20],sel[2][22],sel[2][24],sel[2][26],sel[2][28]]\n",
    "flux3e = [sel[2][5], sel[2][7],sel[2][9],sel[2][11],sel[2][13],sel[2][15],sel[2][17],sel[2][19],sel[2][21],sel[2][23],sel[2][25],sel[2][27],sel[2][29]]\n",
    "\n",
    "new_mu = np.asarray(mu[-4:])\n",
    "new_f  = np.asarray(flux3[-4:])\n",
    "# fit BB function, caution with wavelength and frequency!\n",
    "param, covar = optimize.curve_fit(bb, c/(new_mu*1.e-6), new_f, p0=[30, 1.e-33])\n",
    "print param"
   ]
  },
  {
   "cell_type": "code",
   "execution_count": 20,
   "metadata": {
    "collapsed": false
   },
   "outputs": [
    {
     "data": {
      "image/png": "[encoded data removed]",
      "text/plain": [
       "<matplotlib.figure.Figure at 0x11294e7d0>"
      ]
     },
     "metadata": {},
     "output_type": "display_data"
    }
   ],
   "source": [
    "x_range = np.linspace(2, 50, num = 1000, endpoint = True)\n",
    "plt.plot (x_range, bb(c/(x_range*1e-6), *param), '-r')\n",
    "plt.errorbar(mu,flux3, yerr=flux1e, color= 'green',linestyle = 'dashed')\n",
    "plt.xscale('log')\n",
    "plt.yscale('log')"
   ]
  },
  {
   "cell_type": "markdown",
   "metadata": {},
   "source": [
    "4.Integrated the BB flux between 1 and 1000 um. "
   ]
  },
  {
   "cell_type": "code",
   "execution_count": 21,
   "metadata": {
    "collapsed": false
   },
   "outputs": [
    {
     "name": "stdout",
     "output_type": "stream",
     "text": [
      "4.15055883665e+16\n"
     ]
    }
   ],
   "source": [
    "T1    = param[0]\n",
    "norm1 = param[1]\n",
    "BB_funct2 = lambda nu:  norm1*nu**3/(np.exp(hb*nu/(kb*T1))-1.)\n",
    "integrate_result2  = integrate.quad(BB_funct2, 3.e8/(1000.e-6), 3.e8/(1.e-6))\n",
    "print(integrate_result2[0]) # take care of units here...."
   ]
  },
  {
   "cell_type": "code",
   "execution_count": null,
   "metadata": {
    "collapsed": true
   },
   "outputs": [],
   "source": []
  }
 ],
 "metadata": {
  "kernelspec": {
   "display_name": "Python 2",
   "language": "python",
   "name": "python2"
  },
  "language_info": {
   "codemirror_mode": {
    "name": "ipython",
    "version": 2
   },
   "file_extension": ".py",
   "mimetype": "text/x-python",
   "name": "python",
   "nbconvert_exporter": "python",
   "pygments_lexer": "ipython2",
   "version": "2.7.11"
  }
 },
 "nbformat": 4,
 "nbformat_minor": 0
}
