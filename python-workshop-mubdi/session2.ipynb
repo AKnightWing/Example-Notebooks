{
 "cells": [
  {
   "cell_type": "markdown",
   "metadata": {},
   "source": [
    "## Solution to Exercises Session 2 ##"
   ]
  },
  {
   "cell_type": "markdown",
   "metadata": {},
   "source": [
    "1- Start a new script and import the relevant packages."
   ]
  },
  {
   "cell_type": "code",
   "execution_count": 1,
   "metadata": {
    "collapsed": false
   },
   "outputs": [
    {
     "name": "stdout",
     "output_type": "stream",
     "text": [
      "imported numpy\n"
     ]
    }
   ],
   "source": [
    "import numpy as np #For this session we only require numpy\n",
    "print(\"imported numpy\")"
   ]
  },
  {
   "cell_type": "markdown",
   "metadata": {},
   "source": [
    "2- Read in the file optical.txt"
   ]
  },
  {
   "cell_type": "code",
   "execution_count": 2,
   "metadata": {
    "collapsed": false
   },
   "outputs": [
    {
     "name": "stdout",
     "output_type": "stream",
     "text": [
      "read optical.txt\n"
     ]
    }
   ],
   "source": [
    "filename = 'data/optical.txt'\n",
    "array1 = np.loadtxt(filename)\n",
    "print(\"read optical.txt\")"
   ]
  },
  {
   "cell_type": "markdown",
   "metadata": {},
   "source": [
    " a- What dimensions does the table have?"
   ]
  },
  {
   "cell_type": "code",
   "execution_count": 3,
   "metadata": {
    "collapsed": false
   },
   "outputs": [
    {
     "name": "stdout",
     "output_type": "stream",
     "text": [
      "(9, 13)\n"
     ]
    }
   ],
   "source": [
    "print array1.shape"
   ]
  },
  {
   "cell_type": "markdown",
   "metadata": {},
   "source": [
    "b. Convert all fluxes (columns with u,g,r,i,z, not the errors) to AB\n",
    "magnitudes and store them in separate variables. mAB = -2.5\\*log10(flux_in_mJy*1e-26)-48.6"
   ]
  },
  {
   "cell_type": "code",
   "execution_count": 5,
   "metadata": {
    "collapsed": false
   },
   "outputs": [
    {
     "name": "stdout",
     "output_type": "stream",
     "text": [
      "values loaded\n"
     ]
    },
    {
     "name": "stderr",
     "output_type": "stream",
     "text": [
      "/home/idies/anaconda3/envs/py27/lib/python2.7/site-packages/ipykernel/__main__.py:1: RuntimeWarning: invalid value encountered in log10\n",
      "  if __name__ == '__main__':\n"
     ]
    }
   ],
   "source": [
    "mags = -2.58*np.log10(array1[:,2:-1]*1e-26)-48.6 # note that there is a negative flux in u-band!\n",
    "mag_u, mag_g, mag_r, mag_i, mag_z = mags[:,0], mags[:,2], mags[:,4], mags[:,6], mags[:,8]\n",
    "mag_du, mag_dg, mag_dr, mag_di, mag_dz = mags[:,1], mags[:,3], mags[:,5], mags[:,7], mags[:,9]\n",
    "print(\"values loaded\")"
   ]
  },
  {
   "cell_type": "markdown",
   "metadata": {},
   "source": [
    "c- Create variables (z_flux, z_err etc.) for all columns."
   ]
  },
  {
   "cell_type": "code",
   "execution_count": 6,
   "metadata": {
    "collapsed": false
   },
   "outputs": [
    {
     "name": "stdout",
     "output_type": "stream",
     "text": [
      "created variables for columns\n"
     ]
    }
   ],
   "source": [
    "#u,g,r,i,z  colums correspond to columns 3,5,7,9,11\n",
    "u,g,r,i,z = array1[:,3:12:2].T\n",
    "du,dg,dr,di,dz = array1[:,4:13:2].T \n",
    "print(\"created variables for columns\")"
   ]
  },
  {
   "cell_type": "markdown",
   "metadata": {},
   "source": [
    "d- Assemble all the flux columns as a dictionary with the key names\n",
    "being the filter names (i.e. flux_u, flux_u_err etc.)"
   ]
  },
  {
   "cell_type": "code",
   "execution_count": 7,
   "metadata": {
    "collapsed": false
   },
   "outputs": [
    {
     "name": "stdout",
     "output_type": "stream",
     "text": [
      "stored as dict1\n"
     ]
    }
   ],
   "source": [
    "dict1 = {'flux_u':u, 'flux_u_err':du, 'flux_g':g, 'flux_g_err':dg, \n",
    "         'flux_r':r, 'flux_r_err':dr, 'flux_i':i, 'flux_i_err':di,\n",
    "         'flux_z':z, 'flux_z_err':dz}\n",
    "print(\"stored as dict1\")"
   ]
  },
  {
   "cell_type": "markdown",
   "metadata": {},
   "source": [
    "e. Which galaxy has a z flux of 0.0937952 mJy? (print on screen)"
   ]
  },
  {
   "cell_type": "code",
   "execution_count": 9,
   "metadata": {
    "collapsed": false
   },
   "outputs": [
    {
     "name": "stdout",
     "output_type": "stream",
     "text": [
      "['0211p000']\n"
     ]
    }
   ],
   "source": [
    "filename1 = 'data/optical_tag.txt'\n",
    "names = np.loadtxt(filename1, dtype='S10', usecols=[0]) \n",
    "w = np.where(z == 0.0937952) \n",
    "print names[w]"
   ]
  },
  {
   "cell_type": "markdown",
   "metadata": {},
   "source": [
    "f. Which galaxies have negative declinations? (print on screen)"
   ]
  },
  {
   "cell_type": "code",
   "execution_count": 10,
   "metadata": {
    "collapsed": false
   },
   "outputs": [
    {
     "name": "stdout",
     "output_type": "stream",
     "text": [
      "['3324m091' '0105m016' '0121p000' '0287m016']\n"
     ]
    }
   ],
   "source": [
    "# First we get the RA and DEC\n",
    "ra, dec = array1[:,0],array1[:,1]\n",
    "# Select galaxies with negative inclintations\n",
    "w1 = np.where(dec < 0.0)\n",
    "print names[w1]"
   ]
  },
  {
   "cell_type": "markdown",
   "metadata": {},
   "source": [
    "g. Which galaxy is the closest to us? (i.e. min redshift) (print on\n",
    "screen)"
   ]
  },
  {
   "cell_type": "code",
   "execution_count": 11,
   "metadata": {
    "collapsed": false
   },
   "outputs": [
    {
     "name": "stdout",
     "output_type": "stream",
     "text": [
      "['3324m091'] [ 0.1805]\n"
     ]
    }
   ],
   "source": [
    "# First we get the RA and DEC\n",
    "redshift = array1[:,2]\n",
    "w2 = np.where(redshift == np.min(redshift)) \n",
    "print names[w2], redshift[w2]"
   ]
  },
  {
   "cell_type": "markdown",
   "metadata": {},
   "source": [
    "h. What is the mean and median apparent magnitude (not flux) of\n",
    "each band in the sample? (print on screen)"
   ]
  },
  {
   "cell_type": "code",
   "execution_count": 12,
   "metadata": {
    "collapsed": false
   },
   "outputs": [
    {
     "name": "stdout",
     "output_type": "stream",
     "text": [
      "Median magnitudes: 19.323130373 26.1204830059 26.9278200568 26.5187044021 25.9312355445\n",
      "Mean magnitudes 19.4586869289 25.9396939653 26.730341948 26.2606894814 25.7310645196\n"
     ]
    }
   ],
   "source": [
    "Med_mag_u, Med_mag_g, Med_mag_r, Med_mag_i, Med_mag_z = np.median(mag_u), np.median(mag_g),np.median(mag_r),np.median(mag_i),np.median(mag_z)\n",
    "M_mag_u, M_mag_g, M_mag_r, M_mag_i, M_mag_z = np.mean(mag_u), np.mean(mag_g), np.mean(mag_r),  np.mean(mag_i), np.mean(mag_z)\n",
    "print 'Median magnitudes:',Med_mag_u, Med_mag_g, Med_mag_r, Med_mag_i, Med_mag_z\n",
    "print 'Mean magnitudes', M_mag_u, M_mag_g, M_mag_r, M_mag_i, M_mag_z"
   ]
  },
  {
   "cell_type": "markdown",
   "metadata": {},
   "source": [
    "i. Which galaxies have negative declination (dec < 0) and a redshift\n",
    "smaller than 0.5? (print on screen)"
   ]
  },
  {
   "cell_type": "code",
   "execution_count": 13,
   "metadata": {
    "collapsed": false
   },
   "outputs": [
    {
     "name": "stdout",
     "output_type": "stream",
     "text": [
      "['3324m091' '0287m016']\n"
     ]
    }
   ],
   "source": [
    "w3 = np.where( (dec < 0.0) & (redshift < 0.5) )\n",
    "print names[w3]"
   ]
  },
  {
   "cell_type": "markdown",
   "metadata": {},
   "source": [
    "j. Assume, that the error on the u-band flux is a Poisson error. What\n",
    "is the mean ratio between the Poisson estimated error (square root\n",
    "of the flux) and the tabulated u-band error?"
   ]
  },
  {
   "cell_type": "code",
   "execution_count": 14,
   "metadata": {
    "collapsed": false
   },
   "outputs": [
    {
     "name": "stdout",
     "output_type": "stream",
     "text": [
      "84.8416721456 [ 0.00240797  0.00319408  0.00086593  0.00104897  0.00123989  0.00094675\n",
      "  0.00109288  0.00163807] [ 0.18739344  0.22880538  0.07015718  0.12840561  0.07845419  0.08716743\n",
      "  0.09363546  0.13894747]\n"
     ]
    }
   ],
   "source": [
    "wa = u > 0.0 # There is a negative flux value in this band.\n",
    "ratio = np.mean(np.sqrt(u[wa])/du[wa])\n",
    "print ratio, du[wa], np.sqrt(u[wa]) "
   ]
  },
  {
   "cell_type": "markdown",
   "metadata": {},
   "source": [
    "k. Solve the following problem: Compute the overall mean flux error\n",
    "off all galaxies and all bands (mean_err_sample). Iterate over all galaxies and print the i band flux error for each galaxy (mean_err_gal_i). If the i band error of a galaxy is smaller than mean_err_sample, then set it to the value of mean_err_sample."
   ]
  },
  {
   "cell_type": "code",
   "execution_count": 15,
   "metadata": {
    "collapsed": false
   },
   "outputs": [
    {
     "name": "stdout",
     "output_type": "stream",
     "text": [
      "error of i-band\n",
      "0.00357667\n",
      "0.00392663\n",
      "0.000929956\n",
      "0.000984811\n",
      "0.000977344\n",
      "0.00169918\n",
      "0.000970162\n",
      "0.00129397\n",
      "0.0018933\n",
      "new i-band-error\n",
      "[ 0.00357667  0.00392663  0.00216627  0.00216627  0.00216627  0.00216627\n",
      "  0.00216627  0.00216627  0.00216627]\n"
     ]
    }
   ],
   "source": [
    "mean_err = np.mean([du,dg,dr,di,dz])\n",
    "\n",
    "print 'error of i-band'\n",
    "for i in di: \n",
    "    print i\n",
    "print 'new i-band-error'\n",
    "n  = range(9)\n",
    "for i in n:\n",
    "    if di[i] < mean_err:\n",
    "        di[i] = mean_err\n",
    "print di        "
   ]
  },
  {
   "cell_type": "code",
   "execution_count": 16,
   "metadata": {
    "collapsed": false
   },
   "outputs": [
    {
     "name": "stdout",
     "output_type": "stream",
     "text": [
      "0.00216626622222\n"
     ]
    }
   ],
   "source": [
    "print mean_err"
   ]
  },
  {
   "cell_type": "code",
   "execution_count": null,
   "metadata": {
    "collapsed": true
   },
   "outputs": [],
   "source": []
  }
 ],
 "metadata": {
  "kernelspec": {
   "display_name": "Python 2",
   "language": "python",
   "name": "python2"
  },
  "language_info": {
   "codemirror_mode": {
    "name": "ipython",
    "version": 2
   },
   "file_extension": ".py",
   "mimetype": "text/x-python",
   "name": "python",
   "nbconvert_exporter": "python",
   "pygments_lexer": "ipython2",
   "version": "2.7.11"
  }
 },
 "nbformat": 4,
 "nbformat_minor": 0
}
